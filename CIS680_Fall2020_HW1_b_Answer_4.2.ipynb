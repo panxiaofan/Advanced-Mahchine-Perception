{
  "nbformat": 4,
  "nbformat_minor": 0,
  "metadata": {
    "colab": {
      "name": "CIS680_Fall2020_HW1_b_Answer.ipynb",
      "provenance": [],
      "collapsed_sections": [],
      "toc_visible": true,
      "include_colab_link": true
    },
    "kernelspec": {
      "name": "python3",
      "display_name": "Python 3"
    },
    "accelerator": "GPU"
  },
  "cells": [
    {
      "cell_type": "markdown",
      "metadata": {
        "id": "view-in-github",
        "colab_type": "text"
      },
      "source": [
        "<a href=\"https://colab.research.google.com/github/panxiaofan/Advanced-Mahchine-Perception/blob/master/CIS680_Fall2020_HW1_b_Answer_4.2.ipynb\" target=\"_parent\"><img src=\"https://colab.research.google.com/assets/colab-badge.svg\" alt=\"Open In Colab\"/></a>"
      ]
    },
    {
      "cell_type": "markdown",
      "metadata": {
        "id": "mHbNxdP6eLd2",
        "colab_type": "text"
      },
      "source": [
        "# Google Drive\n",
        "\n",
        "This first code block attaches your google drive and makes a folder structure. You only need to run this when a new VM is assigned to you. To get your code as a single python file go through the following menus File->'Download .py'"
      ]
    },
    {
      "cell_type": "code",
      "metadata": {
        "id": "PYICcmTfdm0J",
        "colab_type": "code",
        "colab": {
          "base_uri": "https://localhost:8080/",
          "height": 35
        },
        "outputId": "a1d499ec-ea5b-490d-b694-c8eb5f90f539"
      },
      "source": [
        "import os\n",
        "from google.colab import drive\n",
        "\n",
        "# Mount google drive\n",
        "DRIVE_MOUNT='../content/gdrive'\n",
        "drive.mount(DRIVE_MOUNT)\n",
        "\n",
        "\n",
        "# create folder to write data to\n",
        "CIS680_FOLDER=os.path.join(DRIVE_MOUNT, 'My Drive', 'CIS680_2020')\n",
        "HOMEWORK_FOLDER=os.path.join(CIS680_FOLDER, 'HW1')\n",
        "os.makedirs(HOMEWORK_FOLDER, exist_ok=True)"
      ],
      "execution_count": 3,
      "outputs": [
        {
          "output_type": "stream",
          "text": [
            "Mounted at ../content/gdrive\n"
          ],
          "name": "stdout"
        }
      ]
    },
    {
      "cell_type": "markdown",
      "metadata": {
        "id": "pw-yUtFqiNFR",
        "colab_type": "text"
      },
      "source": [
        "# PyTorch\n",
        "\n",
        "This code block imports torch and torchvision which provide the libraries for use down below. PyTorch provides many utilities such as standard datasets, for this exercise we will use MNIST. Please see the torchvision documentation for how to instantiate the training and testing data split."
      ]
    },
    {
      "cell_type": "code",
      "metadata": {
        "id": "hguIwry8iH9S",
        "colab_type": "code",
        "colab": {}
      },
      "source": [
        "# torch and torchvision imports\n",
        "import torch\n",
        "import torchvision\n",
        "import numpy as np\n",
        "import torch\n",
        "import torch.nn as nn\n",
        "import torch.nn.functional as F\n",
        "import torch.optim as optim\n",
        "import matplotlib.pyplot as plt"
      ],
      "execution_count": 4,
      "outputs": []
    },
    {
      "cell_type": "markdown",
      "metadata": {
        "id": "EvNh3B3FiAPY",
        "colab_type": "text"
      },
      "source": [
        "# 3) Train a Convolutional Neural Network"
      ]
    },
    {
      "cell_type": "code",
      "metadata": {
        "id": "hQuOI_n_iEiF",
        "colab_type": "code",
        "colab": {}
      },
      "source": [
        "# Create your network here\n",
        "class HelloWorld(torch.nn.Module):\n",
        "  def __init__(self):\n",
        "    super(HelloWorld, self).__init__()\n",
        "    self.layer1 = nn.Sequential()                                        # 28 *28 *1\n",
        "    self.layer1.add_module(\"Conv1\", nn.Conv2d(in_channels=1, out_channels=32, kernel_size=5, padding=2))   # 28 *28 *32\n",
        "    self.layer1.add_module(\"BN1\", nn.BatchNorm2d(num_features=32))\n",
        "    self.layer1.add_module(\"Relu1\", nn.ReLU())\n",
        "    self.layer1.add_module(\"Pool1\", nn.AvgPool2d(kernel_size=2, stride=2, padding=0))             # 14 *14 *32 \n",
        "                                                 \n",
        "    self.layer2 = nn.Sequential()   \n",
        "    self.layer2.add_module(\"Conv2\", nn.Conv2d(in_channels=32, out_channels=32, kernel_size=5, padding=2))  # 14 *14 *32\n",
        "    self.layer2.add_module(\"BN2\", nn.BatchNorm2d(num_features=32))\n",
        "    self.layer2.add_module(\"Relu2\", nn.ReLU())\n",
        "    self.layer2.add_module(\"Pool2\", nn.AvgPool2d(kernel_size=2, stride=2, padding=0))            # 7 *7 *32\n",
        "\n",
        "    self.layer3 = nn.Sequential()\n",
        "    self.layer3.add_module(\"Conv3\", nn.Conv2d(in_channels=32, out_channels=64, kernel_size=5, padding=2))  # 7 *7 *64\n",
        "    self.layer3.add_module(\"BN3\", nn.BatchNorm2d(num_features=64))\n",
        "    self.layer3.add_module(\"Relu3\", nn.ReLU())\n",
        "    self.layer3.add_module(\"Pool3\", nn.AvgPool2d(kernel_size=2, stride=2, padding=0))         # 3 *3 *64\n",
        "\n",
        "    self.fully_connected1 = nn.Sequential()\n",
        "    self.fully_connected1.add_module(\"FC1\", nn.Linear(in_features=3 * 3 * 64, out_features=64))  \n",
        "    self.fully_connected1.add_module(\"BNFC1\", nn.BatchNorm1d(64))\n",
        "    self.fully_connected1.add_module(\"ReluFC1\", nn.ReLU())\n",
        "\n",
        "    self.fully_connected2 = nn.Sequential()\n",
        "    self.fully_connected2.add_module(\"FC2\", nn.Linear(in_features=64, out_features=10))\n",
        "    self.fully_connected2.add_module(\"SoftMax\", nn.Softmax())\n",
        "\n",
        "  \n",
        "  def forward(self, x):\n",
        "    x = self.layer1(x)\n",
        "    x = self.layer2(x)\n",
        "    x = self.layer3(x)\n",
        "    x = x.view(-1, 3 * 3 * 64)\n",
        "    x = self.fully_connected1(x)\n",
        "    x = self.fully_connected2(x)\n",
        "    return x\n",
        "  "
      ],
      "execution_count": 5,
      "outputs": []
    },
    {
      "cell_type": "code",
      "metadata": {
        "id": "huv-zujjmRbj",
        "colab_type": "code",
        "colab": {}
      },
      "source": [
        "batch_size_train = 64\n",
        "batch_size_test = 1000\n",
        "train_loader = torch.utils.data.DataLoader(\n",
        "  torchvision.datasets.MNIST(root='.', train=True, download=True,\n",
        "                             transform=torchvision.transforms.Compose([\n",
        "                               torchvision.transforms.ToTensor(),\n",
        "                               torchvision.transforms.Normalize(\n",
        "                                 (0.5,), (0.5,))\n",
        "                             ])),\n",
        "  batch_size=batch_size_train, shuffle=True)\n",
        "\n",
        "test_loader = torch.utils.data.DataLoader(\n",
        "  torchvision.datasets.MNIST(root='.', train=False, download=True,\n",
        "                             transform=torchvision.transforms.Compose([\n",
        "                               torchvision.transforms.ToTensor(),\n",
        "                               torchvision.transforms.Normalize(\n",
        "                                 (0.5,), (0.5,))\n",
        "                             ])),\n",
        "  batch_size=batch_size_test, shuffle=True)"
      ],
      "execution_count": 7,
      "outputs": []
    },
    {
      "cell_type": "code",
      "metadata": {
        "id": "2nBN8Exglojr",
        "colab_type": "code",
        "colab": {}
      },
      "source": [
        "def train(epoch):\n",
        "    my_first_network.train()\n",
        "    running_loss = 0\n",
        "    running_correct = 0\n",
        "    for batch_idx, (data, target) in enumerate(train_loader):\n",
        "        data, target = data.to(device), target.to(device)\n",
        "        optimizer.zero_grad()\n",
        "        output = my_first_network(data)\n",
        "        loss = error(output, target) \n",
        "        running_loss += loss.item() * data.size(0)\n",
        "        loss.backward()\n",
        "        optimizer.step()\n",
        "        predicted = torch.max(output.data, 1)[1] \n",
        "        running_correct += (predicted == target).sum()\n",
        "        if batch_idx % display_interval == 0:\n",
        "          print('Epoch : {} [{}/{} ({:.0f}%)]\\tLoss: {:.6f}\\t Accuracy:{:.3f}%'.format(\n",
        "                    epoch, batch_idx*len(data), len(train_loader.dataset), 100.*batch_idx / len(train_loader), loss.item(), float(running_correct*100) / float(batch_size_train*(batch_idx + 1))))\n",
        "    epoch_loss = running_loss / len(train_loader.dataset)\n",
        "    epoch_accu = float(running_correct) / len(train_loader.dataset)\n",
        "    train_losses.append(epoch_loss)\n",
        "    train_accuracy.append(epoch_accu)\n",
        "    print('\\nTrain set: Avg. loss: {:.4f}, Accuracy: {}/{} ({:.0f}%)\\n'.format(\n",
        "        epoch_loss, running_correct, len(train_loader.dataset),\n",
        "        100. * running_correct / len(train_loader.dataset)))\n",
        "def test(epoch):\n",
        "  my_first_network.eval()\n",
        "  running_loss = 0\n",
        "  running_correct = 0\n",
        "  with torch.no_grad():\n",
        "    for data, target in test_loader:\n",
        "      data, target = data.to(device), target.to(device)\n",
        "      output = my_first_network(data)\n",
        "      running_loss += error(output, target).item()* data.size(0)\n",
        "      predicted = torch.max(output.data, 1)[1] \n",
        "      running_correct += (predicted == target).sum()\n",
        "  epoch_loss = running_loss / len(test_loader.dataset)\n",
        "  epoch_accu = float(running_correct) / len(test_loader.dataset)\n",
        "  test_losses.append(epoch_loss)\n",
        "  test_accuracy.append(epoch_accu)\n",
        "  print('\\nTest set: Avg. loss: {:.4f}, Accuracy: {}/{} ({:.0f}%)\\n'.format(\n",
        "    epoch_loss, running_correct, len(test_loader.dataset),\n",
        "    100. * running_correct / len(test_loader.dataset)))\n",
        "  is_new_best(epoch_accu)\n",
        "def is_new_best(epoch_accu):\n",
        "  if (epoch_accu > 0.99 and epoch_accu == max(test_accuracy)):\n",
        "    PATH = HOMEWORK_FOLDER+'/pre-trained model'\n",
        "    torch.save(my_first_network.state_dict(), PATH)\n",
        "\n",
        "# Instantiate your network here\n",
        "torch.manual_seed(42)\n",
        "device = torch.device('cuda:0' if torch.cuda.is_available() else 'cpu')\n",
        "my_first_network = HelloWorld().to(device)\n",
        "learning_rate = 0.002\n",
        "optimizer = torch.optim.Adam(my_first_network.parameters(),lr=learning_rate)\n",
        "error = nn.CrossEntropyLoss()\n",
        "display_interval = 50\n",
        "train_losses = []\n",
        "train_accuracy = []\n",
        "test_losses = []\n",
        "test_accuracy = []\n",
        "# Train your network here\n",
        "num_epochs = 5\n",
        "for epoch in range(num_epochs):\n",
        "  train(epoch)\n",
        "  test(epoch)"
      ],
      "execution_count": 6,
      "outputs": []
    },
    {
      "cell_type": "markdown",
      "metadata": {
        "id": "tSGydqA0aJmO",
        "colab_type": "text"
      },
      "source": [
        "**Training & Testing Loss**"
      ]
    },
    {
      "cell_type": "code",
      "metadata": {
        "id": "xD-PGcLrP_0d",
        "colab_type": "code",
        "colab": {
          "base_uri": "https://localhost:8080/",
          "height": 295
        },
        "outputId": "1e037279-6970-44fa-d4bc-e9591bbab5fd"
      },
      "source": [
        "import numpy as np\n",
        "import matplotlib.pyplot as plt\n",
        "fig = plt.figure()\n",
        "plt.plot(np.arange(1, num_epochs + 1), np.array(train_losses))\n",
        "plt.plot(np.arange(1, num_epochs + 1), np.array(test_losses))\n",
        "plt.legend(['Train','Test'], loc='upper right')\n",
        "plt.xlabel('Number of Epochs')\n",
        "plt.ylabel('Cross Entropy Loss')\n",
        "plt.xticks(range(1,num_epochs + 1))\n",
        "plt.title('Cross Entropy Loss of Training and Testing')\n",
        "plt.savefig(HOMEWORK_FOLDER+'/Cross Entropy Loss of Training and Testing.png')\n",
        "plt.show()"
      ],
      "execution_count": 12,
      "outputs": [
        {
          "output_type": "display_data",
          "data": {
            "image/png": "[encoded data removed]",
            "text/plain": [
              "<Figure size 432x288 with 1 Axes>"
            ]
          },
          "metadata": {
            "tags": [],
            "needs_background": "light"
          }
        }
      ]
    },
    {
      "cell_type": "markdown",
      "metadata": {
        "id": "4UXwZi8g2G1d",
        "colab_type": "text"
      },
      "source": [
        "**Training & Testing Accuracy**"
      ]
    },
    {
      "cell_type": "code",
      "metadata": {
        "id": "aqxLEybP01n1",
        "colab_type": "code",
        "colab": {
          "base_uri": "https://localhost:8080/",
          "height": 295
        },
        "outputId": "d7c6756e-9d11-4f19-d71f-5fa312ab4fe7"
      },
      "source": [
        "import numpy as np\n",
        "import matplotlib.pyplot as plt\n",
        "fig = plt.figure()\n",
        "plt.plot(np.arange(1, num_epochs + 1), np.array(train_accuracy))\n",
        "plt.plot(np.arange(1, num_epochs + 1), np.array(test_accuracy))\n",
        "plt.legend(['Train','Test'], loc='upper right')\n",
        "plt.xlabel('Number of Epochs')\n",
        "plt.ylabel('Accuracy')\n",
        "plt.xticks(range(1,num_epochs + 1))\n",
        "plt.title('Accuracy of training and testing')\n",
        "plt.savefig(HOMEWORK_FOLDER+'/Accuracy of training and testing.png')\n",
        "plt.show()"
      ],
      "execution_count": 13,
      "outputs": [
        {
          "output_type": "display_data",
          "data": {
            "image/png": "[encoded data removed]",
            "text/plain": [
              "<Figure size 432x288 with 1 Axes>"
            ]
          },
          "metadata": {
            "tags": [],
            "needs_background": "light"
          }
        }
      ]
    },
    {
      "cell_type": "code",
      "metadata": {
        "id": "5SzMwFH9ssOn",
        "colab_type": "code",
        "colab": {
          "base_uri": "https://localhost:8080/",
          "height": 124
        },
        "outputId": "7c6b5e7b-bcc0-401d-9ae3-d138ac879191"
      },
      "source": [
        "device = torch.device('cuda:0' if torch.cuda.is_available() else 'cpu')\n",
        "PATH = HOMEWORK_FOLDER+'/pre-trained model'\n",
        "model = HelloWorld()\n",
        "model.load_state_dict(torch.load(PATH))\n",
        "model.to(device)\n",
        "\n",
        "running_loss = 0\n",
        "running_correct = 0\n",
        "with torch.no_grad():\n",
        "  for data, target in test_loader:\n",
        "    data, target = data.to(device), target.to(device)\n",
        "    output = model(data)\n",
        "    running_loss += error(output, target).item()* data.size(0)\n",
        "    predicted = torch.max(output.data, 1)[1] \n",
        "    running_correct += (predicted == target).sum()\n",
        "epoch_loss = running_loss / len(test_loader.dataset)\n",
        "epoch_accu = float(running_correct) / len(test_loader.dataset)\n",
        "\n",
        "print('\\nTest set: Avg. loss: {:.4f}, Accuracy: {}/{} ({:.0f}%)\\n'.format(\n",
        "  epoch_loss, running_correct, len(test_loader.dataset),\n",
        "  100. * running_correct / len(test_loader.dataset)))\n",
        "is_new_best(epoch_accu)"
      ],
      "execution_count": 14,
      "outputs": [
        {
          "output_type": "stream",
          "text": [
            "/usr/local/lib/python3.6/dist-packages/torch/nn/modules/container.py:117: UserWarning: Implicit dimension choice for softmax has been deprecated. Change the call to include dim=X as an argument.\n",
            "  input = module(input)\n"
          ],
          "name": "stderr"
        },
        {
          "output_type": "stream",
          "text": [
            "\n",
            "Test set: Avg. loss: 1.4685, Accuracy: 9932/10000 (99%)\n",
            "\n"
          ],
          "name": "stdout"
        }
      ]
    },
    {
      "cell_type": "markdown",
      "metadata": {
        "id": "LeWPRTuf_HqF",
        "colab_type": "text"
      },
      "source": [
        "# **Q 4.1**"
      ]
    },
    {
      "cell_type": "code",
      "metadata": {
        "id": "qht-u6pI83qo",
        "colab_type": "code",
        "colab": {
          "base_uri": "https://localhost:8080/",
          "height": 1000
        },
        "outputId": "b90558c2-4c91-4028-f4db-18bd8f2426c1"
      },
      "source": [
        "  # Define what device we are using\n",
        "  print(\"CUDA Available: \",torch.cuda.is_available())\n",
        "  use_cuda=True\n",
        "  device = torch.device(\"cuda\" if (use_cuda and torch.cuda.is_available()) else \"cpu\")\n",
        "\n",
        "  # Set the model in evaluation mode. In this case this is for the Dropout layers\n",
        "  PATH = HOMEWORK_FOLDER+'/pre-trained model'\n",
        "  model = HelloWorld().to(device)\n",
        "  model.load_state_dict(torch.load(PATH))\n",
        "  model.eval()\n",
        "  test_loader_each = torch.utils.data.DataLoader(\n",
        "  torchvision.datasets.MNIST(root='.', train=False, download=True,\n",
        "                             transform=torchvision.transforms.Compose([\n",
        "                               torchvision.transforms.ToTensor(),\n",
        "                               torchvision.transforms.Normalize(\n",
        "                                 (0.5,), (0.5,))\n",
        "                             ])),\n",
        "  batch_size=1, shuffle=True)\n",
        "\n",
        "  def fgsm_attack(input_image, epsilon, perturbation_grad, perturbation):\n",
        "    sign_perturbation_grad = torch.sign(perturbation_grad.data)\n",
        "    perturbation.data += torch.clamp(epsilon * sign_perturbation_grad, min = 0, max = 1)\n",
        "    perturbed_image = input_image +  perturbation.data\n",
        "    perturbed_image = torch.clamp(perturbed_image, -1, 1)\n",
        "    perturbation.data = perturbed_image - input_image\n",
        "    return perturbation\n",
        "\n",
        "  error = nn.CrossEntropyLoss()\n",
        "  fig = plt.figure()\n",
        "  for i in range(2):  \n",
        "    test_iterator=iter(test_loader_each)\n",
        "    test_images, test_labels=test_iterator.next()\n",
        "    test_images, test_labels=test_images.to(device), test_labels.to(device)\n",
        "    output = model(test_images)\n",
        "    predicted = torch.max(output.data, 1)[1] \n",
        "    print(\"true label: {} \".format(predicted.detach().cpu().item()))\n",
        "    orig_images=test_images.detach().cpu()\n",
        "    print(orig_images.size())\n",
        "    orig_images = np.squeeze(orig_images)\n",
        "    plt.imshow(orig_images)\n",
        "    plt.savefig(HOMEWORK_FOLDER+'/No.'+ str(i)+' untarget_attack_original_image.png')\n",
        "    plt.show()\n",
        "    # Accuracy counter\n",
        "    epsilon = 0.001\n",
        "    num_training_episode = 100000\n",
        "    data = test_images\n",
        "    target = test_labels\n",
        "    model.eval()\n",
        "\n",
        "    # Send the data and label to the device\n",
        "    data, target = data.to(device), target.to(device)\n",
        "    perturbation = torch.zeros(data.shape).to(device)\n",
        "    perturbation.requires_grad = True\n",
        "\n",
        "    # If the initial prediction is wrong, dont bother attacking, just move on\n",
        "    if predicted.item() == target.item():\n",
        "      for j in range(num_training_episode):\n",
        "          model.zero_grad()\n",
        "          output = model(data + perturbation)\n",
        "          loss = error(output, target)\n",
        "          loss.backward()\n",
        "          perturbation_grad = perturbation.grad.data\n",
        "          # Call FGSM Attack\n",
        "          perturbation = fgsm_attack(data, epsilon, perturbation_grad, perturbation)\n",
        "          \n",
        "          # Re-classify the perturbed image\n",
        "          output = model(data + perturbation)\n",
        "          predicted = torch.max(output.data, 1)[1]  # get the index of the max log-probability\n",
        "                    \n",
        "          # Calculate the loss       \n",
        "          if j % 100 == 1:\n",
        "            print('\\nloss: {:.3f}, current_predict_label: {}\\n'.format(\n",
        "            loss.detach().cpu().item(), predicted.detach().cpu().item()))\n",
        "\n",
        "          if predicted.item() != target.item() and torch.max(output.data)>= 0.9:\n",
        "            print(\"misclassified label: {} \".format(predicted.detach().cpu().item()))\n",
        "            final_perturbed_image = (data + perturbation).detach().cpu()\n",
        "            final_perturbed_image = np.squeeze(final_perturbed_image)\n",
        "            plt.imshow(final_perturbed_image)\n",
        "            plt.show() \n",
        "            plt.savefig(HOMEWORK_FOLDER+'/No.'+ str(i)+' untarget_attack_new_image.png')\n",
        "            break\n"
      ],
      "execution_count": 92,
      "outputs": [
        {
          "output_type": "stream",
          "text": [
            "CUDA Available:  True\n",
            "true label: 9 \n",
            "torch.Size([1, 1, 28, 28])\n"
          ],
          "name": "stdout"
        },
        {
          "output_type": "stream",
          "text": [
            "/usr/local/lib/python3.6/dist-packages/torch/nn/modules/container.py:117: UserWarning: Implicit dimension choice for softmax has been deprecated. Change the call to include dim=X as an argument.\n",
            "  input = module(input)\n"
          ],
          "name": "stderr"
        },
        {
          "output_type": "display_data",
          "data": {
            "image/png": "[encoded data removed]",
            "text/plain": [
              "<Figure size 432x288 with 1 Axes>"
            ]
          },
          "metadata": {
            "tags": [],
            "needs_background": "light"
          }
        },
        {
          "output_type": "stream",
          "text": [
            "\n",
            "loss: 1.461, current_predict_label: 9\n",
            "\n",
            "\n",
            "loss: 1.461, current_predict_label: 9\n",
            "\n",
            "\n",
            "loss: 2.196, current_predict_label: 4\n",
            "\n",
            "misclassified label: 4 \n"
          ],
          "name": "stdout"
        },
        {
          "output_type": "display_data",
          "data": {
            "image/png": "[encoded data removed]",
            "text/plain": [
              "<Figure size 432x288 with 1 Axes>"
            ]
          },
          "metadata": {
            "tags": [],
            "needs_background": "light"
          }
        },
        {
          "output_type": "stream",
          "text": [
            "true label: 5 \n",
            "torch.Size([1, 1, 28, 28])\n"
          ],
          "name": "stdout"
        },
        {
          "output_type": "display_data",
          "data": {
            "image/png": "[encoded data removed]",
            "text/plain": [
              "<Figure size 432x288 with 1 Axes>"
            ]
          },
          "metadata": {
            "tags": [],
            "needs_background": "light"
          }
        },
        {
          "output_type": "stream",
          "text": [
            "\n",
            "loss: 1.461, current_predict_label: 5\n",
            "\n",
            "\n",
            "loss: 1.486, current_predict_label: 5\n",
            "\n",
            "misclassified label: 6 \n"
          ],
          "name": "stdout"
        },
        {
          "output_type": "display_data",
          "data": {
            "image/png": "[encoded data removed]",
            "text/plain": [
              "<Figure size 432x288 with 1 Axes>"
            ]
          },
          "metadata": {
            "tags": [],
            "needs_background": "light"
          }
        },
        {
          "output_type": "display_data",
          "data": {
            "text/plain": [
              "<Figure size 432x288 with 0 Axes>"
            ]
          },
          "metadata": {
            "tags": []
          }
        }
      ]
    },
    {
      "cell_type": "markdown",
      "metadata": {
        "id": "b_7Swy6w_Syk",
        "colab_type": "text"
      },
      "source": [
        "# Q 4.2"
      ]
    },
    {
      "cell_type": "code",
      "metadata": {
        "id": "ptIbh28qVmEu",
        "colab_type": "code",
        "colab": {
          "base_uri": "https://localhost:8080/",
          "height": 757
        },
        "outputId": "cfd92a85-988f-4974-bdf5-996af4af9cbb"
      },
      "source": [
        "  def fgsm_attack(input_image, epsilon, perturbation_grad, perturbation):\n",
        "    sign_perturbation_grad = torch.sign(perturbation_grad.data)\n",
        "    perturbation.data += torch.clamp(epsilon * sign_perturbation_grad, min = 0, max = 1)\n",
        "    perturbed_image = input_image +  perturbation.data\n",
        "    perturbed_image = torch.clamp(perturbed_image, -1, 1)\n",
        "    perturbation.data = perturbed_image - input_image\n",
        "    return perturbation\n",
        "  # Define what device we are using\n",
        "  print(\"CUDA Available: \",torch.cuda.is_available())\n",
        "  use_cuda=True\n",
        "  device = torch.device(\"cuda\" if (use_cuda and torch.cuda.is_available()) else \"cpu\")\n",
        "\n",
        "  # Set the model in evaluation mode. In this case this is for the Dropout layers\n",
        "  PATH = HOMEWORK_FOLDER+'/pre-trained model'\n",
        "  model = HelloWorld().to(device)\n",
        "  model.load_state_dict(torch.load(PATH))\n",
        "  model.eval()\n",
        "  test_loader_each = torch.utils.data.DataLoader(\n",
        "  torchvision.datasets.MNIST(root='.', train=False, download=True,\n",
        "                             transform=torchvision.transforms.Compose([\n",
        "                               torchvision.transforms.ToTensor(),\n",
        "                               torchvision.transforms.Normalize(\n",
        "                                 (0.5,), (0.5,))\n",
        "                             ])),\n",
        "  batch_size=1, shuffle=True)\n",
        "\n",
        "  test_iterator=iter(test_loader_each)\n",
        "  test_images, test_labels=test_iterator.next()\n",
        "  test_images, test_labels=test_images.to(device), test_labels.to(device)\n",
        "  output = model(test_images)\n",
        "  initial_predicted = torch.max(output.data, 1)[1] \n",
        "  orig_images=test_images.detach().cpu()\n",
        "  orig_images = np.squeeze(orig_images)\n",
        "  plt.imshow(orig_images)\n",
        "  plt.savefig(HOMEWORK_FOLDER+'/target_attack_original_image.png')\n",
        "  plt.show()\n",
        "  print('\\ntrue label: {}, initial predict: {}\\n'.format(test_labels.detach().cpu().item(), initial_predicted.detach().cpu().item()))\n",
        "\n",
        "  epsilon = 0.2\n",
        "  num_training_episode = 100000\n",
        "  data = test_images\n",
        "  y_truth = test_labels\n",
        "  target = torch.tensor([4])\n",
        "  model.eval()\n",
        "  model.to(device)\n",
        "  error = nn.CrossEntropyLoss()\n",
        "\n",
        "  # Send the data and label to the device\n",
        "  data, target = data.to(device), target.to(device)\n",
        "  perturbation = torch.zeros(data.shape).to(device)\n",
        "  perturbation.requires_grad = True\n",
        "\n",
        "  # If the initial prediction is wrong, dont bother attacking, just move on\n",
        "  if initial_predicted.item() != target.item():\n",
        "    for j in range(num_training_episode):\n",
        "        model.zero_grad()\n",
        "        output = model(data + perturbation)\n",
        "        loss = -error(output, target)\n",
        "        loss.backward()\n",
        "        perturbation_grad = perturbation.grad.data\n",
        "        # Call FGSM Attack\n",
        "        perturbation = fgsm_attack(data, epsilon, perturbation_grad, perturbation)\n",
        "        \n",
        "        # Re-classify the perturbed image\n",
        "        output = model(data + perturbation)\n",
        "        predicted = torch.max(output.data, 1)[1]  # get the index of the max log-probability\n",
        "                  \n",
        "        # Calculate the loss       \n",
        "        if j % 100 == 1:\n",
        "          print('\\nloss: {:.3f}, current_predict_label: {}\\n'.format(\n",
        "          loss.detach().cpu().item(), predicted.detach().cpu().item()))\n",
        "        if predicted.item() == target.item():\n",
        "          print('\\ntrue label: {}, initial predict: {},target label:{}\\n'.format(\n",
        "              y_truth.detach().cpu().item(), initial_predicted.detach().cpu().item(),target.detach().cpu().item()))\n",
        "          final_perturbed_image = (data + perturbation).detach().cpu()\n",
        "          final_perturbed_image = np.squeeze(final_perturbed_image)\n",
        "          plt.imshow(final_perturbed_image)\n",
        "          plt.show() \n",
        "          plt.savefig(HOMEWORK_FOLDER+'/target_attack_new_image.png')\n",
        "          break\n"
      ],
      "execution_count": 95,
      "outputs": [
        {
          "output_type": "stream",
          "text": [
            "CUDA Available:  True\n"
          ],
          "name": "stdout"
        },
        {
          "output_type": "stream",
          "text": [
            "/usr/local/lib/python3.6/dist-packages/torch/nn/modules/container.py:117: UserWarning: Implicit dimension choice for softmax has been deprecated. Change the call to include dim=X as an argument.\n",
            "  input = module(input)\n"
          ],
          "name": "stderr"
        },
        {
          "output_type": "display_data",
          "data": {
            "image/png": "[encoded data removed]",
            "text/plain": [
              "<Figure size 432x288 with 1 Axes>"
            ]
          },
          "metadata": {
            "tags": [],
            "needs_background": "light"
          }
        },
        {
          "output_type": "stream",
          "text": [
            "\n",
            "true label: 7, initial predict: 7\n",
            "\n",
            "\n",
            "loss: -2.461, current_predict_label: 9\n",
            "\n",
            "\n",
            "true label: 7, initial predict: 7,target label:4\n",
            "\n"
          ],
          "name": "stdout"
        },
        {
          "output_type": "display_data",
          "data": {
            "image/png": "[encoded data removed]",
            "text/plain": [
              "<Figure size 432x288 with 1 Axes>"
            ]
          },
          "metadata": {
            "tags": [],
            "needs_background": "light"
          }
        },
        {
          "output_type": "display_data",
          "data": {
            "text/plain": [
              "<Figure size 432x288 with 0 Axes>"
            ]
          },
          "metadata": {
            "tags": []
          }
        }
      ]
    },
    {
      "cell_type": "markdown",
      "metadata": {
        "id": "DTXDSTRi_Via",
        "colab_type": "text"
      },
      "source": [
        "# **Retrain network**"
      ]
    },
    {
      "cell_type": "code",
      "metadata": {
        "id": "klFoaKbFoFTs",
        "colab_type": "code",
        "colab": {
          "base_uri": "https://localhost:8080/",
          "height": 1000
        },
        "outputId": "39abcbb4-eb1d-49bf-809d-27eb16051285"
      },
      "source": [
        "def train(epoch):\n",
        "    my_first_network.train()\n",
        "    running_loss = 0\n",
        "    running_correct = 0\n",
        "    for batch_idx, (data, target) in enumerate(train_loader):\n",
        "        data, target = data.to(device), target.to(device)\n",
        "        optimizer.zero_grad()\n",
        "        output = my_first_network(data)\n",
        "        loss = error(output, target) \n",
        "        running_loss += loss.item() * data.size(0)\n",
        "        loss.backward()\n",
        "        optimizer.step()\n",
        "        predicted = torch.max(output.data, 1)[1] \n",
        "        running_correct += (predicted == target).sum()\n",
        "        if batch_idx % display_interval == 0:\n",
        "          print('Epoch : {} [{}/{} ({:.0f}%)]\\tLoss: {:.6f}\\t Accuracy:{:.3f}%'.format(\n",
        "                    epoch, batch_idx*len(data), len(train_loader.dataset), 100.*batch_idx / len(train_loader), loss.item(), float(running_correct*100) / float(batch_size_train*(batch_idx + 1))))\n",
        "    epoch_loss = running_loss / len(train_loader.dataset)\n",
        "    epoch_accu = float(running_correct) / len(train_loader.dataset)\n",
        "    train_losses.append(epoch_loss)\n",
        "    train_accuracy.append(epoch_accu)\n",
        "    print('\\nTrain set: Avg. loss: {:.4f}, Accuracy: {}/{} ({:.0f}%)\\n'.format(\n",
        "        epoch_loss, running_correct, len(train_loader.dataset),\n",
        "        100. * running_correct / len(train_loader.dataset)))\n",
        "def test(epoch):\n",
        "  my_first_network.eval()\n",
        "  running_loss = 0\n",
        "  running_correct = 0\n",
        "  with torch.no_grad():\n",
        "    for data, target in test_loader:\n",
        "      data, target = data.to(device), target.to(device)\n",
        "      output = my_first_network(data)\n",
        "      running_loss += error(output, target).item()* data.size(0)\n",
        "      predicted = torch.max(output.data, 1)[1] \n",
        "      running_correct += (predicted == target).sum()\n",
        "  epoch_loss = running_loss / len(test_loader.dataset)\n",
        "  epoch_accu = float(running_correct) / len(test_loader.dataset)\n",
        "  test_losses.append(epoch_loss)\n",
        "  test_accuracy.append(epoch_accu)\n",
        "  print('\\nTest set: Avg. loss: {:.4f}, Accuracy: {}/{} ({:.0f}%)\\n'.format(\n",
        "    epoch_loss, running_correct, len(test_loader.dataset),\n",
        "    100. * running_correct / len(test_loader.dataset)))\n",
        "  is_new_best(epoch_accu)\n",
        "def is_new_best(epoch_accu):\n",
        "  if (epoch_accu > 0.99 and epoch_accu == max(test_accuracy)):\n",
        "    PATH = HOMEWORK_FOLDER+'/re-trained model'\n",
        "    torch.save(my_first_network.state_dict(), PATH)\n",
        "\n",
        "# Instantiate your network here\n",
        "torch.manual_seed(0)\n",
        "device = torch.device('cuda:0' if torch.cuda.is_available() else 'cpu')\n",
        "my_first_network = HelloWorld().to(device)\n",
        "learning_rate = 0.002\n",
        "optimizer = torch.optim.Adam(my_first_network.parameters(),lr=learning_rate)\n",
        "error = nn.CrossEntropyLoss()\n",
        "display_interval = 50\n",
        "train_losses = []\n",
        "train_accuracy = []\n",
        "test_losses = []\n",
        "test_accuracy = []\n",
        "# Train your network here\n",
        "num_epochs = 5\n",
        "for epoch in range(num_epochs):\n",
        "  train(epoch)\n",
        "  test(epoch)"
      ],
      "execution_count": 82,
      "outputs": [
        {
          "output_type": "stream",
          "text": [
            "/usr/local/lib/python3.6/dist-packages/torch/nn/modules/container.py:117: UserWarning: Implicit dimension choice for softmax has been deprecated. Change the call to include dim=X as an argument.\n",
            "  input = module(input)\n"
          ],
          "name": "stderr"
        },
        {
          "output_type": "stream",
          "text": [
            "Epoch : 0 [0/60000 (0%)]\tLoss: 2.307219\t Accuracy:7.812%\n",
            "Epoch : 0 [3200/60000 (5%)]\tLoss: 1.554251\t Accuracy:86.275%\n",
            "Epoch : 0 [6400/60000 (11%)]\tLoss: 1.503859\t Accuracy:91.352%\n",
            "Epoch : 0 [9600/60000 (16%)]\tLoss: 1.500562\t Accuracy:93.440%\n",
            "Epoch : 0 [12800/60000 (21%)]\tLoss: 1.469090\t Accuracy:94.504%\n",
            "Epoch : 0 [16000/60000 (27%)]\tLoss: 1.507271\t Accuracy:95.182%\n",
            "Epoch : 0 [19200/60000 (32%)]\tLoss: 1.514858\t Accuracy:95.660%\n",
            "Epoch : 0 [22400/60000 (37%)]\tLoss: 1.500023\t Accuracy:95.989%\n",
            "Epoch : 0 [25600/60000 (43%)]\tLoss: 1.495893\t Accuracy:96.236%\n",
            "Epoch : 0 [28800/60000 (48%)]\tLoss: 1.468526\t Accuracy:96.435%\n",
            "Epoch : 0 [32000/60000 (53%)]\tLoss: 1.470120\t Accuracy:96.616%\n",
            "Epoch : 0 [35200/60000 (59%)]\tLoss: 1.464085\t Accuracy:96.770%\n",
            "Epoch : 0 [38400/60000 (64%)]\tLoss: 1.492920\t Accuracy:96.885%\n",
            "Epoch : 0 [41600/60000 (69%)]\tLoss: 1.482687\t Accuracy:97.000%\n",
            "Epoch : 0 [44800/60000 (75%)]\tLoss: 1.495006\t Accuracy:97.100%\n",
            "Epoch : 0 [48000/60000 (80%)]\tLoss: 1.468948\t Accuracy:97.202%\n",
            "Epoch : 0 [51200/60000 (85%)]\tLoss: 1.471479\t Accuracy:97.292%\n",
            "Epoch : 0 [54400/60000 (91%)]\tLoss: 1.501696\t Accuracy:97.367%\n",
            "Epoch : 0 [57600/60000 (96%)]\tLoss: 1.478115\t Accuracy:97.444%\n",
            "\n",
            "Train set: Avg. loss: 1.5058, Accuracy: 58490/60000 (97%)\n",
            "\n",
            "\n",
            "Test set: Avg. loss: 1.4893, Accuracy: 9756/10000 (98%)\n",
            "\n",
            "Epoch : 1 [0/60000 (0%)]\tLoss: 1.479872\t Accuracy:98.438%\n",
            "Epoch : 1 [3200/60000 (5%)]\tLoss: 1.470260\t Accuracy:98.805%\n",
            "Epoch : 1 [6400/60000 (11%)]\tLoss: 1.463621\t Accuracy:98.824%\n",
            "Epoch : 1 [9600/60000 (16%)]\tLoss: 1.498856\t Accuracy:98.800%\n",
            "Epoch : 1 [12800/60000 (21%)]\tLoss: 1.487042\t Accuracy:98.787%\n",
            "Epoch : 1 [16000/60000 (27%)]\tLoss: 1.478426\t Accuracy:98.817%\n",
            "Epoch : 1 [19200/60000 (32%)]\tLoss: 1.477115\t Accuracy:98.749%\n",
            "Epoch : 1 [22400/60000 (37%)]\tLoss: 1.475629\t Accuracy:98.709%\n",
            "Epoch : 1 [25600/60000 (43%)]\tLoss: 1.481947\t Accuracy:98.702%\n",
            "Epoch : 1 [28800/60000 (48%)]\tLoss: 1.461877\t Accuracy:98.722%\n",
            "Epoch : 1 [32000/60000 (53%)]\tLoss: 1.477369\t Accuracy:98.687%\n",
            "Epoch : 1 [35200/60000 (59%)]\tLoss: 1.463499\t Accuracy:98.693%\n",
            "Epoch : 1 [38400/60000 (64%)]\tLoss: 1.462586\t Accuracy:98.682%\n",
            "Epoch : 1 [41600/60000 (69%)]\tLoss: 1.501587\t Accuracy:98.680%\n",
            "Epoch : 1 [44800/60000 (75%)]\tLoss: 1.467820\t Accuracy:98.696%\n",
            "Epoch : 1 [48000/60000 (80%)]\tLoss: 1.462475\t Accuracy:98.700%\n",
            "Epoch : 1 [51200/60000 (85%)]\tLoss: 1.461200\t Accuracy:98.714%\n",
            "Epoch : 1 [54400/60000 (91%)]\tLoss: 1.461388\t Accuracy:98.728%\n",
            "Epoch : 1 [57600/60000 (96%)]\tLoss: 1.492890\t Accuracy:98.722%\n",
            "\n",
            "Train set: Avg. loss: 1.4757, Accuracy: 59240/60000 (99%)\n",
            "\n",
            "\n",
            "Test set: Avg. loss: 1.4766, Accuracy: 9859/10000 (99%)\n",
            "\n",
            "Epoch : 2 [0/60000 (0%)]\tLoss: 1.468451\t Accuracy:100.000%\n",
            "Epoch : 2 [3200/60000 (5%)]\tLoss: 1.461426\t Accuracy:99.142%\n",
            "Epoch : 2 [6400/60000 (11%)]\tLoss: 1.469902\t Accuracy:99.226%\n",
            "Epoch : 2 [9600/60000 (16%)]\tLoss: 1.472245\t Accuracy:99.162%\n",
            "Epoch : 2 [12800/60000 (21%)]\tLoss: 1.461921\t Accuracy:99.160%\n",
            "Epoch : 2 [16000/60000 (27%)]\tLoss: 1.462643\t Accuracy:99.104%\n",
            "Epoch : 2 [19200/60000 (32%)]\tLoss: 1.478152\t Accuracy:99.060%\n",
            "Epoch : 2 [22400/60000 (37%)]\tLoss: 1.489674\t Accuracy:99.065%\n",
            "Epoch : 2 [25600/60000 (43%)]\tLoss: 1.461196\t Accuracy:99.061%\n",
            "Epoch : 2 [28800/60000 (48%)]\tLoss: 1.465474\t Accuracy:99.026%\n",
            "Epoch : 2 [32000/60000 (53%)]\tLoss: 1.483332\t Accuracy:99.008%\n",
            "Epoch : 2 [35200/60000 (59%)]\tLoss: 1.461220\t Accuracy:98.999%\n",
            "Epoch : 2 [38400/60000 (64%)]\tLoss: 1.462013\t Accuracy:98.976%\n",
            "Epoch : 2 [41600/60000 (69%)]\tLoss: 1.463633\t Accuracy:98.966%\n",
            "Epoch : 2 [44800/60000 (75%)]\tLoss: 1.477562\t Accuracy:98.972%\n",
            "Epoch : 2 [48000/60000 (80%)]\tLoss: 1.495605\t Accuracy:98.960%\n",
            "Epoch : 2 [51200/60000 (85%)]\tLoss: 1.475629\t Accuracy:98.951%\n",
            "Epoch : 2 [54400/60000 (91%)]\tLoss: 1.461461\t Accuracy:98.952%\n",
            "Epoch : 2 [57600/60000 (96%)]\tLoss: 1.461392\t Accuracy:98.977%\n",
            "\n",
            "Train set: Avg. loss: 1.4726, Accuracy: 59389/60000 (99%)\n",
            "\n",
            "\n",
            "Test set: Avg. loss: 1.4740, Accuracy: 9884/10000 (99%)\n",
            "\n",
            "Epoch : 3 [0/60000 (0%)]\tLoss: 1.484422\t Accuracy:98.438%\n",
            "Epoch : 3 [3200/60000 (5%)]\tLoss: 1.469918\t Accuracy:99.020%\n",
            "Epoch : 3 [6400/60000 (11%)]\tLoss: 1.463366\t Accuracy:99.041%\n",
            "Epoch : 3 [9600/60000 (16%)]\tLoss: 1.476341\t Accuracy:99.110%\n",
            "Epoch : 3 [12800/60000 (21%)]\tLoss: 1.461404\t Accuracy:99.059%\n",
            "Epoch : 3 [16000/60000 (27%)]\tLoss: 1.461229\t Accuracy:99.091%\n",
            "Epoch : 3 [19200/60000 (32%)]\tLoss: 1.484837\t Accuracy:99.076%\n",
            "Epoch : 3 [22400/60000 (37%)]\tLoss: 1.483708\t Accuracy:99.021%\n",
            "Epoch : 3 [25600/60000 (43%)]\tLoss: 1.476908\t Accuracy:98.991%\n",
            "Epoch : 3 [28800/60000 (48%)]\tLoss: 1.462965\t Accuracy:98.971%\n",
            "Epoch : 3 [32000/60000 (53%)]\tLoss: 1.461288\t Accuracy:98.999%\n",
            "Epoch : 3 [35200/60000 (59%)]\tLoss: 1.461475\t Accuracy:98.988%\n",
            "Epoch : 3 [38400/60000 (64%)]\tLoss: 1.462602\t Accuracy:98.991%\n",
            "Epoch : 3 [41600/60000 (69%)]\tLoss: 1.464226\t Accuracy:98.994%\n",
            "Epoch : 3 [44800/60000 (75%)]\tLoss: 1.476950\t Accuracy:99.006%\n",
            "Epoch : 3 [48000/60000 (80%)]\tLoss: 1.461584\t Accuracy:99.014%\n",
            "Epoch : 3 [51200/60000 (85%)]\tLoss: 1.461330\t Accuracy:99.021%\n",
            "Epoch : 3 [54400/60000 (91%)]\tLoss: 1.461413\t Accuracy:99.007%\n",
            "Epoch : 3 [57600/60000 (96%)]\tLoss: 1.461238\t Accuracy:99.010%\n",
            "\n",
            "Train set: Avg. loss: 1.4720, Accuracy: 59403/60000 (99%)\n",
            "\n",
            "\n",
            "Test set: Avg. loss: 1.4725, Accuracy: 9891/10000 (99%)\n",
            "\n",
            "Epoch : 4 [0/60000 (0%)]\tLoss: 1.489371\t Accuracy:96.875%\n",
            "Epoch : 4 [3200/60000 (5%)]\tLoss: 1.461300\t Accuracy:99.112%\n",
            "Epoch : 4 [6400/60000 (11%)]\tLoss: 1.478711\t Accuracy:99.103%\n",
            "Epoch : 4 [9600/60000 (16%)]\tLoss: 1.470719\t Accuracy:99.131%\n",
            "Epoch : 4 [12800/60000 (21%)]\tLoss: 1.477398\t Accuracy:99.145%\n",
            "Epoch : 4 [16000/60000 (27%)]\tLoss: 1.465277\t Accuracy:99.166%\n",
            "Epoch : 4 [19200/60000 (32%)]\tLoss: 1.461152\t Accuracy:99.175%\n",
            "Epoch : 4 [22400/60000 (37%)]\tLoss: 1.477598\t Accuracy:99.141%\n",
            "Epoch : 4 [25600/60000 (43%)]\tLoss: 1.461396\t Accuracy:99.162%\n",
            "Epoch : 4 [28800/60000 (48%)]\tLoss: 1.479200\t Accuracy:99.144%\n",
            "Epoch : 4 [32000/60000 (53%)]\tLoss: 1.463390\t Accuracy:99.155%\n",
            "Epoch : 4 [35200/60000 (59%)]\tLoss: 1.461786\t Accuracy:99.149%\n",
            "Epoch : 4 [38400/60000 (64%)]\tLoss: 1.479418\t Accuracy:99.142%\n",
            "Epoch : 4 [41600/60000 (69%)]\tLoss: 1.466493\t Accuracy:99.148%\n",
            "Epoch : 4 [44800/60000 (75%)]\tLoss: 1.465203\t Accuracy:99.135%\n",
            "Epoch : 4 [48000/60000 (80%)]\tLoss: 1.462393\t Accuracy:99.143%\n",
            "Epoch : 4 [51200/60000 (85%)]\tLoss: 1.478131\t Accuracy:99.148%\n",
            "Epoch : 4 [54400/60000 (91%)]\tLoss: 1.462237\t Accuracy:99.141%\n",
            "Epoch : 4 [57600/60000 (96%)]\tLoss: 1.477212\t Accuracy:99.145%\n",
            "\n",
            "Train set: Avg. loss: 1.4701, Accuracy: 59494/60000 (99%)\n",
            "\n",
            "\n",
            "Test set: Avg. loss: 1.4703, Accuracy: 9919/10000 (99%)\n",
            "\n"
          ],
          "name": "stdout"
        }
      ]
    },
    {
      "cell_type": "code",
      "metadata": {
        "id": "4MimavZsBNLR",
        "colab_type": "code",
        "colab": {
          "base_uri": "https://localhost:8080/",
          "height": 297
        },
        "outputId": "71e60481-2b52-4339-d7f4-f4598abf0e91"
      },
      "source": [
        "import numpy as np\n",
        "import matplotlib.pyplot as plt\n",
        "\n",
        "fig, axs = plt.subplots(2, 1)\n",
        "axs[0].plot(np.arange(1, num_epochs + 1), np.array(train_losses))\n",
        "axs[0].plot(np.arange(1, num_epochs + 1), np.array(test_losses))\n",
        "axs[0].legend(['Train','Test'], loc='upper right')\n",
        "axs[0].set_xlabel('Number of Epochs')\n",
        "axs[0].set_xlabel('Cross Entropy Loss')\n",
        "axs[0].set_xticks(range(1,num_epochs + 1))\n",
        "axs[0].set_title('Cross Entropy Loss of Training and Testing')\n",
        "\n",
        "axs[1].plot(np.arange(1, num_epochs + 1), np.array(train_accuracy))\n",
        "axs[1].plot(np.arange(1, num_epochs + 1), np.array(test_accuracy))\n",
        "axs[1].legend(['Train','Test'], loc='upper right')\n",
        "axs[1].set_xlabel('Number of Epochs')\n",
        "axs[1].set_ylabel('Accuracy')\n",
        "axs[1].set_xticks(range(1,num_epochs + 1))\n",
        "axs[1].set_title('Accuracy of training and testing')\n",
        "\n",
        "plt.savefig(HOMEWORK_FOLDER+'/training and testing curve.png')\n",
        "plt.tight_layout()\n",
        "plt.show()"
      ],
      "execution_count": 91,
      "outputs": [
        {
          "output_type": "display_data",
          "data": {
            "image/png": "[encoded data removed]",
            "text/plain": [
              "<Figure size 432x288 with 2 Axes>"
            ]
          },
          "metadata": {
            "tags": [],
            "needs_background": "light"
          }
        }
      ]
    },
    {
      "cell_type": "code",
      "metadata": {
        "id": "1GGa7YXqh2Uv",
        "colab_type": "code",
        "colab": {
          "base_uri": "https://localhost:8080/",
          "height": 790
        },
        "outputId": "5443521f-357d-4f61-b484-f11645fe1302"
      },
      "source": [
        "  from torchvision.utils import make_grid\n",
        "  def fgsm_attack(input_image, epsilon, perturbation_grad, perturbation):\n",
        "    sign_perturbation_grad = torch.sign(perturbation_grad.data)\n",
        "    perturbation.data += torch.clamp(epsilon * sign_perturbation_grad, min = 0, max = 1)\n",
        "    perturbed_image = input_image +  perturbation.data\n",
        "    perturbed_image = torch.clamp(perturbed_image, -1, 1)\n",
        "    perturbation.data = perturbed_image - input_image\n",
        "    return perturbation\n",
        "\n",
        "  error = nn.CrossEntropyLoss()\n",
        "  fig = plt.figure()\n",
        "  while True:\n",
        "    test_iterator=iter(test_loader)\n",
        "    test_images, test_labels=test_iterator.next()\n",
        "    test_images, test_labels=test_images.to(device), test_labels.to(device)\n",
        "    output = model(test_images)\n",
        "    predicted = torch.max(output.data, 1)[1] \n",
        "    if torch.equal(test_labels,predicted):\n",
        "      break\n",
        "  print(\"true label: {} \".format(test_labels.detach().cpu()))\n",
        "  print(\"predicted label: {} \".format(predicted.detach().cpu()))\n",
        "  orig_images=make_grid(test_images.detach(),nrow=4).cpu()\n",
        "  plt.imshow(orig_images.permute(1,2,0)/2+0.5)\n",
        "  plt.savefig(HOMEWORK_FOLDER+'/batch_untarget_original_image.png')\n",
        "  plt.show()\n",
        "  epsilon = 0.001\n",
        "  num_training_episode = 1000000\n",
        "  data = test_images\n",
        "  target = test_labels\n",
        "  model.eval()\n",
        "\n",
        "  # Send the data and label to the device\n",
        "  data, target = data.to(device), target.to(device)\n",
        "  perturbation = torch.zeros(data.shape).to(device)\n",
        "  perturbation.requires_grad = True\n",
        "\n",
        "  for j in range(num_training_episode):\n",
        "      model.zero_grad()\n",
        "      output = model(data + perturbation)\n",
        "      loss = error(output, target)\n",
        "      loss.backward()\n",
        "      perturbation_grad = perturbation.grad.data\n",
        "      # Call FGSM Attack\n",
        "      perturbation = fgsm_attack(data, epsilon, perturbation_grad, perturbation)\n",
        "      \n",
        "      # Re-classify the perturbed image\n",
        "      output = model(data + perturbation)\n",
        "      predicted = torch.max(output.data, 1)[1]  # get the index of the max log-probability\n",
        "                \n",
        "      # Calculate the loss       \n",
        "      if j % 100 == 1:\n",
        "        print('\\nloss: {:.3f}, current_predict_label: {}\\n'.format(\n",
        "        loss.detach().cpu(), predicted.detach().cpu()))\n",
        "\n",
        "      if (predicted-target).byte().all() and torch.max(output.data)>= 0.9:\n",
        "        print(\"misclassified label: {} \".format(predicted.detach().cpu()))\n",
        "        final_perturbed_image = (data + perturbation).detach().cpu()\n",
        "        # final_perturbed_image = np.squeeze(final_perturbed_image)\n",
        "        final_perturbed_image=make_grid(final_perturbed_image.detach(),nrow=4).cpu()\n",
        "        plt.imshow(final_perturbed_image.permute(1,2,0)/2+0.5)\n",
        "        plt.savefig(HOMEWORK_FOLDER+'/batch_untarget_new_image.png')\n",
        "        plt.show()\n",
        "        break\n"
      ],
      "execution_count": 97,
      "outputs": [
        {
          "output_type": "stream",
          "text": [
            "true label: tensor([9, 9, 4, 3, 0, 5, 9, 2]) \n",
            "predicted label: tensor([9, 9, 4, 3, 0, 5, 9, 2]) \n"
          ],
          "name": "stdout"
        },
        {
          "output_type": "stream",
          "text": [
            "/usr/local/lib/python3.6/dist-packages/torch/nn/modules/container.py:117: UserWarning: Implicit dimension choice for softmax has been deprecated. Change the call to include dim=X as an argument.\n",
            "  input = module(input)\n"
          ],
          "name": "stderr"
        },
        {
          "output_type": "display_data",
          "data": {
            "image/png": "[encoded data removed]",
            "text/plain": [
              "<Figure size 432x288 with 1 Axes>"
            ]
          },
          "metadata": {
            "tags": [],
            "needs_background": "light"
          }
        },
        {
          "output_type": "stream",
          "text": [
            "\n",
            "loss: 1.461, current_predict_label: tensor([9, 9, 4, 3, 0, 5, 9, 2])\n",
            "\n",
            "\n",
            "loss: 1.575, current_predict_label: tensor([9, 9, 4, 5, 0, 5, 9, 2])\n",
            "\n",
            "\n",
            "loss: 1.967, current_predict_label: tensor([4, 4, 4, 5, 0, 5, 4, 2])\n",
            "\n",
            "\n",
            "loss: 2.159, current_predict_label: tensor([4, 4, 4, 5, 0, 3, 4, 2])\n",
            "\n",
            "\n",
            "loss: 2.355, current_predict_label: tensor([4, 4, 4, 5, 2, 3, 4, 8])\n",
            "\n",
            "misclassified label: tensor([4, 4, 3, 5, 2, 3, 4, 8]) \n"
          ],
          "name": "stdout"
        },
        {
          "output_type": "display_data",
          "data": {
            "image/png": "[encoded data removed]",
            "text/plain": [
              "<Figure size 432x288 with 1 Axes>"
            ]
          },
          "metadata": {
            "tags": [],
            "needs_background": "light"
          }
        }
      ]
    }
  ]
}
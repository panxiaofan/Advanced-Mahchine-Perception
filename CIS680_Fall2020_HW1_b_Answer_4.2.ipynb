{
  "nbformat": 4,
  "nbformat_minor": 0,
  "metadata": {
    "colab": {
      "name": "CIS680_Fall2020_HW1_b_Answer.ipynb",
      "provenance": [],
      "collapsed_sections": [],
      "toc_visible": true,
      "include_colab_link": true
    },
    "kernelspec": {
      "name": "python3",
      "display_name": "Python 3"
    },
    "accelerator": "GPU"
  },
  "cells": [
    {
      "cell_type": "markdown",
      "metadata": {
        "id": "view-in-github",
        "colab_type": "text"
      },
      "source": [
        "<a href=\"https://colab.research.google.com/github/panxiaofan/Advanced-Mahchine-Perception/blob/master/CIS680_Fall2020_HW1_b_Answer_4.2.ipynb\" target=\"_parent\"><img src=\"https://colab.research.google.com/assets/colab-badge.svg\" alt=\"Open In Colab\"/></a>"
      ]
    },
    {
      "cell_type": "markdown",
      "metadata": {
        "id": "mHbNxdP6eLd2",
        "colab_type": "text"
      },
      "source": [
        "# Google Drive\n",
        "\n",
        "This first code block attaches your google drive and makes a folder structure. You only need to run this when a new VM is assigned to you. To get your code as a single python file go through the following menus File->'Download .py'"
      ]
    },
    {
      "cell_type": "code",
      "metadata": {
        "id": "PYICcmTfdm0J",
        "colab_type": "code",
        "colab": {
          "base_uri": "https://localhost:8080/",
          "height": 35
        },
        "outputId": "323f5576-7309-47d8-e023-a4a085333cb3"
      },
      "source": [
        "import os\n",
        "from google.colab import drive\n",
        "\n",
        "# Mount google drive\n",
        "DRIVE_MOUNT='../content/gdrive'\n",
        "drive.mount(DRIVE_MOUNT)\n",
        "\n",
        "\n",
        "# create folder to write data to\n",
        "CIS680_FOLDER=os.path.join(DRIVE_MOUNT, 'My Drive', 'CIS680_2020')\n",
        "HOMEWORK_FOLDER=os.path.join(CIS680_FOLDER, 'HW1')\n",
        "os.makedirs(HOMEWORK_FOLDER, exist_ok=True)"
      ],
      "execution_count": 1,
      "outputs": [
        {
          "output_type": "stream",
          "text": [
            "Mounted at ../content/gdrive\n"
          ],
          "name": "stdout"
        }
      ]
    },
    {
      "cell_type": "markdown",
      "metadata": {
        "id": "pw-yUtFqiNFR",
        "colab_type": "text"
      },
      "source": [
        "# PyTorch\n",
        "\n",
        "This code block imports torch and torchvision which provide the libraries for use down below. PyTorch provides many utilities such as standard datasets, for this exercise we will use MNIST. Please see the torchvision documentation for how to instantiate the training and testing data split."
      ]
    },
    {
      "cell_type": "code",
      "metadata": {
        "id": "hguIwry8iH9S",
        "colab_type": "code",
        "colab": {}
      },
      "source": [
        "# torch and torchvision imports\n",
        "import torch\n",
        "import torchvision\n",
        "import numpy as np\n",
        "import torch\n",
        "import torch.nn as nn\n",
        "import torch.nn.functional as F\n",
        "import torch.optim as optim\n",
        "import matplotlib.pyplot as plt"
      ],
      "execution_count": 2,
      "outputs": []
    },
    {
      "cell_type": "markdown",
      "metadata": {
        "id": "EvNh3B3FiAPY",
        "colab_type": "text"
      },
      "source": [
        "# 3) Train a Convolutional Neural Network"
      ]
    },
    {
      "cell_type": "code",
      "metadata": {
        "id": "hQuOI_n_iEiF",
        "colab_type": "code",
        "colab": {}
      },
      "source": [
        "# Create your network here\n",
        "class HelloWorld(torch.nn.Module):\n",
        "  def __init__(self):\n",
        "    super(HelloWorld, self).__init__()\n",
        "    self.layer1 = nn.Sequential()                                        # 28 *28 *1\n",
        "    self.layer1.add_module(\"Conv1\", nn.Conv2d(in_channels=1, out_channels=32, kernel_size=5, padding=2))   # 28 *28 *32\n",
        "    self.layer1.add_module(\"BN1\", nn.BatchNorm2d(num_features=32))\n",
        "    self.layer1.add_module(\"Relu1\", nn.ReLU())\n",
        "    self.layer1.add_module(\"Pool1\", nn.AvgPool2d(kernel_size=2, stride=2, padding=0))             # 14 *14 *32 \n",
        "                                                 \n",
        "    self.layer2 = nn.Sequential()   \n",
        "    self.layer2.add_module(\"Conv2\", nn.Conv2d(in_channels=32, out_channels=32, kernel_size=5, padding=2))  # 14 *14 *32\n",
        "    self.layer2.add_module(\"BN2\", nn.BatchNorm2d(num_features=32))\n",
        "    self.layer2.add_module(\"Relu2\", nn.ReLU())\n",
        "    self.layer2.add_module(\"Pool2\", nn.AvgPool2d(kernel_size=2, stride=2, padding=0))            # 7 *7 *32\n",
        "\n",
        "    self.layer3 = nn.Sequential()\n",
        "    self.layer3.add_module(\"Conv3\", nn.Conv2d(in_channels=32, out_channels=64, kernel_size=5, padding=2))  # 7 *7 *64\n",
        "    self.layer3.add_module(\"BN3\", nn.BatchNorm2d(num_features=64))\n",
        "    self.layer3.add_module(\"Relu3\", nn.ReLU())\n",
        "    self.layer3.add_module(\"Pool3\", nn.AvgPool2d(kernel_size=2, stride=2, padding=0))         # 3 *3 *64\n",
        "\n",
        "    self.fully_connected1 = nn.Sequential()\n",
        "    self.fully_connected1.add_module(\"FC1\", nn.Linear(in_features=3 * 3 * 64, out_features=64))  \n",
        "    self.fully_connected1.add_module(\"BNFC1\", nn.BatchNorm1d(64))\n",
        "    self.fully_connected1.add_module(\"ReluFC1\", nn.ReLU())\n",
        "\n",
        "    self.fully_connected2 = nn.Sequential()\n",
        "    self.fully_connected2.add_module(\"FC2\", nn.Linear(in_features=64, out_features=10))\n",
        "    self.fully_connected2.add_module(\"SoftMax\", nn.Softmax())\n",
        "\n",
        "  \n",
        "  def forward(self, x):\n",
        "    x = self.layer1(x)\n",
        "    x = self.layer2(x)\n",
        "    x = self.layer3(x)\n",
        "    x = x.view(-1, 3 * 3 * 64)\n",
        "    x = self.fully_connected1(x)\n",
        "    x = self.fully_connected2(x)\n",
        "    return x\n",
        "  "
      ],
      "execution_count": 3,
      "outputs": []
    },
    {
      "cell_type": "code",
      "metadata": {
        "id": "huv-zujjmRbj",
        "colab_type": "code",
        "colab": {}
      },
      "source": [
        "batch_size_train = 64\n",
        "batch_size_test = 1000\n",
        "train_loader = torch.utils.data.DataLoader(\n",
        "  torchvision.datasets.MNIST(root='.', train=True, download=True,\n",
        "                             transform=torchvision.transforms.Compose([\n",
        "                               torchvision.transforms.ToTensor(),\n",
        "                               torchvision.transforms.Normalize(\n",
        "                                 (0.5,), (0.5,))\n",
        "                             ])),\n",
        "  batch_size=batch_size_train, shuffle=True)\n",
        "\n",
        "test_loader = torch.utils.data.DataLoader(\n",
        "  torchvision.datasets.MNIST(root='.', train=False, download=True,\n",
        "                             transform=torchvision.transforms.Compose([\n",
        "                               torchvision.transforms.ToTensor(),\n",
        "                               torchvision.transforms.Normalize(\n",
        "                                 (0.5,), (0.5,))\n",
        "                             ])),\n",
        "  batch_size=batch_size_test, shuffle=True)"
      ],
      "execution_count": 5,
      "outputs": []
    },
    {
      "cell_type": "code",
      "metadata": {
        "id": "2nBN8Exglojr",
        "colab_type": "code",
        "colab": {}
      },
      "source": [
        "def train(epoch):\n",
        "    my_first_network.train()\n",
        "    running_loss = 0\n",
        "    running_correct = 0\n",
        "    for batch_idx, (data, target) in enumerate(train_loader):\n",
        "        data, target = data.to(device), target.to(device)\n",
        "        optimizer.zero_grad()\n",
        "        output = my_first_network(data)\n",
        "        loss = error(output, target) \n",
        "        running_loss += loss.item() * data.size(0)\n",
        "        loss.backward()\n",
        "        optimizer.step()\n",
        "        predicted = torch.max(output.data, 1)[1] \n",
        "        running_correct += (predicted == target).sum()\n",
        "        if batch_idx % display_interval == 0:\n",
        "          print('Epoch : {} [{}/{} ({:.0f}%)]\\tLoss: {:.6f}\\t Accuracy:{:.3f}%'.format(\n",
        "                    epoch, batch_idx*len(data), len(train_loader.dataset), 100.*batch_idx / len(train_loader), loss.item(), float(running_correct*100) / float(batch_size_train*(batch_idx + 1))))\n",
        "    epoch_loss = running_loss / len(train_loader.dataset)\n",
        "    epoch_accu = float(running_correct) / len(train_loader.dataset)\n",
        "    train_losses.append(epoch_loss)\n",
        "    train_accuracy.append(epoch_accu)\n",
        "    print('\\nTrain set: Avg. loss: {:.4f}, Accuracy: {}/{} ({:.0f}%)\\n'.format(\n",
        "        epoch_loss, running_correct, len(train_loader.dataset),\n",
        "        100. * running_correct / len(train_loader.dataset)))\n"
      ],
      "execution_count": 6,
      "outputs": []
    },
    {
      "cell_type": "code",
      "metadata": {
        "id": "hKxLAXUkvXLr",
        "colab_type": "code",
        "colab": {}
      },
      "source": [
        "def test(epoch):\n",
        "  my_first_network.eval()\n",
        "  running_loss = 0\n",
        "  running_correct = 0\n",
        "  with torch.no_grad():\n",
        "    for data, target in test_loader:\n",
        "      data, target = data.to(device), target.to(device)\n",
        "      output = my_first_network(data)\n",
        "      running_loss += error(output, target).item()* data.size(0)\n",
        "      predicted = torch.max(output.data, 1)[1] \n",
        "      running_correct += (predicted == target).sum()\n",
        "  epoch_loss = running_loss / len(test_loader.dataset)\n",
        "  epoch_accu = float(running_correct) / len(test_loader.dataset)\n",
        "  test_losses.append(epoch_loss)\n",
        "  test_accuracy.append(epoch_accu)\n",
        "  print('\\nTest set: Avg. loss: {:.4f}, Accuracy: {}/{} ({:.0f}%)\\n'.format(\n",
        "    epoch_loss, running_correct, len(test_loader.dataset),\n",
        "    100. * running_correct / len(test_loader.dataset)))\n",
        "  is_new_best(epoch_accu)"
      ],
      "execution_count": 7,
      "outputs": []
    },
    {
      "cell_type": "code",
      "metadata": {
        "id": "6rtW_TbjzlFP",
        "colab_type": "code",
        "colab": {}
      },
      "source": [
        "def is_new_best(epoch_accu):\n",
        "  if (epoch_accu > 0.99 and epoch_accu == max(test_accuracy)):\n",
        "    PATH = HOMEWORK_FOLDER+'/pre-trained model'\n",
        "    torch.save(my_first_network.state_dict(), PATH)"
      ],
      "execution_count": 8,
      "outputs": []
    },
    {
      "cell_type": "code",
      "metadata": {
        "id": "3HvefwqLkU5-",
        "colab_type": "code",
        "colab": {
          "base_uri": "https://localhost:8080/",
          "height": 1000
        },
        "outputId": "086e99df-96ea-405a-a020-f75e26a980ec"
      },
      "source": [
        "# Instantiate your network here\n",
        "torch.manual_seed(42)\n",
        "device = torch.device('cuda:0' if torch.cuda.is_available() else 'cpu')\n",
        "my_first_network = HelloWorld().to(device)\n",
        "learning_rate = 0.002\n",
        "optimizer = torch.optim.Adam(my_first_network.parameters(),lr=learning_rate)\n",
        "error = nn.CrossEntropyLoss()\n",
        "display_interval = 50\n",
        "train_losses = []\n",
        "train_accuracy = []\n",
        "test_losses = []\n",
        "test_accuracy = []\n",
        "# Train your network here\n",
        "num_epochs = 5\n",
        "for epoch in range(num_epochs):\n",
        "  train(epoch)\n",
        "  test(epoch)"
      ],
      "execution_count": 11,
      "outputs": [
        {
          "output_type": "stream",
          "text": [
            "/usr/local/lib/python3.6/dist-packages/torch/nn/modules/container.py:117: UserWarning: Implicit dimension choice for softmax has been deprecated. Change the call to include dim=X as an argument.\n",
            "  input = module(input)\n"
          ],
          "name": "stderr"
        },
        {
          "output_type": "stream",
          "text": [
            "Epoch : 0 [0/60000 (0%)]\tLoss: 2.313303\t Accuracy:0.000%\n",
            "Epoch : 0 [3200/60000 (5%)]\tLoss: 1.528649\t Accuracy:85.846%\n",
            "Epoch : 0 [6400/60000 (11%)]\tLoss: 1.531482\t Accuracy:91.368%\n",
            "Epoch : 0 [9600/60000 (16%)]\tLoss: 1.502246\t Accuracy:93.440%\n",
            "Epoch : 0 [12800/60000 (21%)]\tLoss: 1.474754\t Accuracy:94.590%\n",
            "Epoch : 0 [16000/60000 (27%)]\tLoss: 1.514368\t Accuracy:95.281%\n",
            "Epoch : 0 [19200/60000 (32%)]\tLoss: 1.490448\t Accuracy:95.790%\n",
            "Epoch : 0 [22400/60000 (37%)]\tLoss: 1.480272\t Accuracy:96.087%\n",
            "Epoch : 0 [25600/60000 (43%)]\tLoss: 1.487779\t Accuracy:96.361%\n",
            "Epoch : 0 [28800/60000 (48%)]\tLoss: 1.472014\t Accuracy:96.553%\n",
            "Epoch : 0 [32000/60000 (53%)]\tLoss: 1.486085\t Accuracy:96.700%\n",
            "Epoch : 0 [35200/60000 (59%)]\tLoss: 1.478488\t Accuracy:96.824%\n",
            "Epoch : 0 [38400/60000 (64%)]\tLoss: 1.471241\t Accuracy:96.971%\n",
            "Epoch : 0 [41600/60000 (69%)]\tLoss: 1.475623\t Accuracy:97.074%\n",
            "Epoch : 0 [44800/60000 (75%)]\tLoss: 1.477206\t Accuracy:97.214%\n",
            "Epoch : 0 [48000/60000 (80%)]\tLoss: 1.494697\t Accuracy:97.293%\n",
            "Epoch : 0 [51200/60000 (85%)]\tLoss: 1.462912\t Accuracy:97.372%\n",
            "Epoch : 0 [54400/60000 (91%)]\tLoss: 1.463190\t Accuracy:97.442%\n",
            "Epoch : 0 [57600/60000 (96%)]\tLoss: 1.508671\t Accuracy:97.496%\n",
            "\n",
            "Train set: Avg. loss: 1.5043, Accuracy: 58534/60000 (98%)\n",
            "\n",
            "\n",
            "Test set: Avg. loss: 1.4782, Accuracy: 9855/10000 (99%)\n",
            "\n",
            "Epoch : 1 [0/60000 (0%)]\tLoss: 1.484690\t Accuracy:98.438%\n",
            "Epoch : 1 [3200/60000 (5%)]\tLoss: 1.474503\t Accuracy:98.529%\n",
            "Epoch : 1 [6400/60000 (11%)]\tLoss: 1.494702\t Accuracy:98.639%\n",
            "Epoch : 1 [9600/60000 (16%)]\tLoss: 1.461959\t Accuracy:98.644%\n",
            "Epoch : 1 [12800/60000 (21%)]\tLoss: 1.470941\t Accuracy:98.616%\n",
            "Epoch : 1 [16000/60000 (27%)]\tLoss: 1.463321\t Accuracy:98.649%\n",
            "Epoch : 1 [19200/60000 (32%)]\tLoss: 1.463312\t Accuracy:98.681%\n",
            "Epoch : 1 [22400/60000 (37%)]\tLoss: 1.469547\t Accuracy:98.691%\n",
            "Epoch : 1 [25600/60000 (43%)]\tLoss: 1.464829\t Accuracy:98.667%\n",
            "Epoch : 1 [28800/60000 (48%)]\tLoss: 1.481871\t Accuracy:98.725%\n",
            "Epoch : 1 [32000/60000 (53%)]\tLoss: 1.468361\t Accuracy:98.718%\n",
            "Epoch : 1 [35200/60000 (59%)]\tLoss: 1.464226\t Accuracy:98.749%\n",
            "Epoch : 1 [38400/60000 (64%)]\tLoss: 1.461969\t Accuracy:98.734%\n",
            "Epoch : 1 [41600/60000 (69%)]\tLoss: 1.476863\t Accuracy:98.728%\n",
            "Epoch : 1 [44800/60000 (75%)]\tLoss: 1.461866\t Accuracy:98.741%\n",
            "Epoch : 1 [48000/60000 (80%)]\tLoss: 1.471207\t Accuracy:98.756%\n",
            "Epoch : 1 [51200/60000 (85%)]\tLoss: 1.462871\t Accuracy:98.757%\n",
            "Epoch : 1 [54400/60000 (91%)]\tLoss: 1.477453\t Accuracy:98.783%\n",
            "Epoch : 1 [57600/60000 (96%)]\tLoss: 1.461646\t Accuracy:98.791%\n",
            "\n",
            "Train set: Avg. loss: 1.4754, Accuracy: 59270/60000 (99%)\n",
            "\n",
            "\n",
            "Test set: Avg. loss: 1.4771, Accuracy: 9853/10000 (99%)\n",
            "\n",
            "Epoch : 2 [0/60000 (0%)]\tLoss: 1.475549\t Accuracy:98.438%\n",
            "Epoch : 2 [3200/60000 (5%)]\tLoss: 1.462243\t Accuracy:98.866%\n",
            "Epoch : 2 [6400/60000 (11%)]\tLoss: 1.478541\t Accuracy:98.886%\n",
            "Epoch : 2 [9600/60000 (16%)]\tLoss: 1.461414\t Accuracy:98.934%\n",
            "Epoch : 2 [12800/60000 (21%)]\tLoss: 1.504285\t Accuracy:98.912%\n",
            "Epoch : 2 [16000/60000 (27%)]\tLoss: 1.497997\t Accuracy:98.898%\n",
            "Epoch : 2 [19200/60000 (32%)]\tLoss: 1.474508\t Accuracy:98.951%\n",
            "Epoch : 2 [22400/60000 (37%)]\tLoss: 1.473989\t Accuracy:98.954%\n",
            "Epoch : 2 [25600/60000 (43%)]\tLoss: 1.461316\t Accuracy:98.905%\n",
            "Epoch : 2 [28800/60000 (48%)]\tLoss: 1.462671\t Accuracy:98.905%\n",
            "Epoch : 2 [32000/60000 (53%)]\tLoss: 1.476605\t Accuracy:98.912%\n",
            "Epoch : 2 [35200/60000 (59%)]\tLoss: 1.461243\t Accuracy:98.948%\n",
            "Epoch : 2 [38400/60000 (64%)]\tLoss: 1.469235\t Accuracy:98.937%\n",
            "Epoch : 2 [41600/60000 (69%)]\tLoss: 1.475272\t Accuracy:98.942%\n",
            "Epoch : 2 [44800/60000 (75%)]\tLoss: 1.467357\t Accuracy:98.952%\n",
            "Epoch : 2 [48000/60000 (80%)]\tLoss: 1.472188\t Accuracy:98.974%\n",
            "Epoch : 2 [51200/60000 (85%)]\tLoss: 1.464959\t Accuracy:98.974%\n",
            "Epoch : 2 [54400/60000 (91%)]\tLoss: 1.489583\t Accuracy:98.963%\n",
            "Epoch : 2 [57600/60000 (96%)]\tLoss: 1.469499\t Accuracy:98.980%\n",
            "\n",
            "Train set: Avg. loss: 1.4724, Accuracy: 59387/60000 (99%)\n",
            "\n",
            "\n",
            "Test set: Avg. loss: 1.4707, Accuracy: 9913/10000 (99%)\n",
            "\n",
            "Epoch : 3 [0/60000 (0%)]\tLoss: 1.479951\t Accuracy:98.438%\n",
            "Epoch : 3 [3200/60000 (5%)]\tLoss: 1.461639\t Accuracy:99.418%\n",
            "Epoch : 3 [6400/60000 (11%)]\tLoss: 1.461826\t Accuracy:99.211%\n",
            "Epoch : 3 [9600/60000 (16%)]\tLoss: 1.474111\t Accuracy:99.224%\n",
            "Epoch : 3 [12800/60000 (21%)]\tLoss: 1.501775\t Accuracy:99.153%\n",
            "Epoch : 3 [16000/60000 (27%)]\tLoss: 1.487252\t Accuracy:99.135%\n",
            "Epoch : 3 [19200/60000 (32%)]\tLoss: 1.492460\t Accuracy:99.118%\n",
            "Epoch : 3 [22400/60000 (37%)]\tLoss: 1.463175\t Accuracy:99.110%\n",
            "Epoch : 3 [25600/60000 (43%)]\tLoss: 1.477909\t Accuracy:99.088%\n",
            "Epoch : 3 [28800/60000 (48%)]\tLoss: 1.476832\t Accuracy:99.106%\n",
            "Epoch : 3 [32000/60000 (53%)]\tLoss: 1.461451\t Accuracy:99.096%\n",
            "Epoch : 3 [35200/60000 (59%)]\tLoss: 1.468549\t Accuracy:99.095%\n",
            "Epoch : 3 [38400/60000 (64%)]\tLoss: 1.479520\t Accuracy:99.093%\n",
            "Epoch : 3 [41600/60000 (69%)]\tLoss: 1.461474\t Accuracy:99.086%\n",
            "Epoch : 3 [44800/60000 (75%)]\tLoss: 1.461172\t Accuracy:99.079%\n",
            "Epoch : 3 [48000/60000 (80%)]\tLoss: 1.474306\t Accuracy:99.085%\n",
            "Epoch : 3 [51200/60000 (85%)]\tLoss: 1.470351\t Accuracy:99.091%\n",
            "Epoch : 3 [54400/60000 (91%)]\tLoss: 1.463452\t Accuracy:99.080%\n",
            "Epoch : 3 [57600/60000 (96%)]\tLoss: 1.487714\t Accuracy:99.095%\n",
            "\n",
            "Train set: Avg. loss: 1.4712, Accuracy: 59453/60000 (99%)\n",
            "\n",
            "\n",
            "Test set: Avg. loss: 1.4692, Accuracy: 9925/10000 (99%)\n",
            "\n",
            "Epoch : 4 [0/60000 (0%)]\tLoss: 1.476778\t Accuracy:98.438%\n",
            "Epoch : 4 [3200/60000 (5%)]\tLoss: 1.461282\t Accuracy:99.510%\n",
            "Epoch : 4 [6400/60000 (11%)]\tLoss: 1.467128\t Accuracy:99.304%\n",
            "Epoch : 4 [9600/60000 (16%)]\tLoss: 1.462403\t Accuracy:99.410%\n",
            "Epoch : 4 [12800/60000 (21%)]\tLoss: 1.474447\t Accuracy:99.308%\n",
            "Epoch : 4 [16000/60000 (27%)]\tLoss: 1.461220\t Accuracy:99.259%\n",
            "Epoch : 4 [19200/60000 (32%)]\tLoss: 1.478305\t Accuracy:99.242%\n",
            "Epoch : 4 [22400/60000 (37%)]\tLoss: 1.478207\t Accuracy:99.208%\n",
            "Epoch : 4 [25600/60000 (43%)]\tLoss: 1.461806\t Accuracy:99.213%\n",
            "Epoch : 4 [28800/60000 (48%)]\tLoss: 1.477826\t Accuracy:99.182%\n",
            "Epoch : 4 [32000/60000 (53%)]\tLoss: 1.501231\t Accuracy:99.174%\n",
            "Epoch : 4 [35200/60000 (59%)]\tLoss: 1.463256\t Accuracy:99.166%\n",
            "Epoch : 4 [38400/60000 (64%)]\tLoss: 1.471913\t Accuracy:99.145%\n",
            "Epoch : 4 [41600/60000 (69%)]\tLoss: 1.464127\t Accuracy:99.160%\n",
            "Epoch : 4 [44800/60000 (75%)]\tLoss: 1.481656\t Accuracy:99.137%\n",
            "Epoch : 4 [48000/60000 (80%)]\tLoss: 1.485917\t Accuracy:99.137%\n",
            "Epoch : 4 [51200/60000 (85%)]\tLoss: 1.465357\t Accuracy:99.148%\n",
            "Epoch : 4 [54400/60000 (91%)]\tLoss: 1.480177\t Accuracy:99.154%\n",
            "Epoch : 4 [57600/60000 (96%)]\tLoss: 1.461331\t Accuracy:99.155%\n",
            "\n",
            "Train set: Avg. loss: 1.4702, Accuracy: 59497/60000 (99%)\n",
            "\n",
            "\n",
            "Test set: Avg. loss: 1.4685, Accuracy: 9935/10000 (99%)\n",
            "\n"
          ],
          "name": "stdout"
        }
      ]
    },
    {
      "cell_type": "markdown",
      "metadata": {
        "id": "tSGydqA0aJmO",
        "colab_type": "text"
      },
      "source": [
        "**Training & Testing Loss**"
      ]
    },
    {
      "cell_type": "code",
      "metadata": {
        "id": "xD-PGcLrP_0d",
        "colab_type": "code",
        "colab": {
          "base_uri": "https://localhost:8080/",
          "height": 295
        },
        "outputId": "1e037279-6970-44fa-d4bc-e9591bbab5fd"
      },
      "source": [
        "import numpy as np\n",
        "import matplotlib.pyplot as plt\n",
        "fig = plt.figure()\n",
        "plt.plot(np.arange(1, num_epochs + 1), np.array(train_losses))\n",
        "plt.plot(np.arange(1, num_epochs + 1), np.array(test_losses))\n",
        "plt.legend(['Train','Test'], loc='upper right')\n",
        "plt.xlabel('Number of Epochs')\n",
        "plt.ylabel('Cross Entropy Loss')\n",
        "plt.xticks(range(1,num_epochs + 1))\n",
        "plt.title('Cross Entropy Loss of Training and Testing')\n",
        "plt.savefig(HOMEWORK_FOLDER+'/Cross Entropy Loss of Training and Testing.png')\n",
        "plt.show()"
      ],
      "execution_count": 12,
      "outputs": [
        {
          "output_type": "display_data",
          "data": {
            "image/png": "[encoded data removed]",
            "text/plain": [
              "<Figure size 432x288 with 1 Axes>"
            ]
          },
          "metadata": {
            "tags": [],
            "needs_background": "light"
          }
        }
      ]
    },
    {
      "cell_type": "markdown",
      "metadata": {
        "id": "4UXwZi8g2G1d",
        "colab_type": "text"
      },
      "source": [
        "**Training & Testing Accuracy**"
      ]
    },
    {
      "cell_type": "code",
      "metadata": {
        "id": "aqxLEybP01n1",
        "colab_type": "code",
        "colab": {
          "base_uri": "https://localhost:8080/",
          "height": 295
        },
        "outputId": "d7c6756e-9d11-4f19-d71f-5fa312ab4fe7"
      },
      "source": [
        "import numpy as np\n",
        "import matplotlib.pyplot as plt\n",
        "fig = plt.figure()\n",
        "plt.plot(np.arange(1, num_epochs + 1), np.array(train_accuracy))\n",
        "plt.plot(np.arange(1, num_epochs + 1), np.array(test_accuracy))\n",
        "plt.legend(['Train','Test'], loc='upper right')\n",
        "plt.xlabel('Number of Epochs')\n",
        "plt.ylabel('Accuracy')\n",
        "plt.xticks(range(1,num_epochs + 1))\n",
        "plt.title('Accuracy of training and testing')\n",
        "plt.savefig(HOMEWORK_FOLDER+'/Accuracy of training and testing.png')\n",
        "plt.show()"
      ],
      "execution_count": 13,
      "outputs": [
        {
          "output_type": "display_data",
          "data": {
            "image/png": "[encoded data removed]",
            "text/plain": [
              "<Figure size 432x288 with 1 Axes>"
            ]
          },
          "metadata": {
            "tags": [],
            "needs_background": "light"
          }
        }
      ]
    },
    {
      "cell_type": "code",
      "metadata": {
        "id": "5SzMwFH9ssOn",
        "colab_type": "code",
        "colab": {
          "base_uri": "https://localhost:8080/",
          "height": 124
        },
        "outputId": "7c6b5e7b-bcc0-401d-9ae3-d138ac879191"
      },
      "source": [
        "device = torch.device('cuda:0' if torch.cuda.is_available() else 'cpu')\n",
        "PATH = HOMEWORK_FOLDER+'/pre-trained model'\n",
        "model = HelloWorld()\n",
        "model.load_state_dict(torch.load(PATH))\n",
        "model.to(device)\n",
        "\n",
        "running_loss = 0\n",
        "running_correct = 0\n",
        "with torch.no_grad():\n",
        "  for data, target in test_loader:\n",
        "    data, target = data.to(device), target.to(device)\n",
        "    output = model(data)\n",
        "    running_loss += error(output, target).item()* data.size(0)\n",
        "    predicted = torch.max(output.data, 1)[1] \n",
        "    running_correct += (predicted == target).sum()\n",
        "epoch_loss = running_loss / len(test_loader.dataset)\n",
        "epoch_accu = float(running_correct) / len(test_loader.dataset)\n",
        "\n",
        "print('\\nTest set: Avg. loss: {:.4f}, Accuracy: {}/{} ({:.0f}%)\\n'.format(\n",
        "  epoch_loss, running_correct, len(test_loader.dataset),\n",
        "  100. * running_correct / len(test_loader.dataset)))\n",
        "is_new_best(epoch_accu)"
      ],
      "execution_count": 14,
      "outputs": [
        {
          "output_type": "stream",
          "text": [
            "/usr/local/lib/python3.6/dist-packages/torch/nn/modules/container.py:117: UserWarning: Implicit dimension choice for softmax has been deprecated. Change the call to include dim=X as an argument.\n",
            "  input = module(input)\n"
          ],
          "name": "stderr"
        },
        {
          "output_type": "stream",
          "text": [
            "\n",
            "Test set: Avg. loss: 1.4685, Accuracy: 9932/10000 (99%)\n",
            "\n"
          ],
          "name": "stdout"
        }
      ]
    },
    {
      "cell_type": "code",
      "metadata": {
        "id": "X4pj7MyY3PTv",
        "colab_type": "code",
        "colab": {
          "base_uri": "https://localhost:8080/",
          "height": 535
        },
        "outputId": "08f9ebb3-dfad-4688-b058-a0a2cdc6aef1"
      },
      "source": [
        "\n",
        "test_loader = torch.utils.data.DataLoader(\n",
        "  torchvision.datasets.MNIST(root='.', train=False, download=True,\n",
        "                             transform=torchvision.transforms.Compose([\n",
        "                               torchvision.transforms.ToTensor(),\n",
        "                               torchvision.transforms.Normalize(\n",
        "                                 (0.5,), (0.5,))\n",
        "                             ])),\n",
        "  batch_size=1, shuffle=True)\n",
        "\n",
        "# Define what device we are using\n",
        "print(\"CUDA Available: \",torch.cuda.is_available())\n",
        "use_cuda=True\n",
        "device = torch.device(\"cuda\" if (use_cuda and torch.cuda.is_available()) else \"cpu\")\n",
        "\n",
        "# Set the model in evaluation mode. In this case this is for the Dropout layers\n",
        "PATH = HOMEWORK_FOLDER+'/pre-trained model'\n",
        "model = HelloWorld().to(device)\n",
        "model.load_state_dict(torch.load(PATH))\n",
        "model.eval()"
      ],
      "execution_count": 16,
      "outputs": [
        {
          "output_type": "stream",
          "text": [
            "CUDA Available:  True\n"
          ],
          "name": "stdout"
        },
        {
          "output_type": "execute_result",
          "data": {
            "text/plain": [
              "HelloWorld(\n",
              "  (layer1): Sequential(\n",
              "    (Conv1): Conv2d(1, 32, kernel_size=(5, 5), stride=(1, 1), padding=(2, 2))\n",
              "    (BN1): BatchNorm2d(32, eps=1e-05, momentum=0.1, affine=True, track_running_stats=True)\n",
              "    (Relu1): ReLU()\n",
              "    (Pool1): AvgPool2d(kernel_size=2, stride=2, padding=0)\n",
              "  )\n",
              "  (layer2): Sequential(\n",
              "    (Conv2): Conv2d(32, 32, kernel_size=(5, 5), stride=(1, 1), padding=(2, 2))\n",
              "    (BN2): BatchNorm2d(32, eps=1e-05, momentum=0.1, affine=True, track_running_stats=True)\n",
              "    (Relu2): ReLU()\n",
              "    (Pool2): AvgPool2d(kernel_size=2, stride=2, padding=0)\n",
              "  )\n",
              "  (layer3): Sequential(\n",
              "    (Conv3): Conv2d(32, 64, kernel_size=(5, 5), stride=(1, 1), padding=(2, 2))\n",
              "    (BN3): BatchNorm2d(64, eps=1e-05, momentum=0.1, affine=True, track_running_stats=True)\n",
              "    (Relu3): ReLU()\n",
              "    (Pool3): AvgPool2d(kernel_size=2, stride=2, padding=0)\n",
              "  )\n",
              "  (fully_connected1): Sequential(\n",
              "    (FC1): Linear(in_features=576, out_features=64, bias=True)\n",
              "    (BNFC1): BatchNorm1d(64, eps=1e-05, momentum=0.1, affine=True, track_running_stats=True)\n",
              "    (ReluFC1): ReLU()\n",
              "  )\n",
              "  (fully_connected2): Sequential(\n",
              "    (FC2): Linear(in_features=64, out_features=10, bias=True)\n",
              "    (SoftMax): Softmax(dim=None)\n",
              "  )\n",
              ")"
            ]
          },
          "metadata": {
            "tags": []
          },
          "execution_count": 16
        }
      ]
    },
    {
      "cell_type": "code",
      "metadata": {
        "id": "Cl5MC_fk6LW2",
        "colab_type": "code",
        "colab": {}
      },
      "source": [
        "def fgsm_attack(input_image, epsilon, perturbation_grad, perturbation):\n",
        "    sign_perturbation_grad = torch.sign(perturbation_grad.data)\n",
        "    perturbation.data += torch.clamp(epsilon * sign_perturbation_grad, min = 0, max = 1)\n",
        "    perturbed_image = input_image +  perturbation.data\n",
        "    perturbed_image = torch.clamp(perturbed_image, -1, 1)\n",
        "    perturbation.data = perturbed_image - input_image\n",
        "    return perturbation"
      ],
      "execution_count": 22,
      "outputs": []
    },
    {
      "cell_type": "code",
      "metadata": {
        "id": "qht-u6pI83qo",
        "colab_type": "code",
        "colab": {
          "base_uri": "https://localhost:8080/",
          "height": 1000
        },
        "outputId": "62f044f9-cf5a-43c4-dc5c-ce8c2cccc6f9"
      },
      "source": [
        "  fig = plt.figure()\n",
        "  for i in range(2):  \n",
        "    test_iterator=iter(test_loader)\n",
        "    test_images, test_labels=test_iterator.next()\n",
        "    test_images, test_labels=test_images.to(device), test_labels.to(device)\n",
        "    output = model(test_images)\n",
        "    predicted = torch.max(output.data, 1)[1] \n",
        "    print(\"true label: {} \".format(predicted.detach().cpu().item()))\n",
        "    orig_images=test_images.detach().cpu()\n",
        "    orig_images = np.squeeze(orig_images)\n",
        "    plt.imshow(orig_images)\n",
        "    plt.savefig(HOMEWORK_FOLDER+'/No.'+ str(i)+' original test_image.png')\n",
        "    plt.show()\n",
        "    # Accuracy counter\n",
        "    epsilon = 0.001\n",
        "    num_training_episode = 100000\n",
        "    data = test_images\n",
        "    target = test_labels\n",
        "    model.eval()\n",
        "\n",
        "    # Send the data and label to the device\n",
        "    data, target = data.to(device), target.to(device)\n",
        "    perturbation = torch.zeros(data.shape).to(device)\n",
        "    perturbation.requires_grad = True\n",
        "\n",
        "    # If the initial prediction is wrong, dont bother attacking, just move on\n",
        "    if predicted.item() == target.item():\n",
        "      for j in range(num_training_episode):\n",
        "          model.zero_grad()\n",
        "          output = model(data + perturbation)\n",
        "          loss = error(output, target)\n",
        "          loss.backward()\n",
        "          perturbation_grad = perturbation.grad.data\n",
        "          # Call FGSM Attack\n",
        "          perturbation = fgsm_attack(data, epsilon, perturbation_grad, perturbation)\n",
        "          \n",
        "          # Re-classify the perturbed image\n",
        "          output = model(data + perturbation)\n",
        "          predicted = torch.max(output.data, 1)[1]  # get the index of the max log-probability\n",
        "                    \n",
        "          # Calculate the loss       \n",
        "          if j % 100 == 1:\n",
        "            print('\\nloss: {:.3f}, current_predict_label: {}\\n'.format(\n",
        "            loss.detach().cpu().item(), predicted.detach().cpu().item()))\n",
        "\n",
        "          if predicted.item() != target.item() and torch.max(output.data)>= 0.9:\n",
        "            print(\"misclassified label: {} \".format(predicted.detach().cpu().item()))\n",
        "            final_perturbed_image = (data + perturbation).detach().cpu()\n",
        "            final_perturbed_image = np.squeeze(final_perturbed_image)\n",
        "            plt.imshow(final_perturbed_image)\n",
        "            plt.show() \n",
        "            plt.savefig(HOMEWORK_FOLDER+'/No.'+ str(i)+' perturbed test_image.png')\n",
        "            break\n"
      ],
      "execution_count": 79,
      "outputs": [
        {
          "output_type": "stream",
          "text": [
            "true label: 7 \n"
          ],
          "name": "stdout"
        },
        {
          "output_type": "stream",
          "text": [
            "/usr/local/lib/python3.6/dist-packages/torch/nn/modules/container.py:117: UserWarning: Implicit dimension choice for softmax has been deprecated. Change the call to include dim=X as an argument.\n",
            "  input = module(input)\n"
          ],
          "name": "stderr"
        },
        {
          "output_type": "display_data",
          "data": {
            "image/png": "[encoded data removed]",
            "text/plain": [
              "<Figure size 432x288 with 1 Axes>"
            ]
          },
          "metadata": {
            "tags": [],
            "needs_background": "light"
          }
        },
        {
          "output_type": "stream",
          "text": [
            "\n",
            "loss: 1.461, current_predict_label: 7\n",
            "\n",
            "\n",
            "loss: 1.461, current_predict_label: 7\n",
            "\n",
            "\n",
            "loss: 1.461, current_predict_label: 7\n",
            "\n",
            "\n",
            "loss: 1.680, current_predict_label: 7\n",
            "\n",
            "misclassified label: 9 \n"
          ],
          "name": "stdout"
        },
        {
          "output_type": "display_data",
          "data": {
            "image/png": "[encoded data removed]",
            "text/plain": [
              "<Figure size 432x288 with 1 Axes>"
            ]
          },
          "metadata": {
            "tags": [],
            "needs_background": "light"
          }
        },
        {
          "output_type": "stream",
          "text": [
            "true label: 4 \n"
          ],
          "name": "stdout"
        },
        {
          "output_type": "display_data",
          "data": {
            "image/png": "[encoded data removed]",
            "text/plain": [
              "<Figure size 432x288 with 1 Axes>"
            ]
          },
          "metadata": {
            "tags": [],
            "needs_background": "light"
          }
        },
        {
          "output_type": "stream",
          "text": [
            "\n",
            "loss: 1.461, current_predict_label: 4\n",
            "\n",
            "\n",
            "loss: 1.461, current_predict_label: 4\n",
            "\n",
            "\n",
            "loss: 1.462, current_predict_label: 4\n",
            "\n",
            "\n",
            "loss: 1.492, current_predict_label: 4\n",
            "\n",
            "\n",
            "loss: 2.279, current_predict_label: 8\n",
            "\n",
            "misclassified label: 8 \n"
          ],
          "name": "stdout"
        },
        {
          "output_type": "display_data",
          "data": {
            "image/png": "[encoded data removed]",
            "text/plain": [
              "<Figure size 432x288 with 1 Axes>"
            ]
          },
          "metadata": {
            "tags": [],
            "needs_background": "light"
          }
        },
        {
          "output_type": "display_data",
          "data": {
            "text/plain": [
              "<Figure size 432x288 with 0 Axes>"
            ]
          },
          "metadata": {
            "tags": []
          }
        }
      ]
    },
    {
      "cell_type": "code",
      "metadata": {
        "id": "ptIbh28qVmEu",
        "colab_type": "code",
        "colab": {
          "base_uri": "https://localhost:8080/",
          "height": 354
        },
        "outputId": "6f2b0cd2-e94f-4ba8-a1b0-8cb6e1f4d099"
      },
      "source": [
        "  test_iterator=iter(test_loader)\n",
        "  test_images, test_labels=test_iterator.next()\n",
        "  test_images, test_labels=test_images.to(device), test_labels.to(device)\n",
        "  output = model(test_images)\n",
        "  initial_predicted = torch.max(output.data, 1)[1] \n",
        "  orig_images=test_images.detach().cpu()\n",
        "  orig_images = np.squeeze(orig_images)\n",
        "  plt.imshow(orig_images)\n",
        "  plt.savefig(HOMEWORK_FOLDER+'/No.'+ str(3)+' original test_image.png')\n",
        "  plt.show()\n",
        "  print(\"true label: \"+ str(test_labels.cpu()))\n",
        "  print(\"initial predict: \"+ str(initial_predicted.cpu()))"
      ],
      "execution_count": 82,
      "outputs": [
        {
          "output_type": "stream",
          "text": [
            "/usr/local/lib/python3.6/dist-packages/torch/nn/modules/container.py:117: UserWarning: Implicit dimension choice for softmax has been deprecated. Change the call to include dim=X as an argument.\n",
            "  input = module(input)\n"
          ],
          "name": "stderr"
        },
        {
          "output_type": "display_data",
          "data": {
            "image/png": "[encoded data removed]",
            "text/plain": [
              "<Figure size 432x288 with 1 Axes>"
            ]
          },
          "metadata": {
            "tags": [],
            "needs_background": "light"
          }
        },
        {
          "output_type": "stream",
          "text": [
            "true label: tensor([5])\n",
            "initial predict: tensor([5])\n"
          ],
          "name": "stdout"
        }
      ]
    },
    {
      "cell_type": "code",
      "metadata": {
        "id": "_iI0dXRHBBHv",
        "colab_type": "code",
        "colab": {}
      },
      "source": [
        "def fgsm_attack(input_image, epsilon, perturbation_grad, perturbation):\n",
        "    sign_perturbation_grad = torch.sign(perturbation_grad.data)\n",
        "    perturbation.data += torch.clamp(epsilon * sign_perturbation_grad, min = 0, max = 1)\n",
        "    perturbed_image = input_image +  perturbation.data\n",
        "    perturbed_image = torch.clamp(perturbed_image, -1, 1)\n",
        "    perturbation.data = perturbed_image - input_image\n",
        "    return perturbation"
      ],
      "execution_count": 48,
      "outputs": []
    },
    {
      "cell_type": "code",
      "metadata": {
        "id": "_Cevr1kx4EeD",
        "colab_type": "code",
        "colab": {
          "base_uri": "https://localhost:8080/",
          "height": 440
        },
        "outputId": "17d25cb2-1460-4502-8c11-ddbe799cf38a"
      },
      "source": [
        "  # Accuracy counter\n",
        "  epsilon = 0.2\n",
        "  num_training_episode = 100000\n",
        "  data = test_images\n",
        "  y_truth = test_labels\n",
        "  target = torch.tensor([4])\n",
        "  model.eval()\n",
        "  model.to(device)\n",
        "  error = nn.CrossEntropyLoss()\n",
        "\n",
        "  # Send the data and label to the device\n",
        "  data, target = data.to(device), target.to(device)\n",
        "  perturbation = torch.zeros(data.shape).to(device)\n",
        "  perturbation.requires_grad = True\n",
        "\n",
        "  # If the initial prediction is wrong, dont bother attacking, just move on\n",
        "  if predicted.item() != target.item():\n",
        "    for j in range(num_training_episode):\n",
        "        model.zero_grad()\n",
        "        output = model(data + perturbation)\n",
        "        loss = -error(output, target)\n",
        "        loss.backward()\n",
        "        perturbation_grad = perturbation.grad.data\n",
        "        # Call FGSM Attack\n",
        "        perturbation = fgsm_attack(data, epsilon, perturbation_grad, perturbation)\n",
        "        \n",
        "        # Re-classify the perturbed image\n",
        "        output = model(data + perturbation)\n",
        "        predicted = torch.max(output.data, 1)[1]  # get the index of the max log-probability\n",
        "                  \n",
        "        # Calculate the loss       \n",
        "        if j % 100 == 1:\n",
        "          print('\\nloss: {:.3f}, current_predict_label: {}\\n'.format(\n",
        "          loss.detach().cpu().item(), predicted.detach().cpu().item()))\n",
        "        if predicted.item() == target.item():\n",
        "          print('\\ntrue label: {}, initial predict: {},target label:{}\\n'.format(\n",
        "              y_truth.detach().cpu().item(), initial_predicted.detach().cpu().item(),target.detach().cpu().item()))\n",
        "          final_perturbed_image = (data + perturbation).detach().cpu()\n",
        "          final_perturbed_image = np.squeeze(final_perturbed_image)\n",
        "          plt.imshow(final_perturbed_image)\n",
        "          plt.show() \n",
        "          plt.savefig(HOMEWORK_FOLDER+'/No.'+ str(i)+' perturbed test_image.png')\n",
        "          break\n"
      ],
      "execution_count": 85,
      "outputs": [
        {
          "output_type": "stream",
          "text": [
            "\n",
            "loss: -2.461, current_predict_label: 3\n",
            "\n",
            "\n",
            "true label: 5, initial predict: 5,target label:4\n",
            "\n"
          ],
          "name": "stdout"
        },
        {
          "output_type": "stream",
          "text": [
            "/usr/local/lib/python3.6/dist-packages/torch/nn/modules/container.py:117: UserWarning: Implicit dimension choice for softmax has been deprecated. Change the call to include dim=X as an argument.\n",
            "  input = module(input)\n"
          ],
          "name": "stderr"
        },
        {
          "output_type": "display_data",
          "data": {
            "image/png": "[encoded data removed]",
            "text/plain": [
              "<Figure size 432x288 with 1 Axes>"
            ]
          },
          "metadata": {
            "tags": [],
            "needs_background": "light"
          }
        },
        {
          "output_type": "display_data",
          "data": {
            "text/plain": [
              "<Figure size 432x288 with 0 Axes>"
            ]
          },
          "metadata": {
            "tags": []
          }
        }
      ]
    },
    {
      "cell_type": "code",
      "metadata": {
        "id": "klFoaKbFoFTs",
        "colab_type": "code",
        "colab": {}
      },
      "source": [
        ""
      ],
      "execution_count": null,
      "outputs": []
    }
  ]
}
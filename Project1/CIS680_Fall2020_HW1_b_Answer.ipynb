{
  "nbformat": 4,
  "nbformat_minor": 0,
  "metadata": {
    "colab": {
      "name": "CIS680_Fall2020_HW1_b_Answer.ipynb",
      "provenance": [],
      "collapsed_sections": []
    },
    "kernelspec": {
      "name": "python3",
      "display_name": "Python 3"
    },
    "accelerator": "GPU"
  },
  "cells": [
    {
      "cell_type": "markdown",
      "metadata": {
        "id": "mHbNxdP6eLd2",
        "colab_type": "text"
      },
      "source": [
        "# Google Drive\n",
        "\n",
        "This first code block attaches your google drive and makes a folder structure. You only need to run this when a new VM is assigned to you. To get your code as a single python file go through the following menus File->'Download .py'"
      ]
    },
    {
      "cell_type": "code",
      "metadata": {
        "id": "PYICcmTfdm0J",
        "colab_type": "code",
        "colab": {
          "base_uri": "https://localhost:8080/",
          "height": 35
        },
        "outputId": "91a8e3a0-580b-425f-b90f-602b6eb960c0"
      },
      "source": [
        "import os\n",
        "from google.colab import drive\n",
        "\n",
        "# Mount google drive\n",
        "DRIVE_MOUNT='../content/gdrive'\n",
        "drive.mount(DRIVE_MOUNT)\n",
        "\n",
        "\n",
        "# create folder to write data to\n",
        "CIS680_FOLDER=os.path.join(DRIVE_MOUNT, 'My Drive', 'CIS680_2020')\n",
        "HOMEWORK_FOLDER=os.path.join(CIS680_FOLDER, 'HW1')\n",
        "os.makedirs(HOMEWORK_FOLDER, exist_ok=True)"
      ],
      "execution_count": null,
      "outputs": [
        {
          "output_type": "stream",
          "text": [
            "Drive already mounted at ../content/gdrive; to attempt to forcibly remount, call drive.mount(\"../content/gdrive\", force_remount=True).\n"
          ],
          "name": "stdout"
        }
      ]
    },
    {
      "cell_type": "markdown",
      "metadata": {
        "id": "pw-yUtFqiNFR",
        "colab_type": "text"
      },
      "source": [
        "# PyTorch\n",
        "\n",
        "This code block imports torch and torchvision which provide the libraries for use down below. PyTorch provides many utilities such as standard datasets, for this exercise we will use MNIST. Please see the torchvision documentation for how to instantiate the training and testing data split."
      ]
    },
    {
      "cell_type": "code",
      "metadata": {
        "id": "hguIwry8iH9S",
        "colab_type": "code",
        "colab": {}
      },
      "source": [
        "# torch and torchvision imports\n",
        "import torch\n",
        "import torchvision\n",
        "import numpy as np\n",
        "import torch\n",
        "import torch.nn as nn\n",
        "import torch.nn.functional as F\n",
        "import torch.optim as optim\n",
        "import matplotlib.pyplot as plt"
      ],
      "execution_count": null,
      "outputs": []
    },
    {
      "cell_type": "markdown",
      "metadata": {
        "id": "EvNh3B3FiAPY",
        "colab_type": "text"
      },
      "source": [
        "# 3) Train a Convolutional Neural Network"
      ]
    },
    {
      "cell_type": "code",
      "metadata": {
        "id": "hQuOI_n_iEiF",
        "colab_type": "code",
        "colab": {}
      },
      "source": [
        "# Create your network here\n",
        "class HelloWorld(torch.nn.Module):\n",
        "  def __init__(self):\n",
        "    super(HelloWorld, self).__init__()\n",
        "    self.layer1 = nn.Sequential()                                        # 28 *28 *1\n",
        "    self.layer1.add_module(\"Conv1\", nn.Conv2d(in_channels=1, out_channels=32, kernel_size=5, padding=2))   # 28 *28 *32\n",
        "    self.layer1.add_module(\"BN1\", nn.BatchNorm2d(num_features=32))\n",
        "    self.layer1.add_module(\"Relu1\", nn.ReLU())\n",
        "    self.layer1.add_module(\"Pool1\", nn.AvgPool2d(kernel_size=2, stride=2, padding=0))             # 14 *14 *32 \n",
        "                                                 \n",
        "    self.layer2 = nn.Sequential()   \n",
        "    self.layer2.add_module(\"Conv2\", nn.Conv2d(in_channels=32, out_channels=32, kernel_size=5, padding=2))  # 14 *14 *32\n",
        "    self.layer2.add_module(\"BN2\", nn.BatchNorm2d(num_features=32))\n",
        "    self.layer2.add_module(\"Relu2\", nn.ReLU())\n",
        "    self.layer2.add_module(\"Pool2\", nn.AvgPool2d(kernel_size=2, stride=2, padding=0))            # 7 *7 *32\n",
        "\n",
        "    self.layer3 = nn.Sequential()\n",
        "    self.layer3.add_module(\"Conv3\", nn.Conv2d(in_channels=32, out_channels=64, kernel_size=5, padding=2))  # 7 *7 *64\n",
        "    self.layer3.add_module(\"BN3\", nn.BatchNorm2d(num_features=64))\n",
        "    self.layer3.add_module(\"Relu3\", nn.ReLU())\n",
        "    self.layer3.add_module(\"Pool3\", nn.AvgPool2d(kernel_size=2, stride=2, padding=0))         # 3 *3 *64\n",
        "\n",
        "    self.fully_connected1 = nn.Sequential()\n",
        "    self.fully_connected1.add_module(\"FC1\", nn.Linear(in_features=3 * 3 * 64, out_features=64))  \n",
        "    self.fully_connected1.add_module(\"BNFC1\", nn.BatchNorm1d(64))\n",
        "    self.fully_connected1.add_module(\"ReluFC1\", nn.ReLU())\n",
        "\n",
        "    self.fully_connected2 = nn.Sequential()\n",
        "    self.fully_connected2.add_module(\"FC2\", nn.Linear(in_features=64, out_features=10))\n",
        "    self.fully_connected2.add_module(\"SoftMax\", nn.Softmax())\n",
        "\n",
        "  \n",
        "  def forward(self, x):\n",
        "    x = self.layer1(x)\n",
        "    x = self.layer2(x)\n",
        "    x = self.layer3(x)\n",
        "    x = x.view(-1, 3 * 3 * 64)\n",
        "    x = self.fully_connected1(x)\n",
        "    x = self.fully_connected2(x)\n",
        "    return x\n",
        "  "
      ],
      "execution_count": null,
      "outputs": []
    },
    {
      "cell_type": "code",
      "metadata": {
        "id": "huv-zujjmRbj",
        "colab_type": "code",
        "colab": {}
      },
      "source": [
        "batch_size_train = 64\n",
        "batch_size_test = 1000\n",
        "train_loader = torch.utils.data.DataLoader(\n",
        "  torchvision.datasets.MNIST(root='.', train=True, download=True,\n",
        "                             transform=torchvision.transforms.Compose([\n",
        "                               torchvision.transforms.ToTensor(),\n",
        "                               torchvision.transforms.Normalize(\n",
        "                                 (0.5,), (0.5,))\n",
        "                             ])),\n",
        "  batch_size=batch_size_train, shuffle=True)\n",
        "\n",
        "test_loader = torch.utils.data.DataLoader(\n",
        "  torchvision.datasets.MNIST(root='.', train=False, download=True,\n",
        "                             transform=torchvision.transforms.Compose([\n",
        "                               torchvision.transforms.ToTensor(),\n",
        "                               torchvision.transforms.Normalize(\n",
        "                                 (0.5,), (0.5,))\n",
        "                             ])),\n",
        "  batch_size=batch_size_test, shuffle=True)"
      ],
      "execution_count": null,
      "outputs": []
    },
    {
      "cell_type": "code",
      "metadata": {
        "id": "2nBN8Exglojr",
        "colab_type": "code",
        "colab": {}
      },
      "source": [
        "def train(epoch):\n",
        "    my_first_network.train()\n",
        "    running_loss = 0\n",
        "    running_correct = 0\n",
        "    for batch_idx, (data, target) in enumerate(train_loader):\n",
        "        data, target = data.to(device), target.to(device)\n",
        "        optimizer.zero_grad()\n",
        "        output = my_first_network(data)\n",
        "        loss = error(output, target) \n",
        "        running_loss += loss.item() * data.size(0)\n",
        "        loss.backward()\n",
        "        optimizer.step()\n",
        "        predicted = torch.max(output.data, 1)[1] \n",
        "        running_correct += (predicted == target).sum()\n",
        "        if batch_idx % display_interval == 0:\n",
        "          print('Epoch : {} [{}/{} ({:.0f}%)]\\tLoss: {:.6f}\\t Accuracy:{:.3f}%'.format(\n",
        "                    epoch, batch_idx*len(data), len(train_loader.dataset), 100.*batch_idx / len(train_loader), loss.item(), float(running_correct*100) / float(batch_size_train*(batch_idx + 1))))\n",
        "    epoch_loss = running_loss / len(train_loader.dataset)\n",
        "    epoch_accu = float(running_correct) / len(train_loader.dataset)\n",
        "    train_losses.append(epoch_loss)\n",
        "    train_accuracy.append(epoch_accu)\n",
        "    print('\\nTrain set: Avg. loss: {:.4f}, Accuracy: {}/{} ({:.0f}%)\\n'.format(\n",
        "        epoch_loss, running_correct, len(train_loader.dataset),\n",
        "        100. * running_correct / len(train_loader.dataset)))\n"
      ],
      "execution_count": null,
      "outputs": []
    },
    {
      "cell_type": "code",
      "metadata": {
        "id": "hKxLAXUkvXLr",
        "colab_type": "code",
        "colab": {}
      },
      "source": [
        "def test(epoch):\n",
        "  my_first_network.eval()\n",
        "  running_loss = 0\n",
        "  running_correct = 0\n",
        "  with torch.no_grad():\n",
        "    for data, target in test_loader:\n",
        "      data, target = data.to(device), target.to(device)\n",
        "      output = my_first_network(data)\n",
        "      running_loss += error(output, target).item()* data.size(0)\n",
        "      predicted = torch.max(output.data, 1)[1] \n",
        "      running_correct += (predicted == target).sum()\n",
        "  epoch_loss = running_loss / len(test_loader.dataset)\n",
        "  epoch_accu = float(running_correct) / len(test_loader.dataset)\n",
        "  test_losses.append(epoch_loss)\n",
        "  test_accuracy.append(epoch_accu)\n",
        "  print('\\nTest set: Avg. loss: {:.4f}, Accuracy: {}/{} ({:.0f}%)\\n'.format(\n",
        "    epoch_loss, running_correct, len(test_loader.dataset),\n",
        "    100. * running_correct / len(test_loader.dataset)))\n",
        "  is_new_best(epoch_accu)"
      ],
      "execution_count": null,
      "outputs": []
    },
    {
      "cell_type": "code",
      "metadata": {
        "id": "6rtW_TbjzlFP",
        "colab_type": "code",
        "colab": {}
      },
      "source": [
        "def is_new_best(epoch_accu):\n",
        "  if (epoch_accu > 0.99 and epoch_accu == max(test_accuracy)):\n",
        "    PATH = HOMEWORK_FOLDER+'/pre-trained model'\n",
        "    torch.save(my_first_network.state_dict(), PATH)"
      ],
      "execution_count": null,
      "outputs": []
    },
    {
      "cell_type": "code",
      "metadata": {
        "id": "3HvefwqLkU5-",
        "colab_type": "code",
        "colab": {}
      },
      "source": [
        "# Instantiate your network here\n",
        "torch.manual_seed(42)\n",
        "device = torch.device('cuda:0' if torch.cuda.is_available() else 'cpu')\n",
        "my_first_network = HelloWorld().to(device)\n",
        "learning_rate = 0.002\n",
        "optimizer = torch.optim.Adam(my_first_network.parameters(),lr=learning_rate)\n",
        "error = nn.CrossEntropyLoss()\n",
        "display_interval = 50\n",
        "train_losses = []\n",
        "train_accuracy = []\n",
        "test_losses = []\n",
        "test_accuracy = []\n",
        "# Train your network here\n",
        "num_epochs = 5\n",
        "for epoch in range(num_epochs):\n",
        "  train(epoch)\n",
        "  test(epoch)"
      ],
      "execution_count": null,
      "outputs": []
    },
    {
      "cell_type": "markdown",
      "metadata": {
        "id": "tSGydqA0aJmO",
        "colab_type": "text"
      },
      "source": [
        "**Training & Testing Loss**"
      ]
    },
    {
      "cell_type": "code",
      "metadata": {
        "id": "xD-PGcLrP_0d",
        "colab_type": "code",
        "colab": {
          "base_uri": "https://localhost:8080/",
          "height": 295
        },
        "outputId": "ab039957-ff47-41fd-e295-dcf132f64eae"
      },
      "source": [
        "import numpy as np\n",
        "import matplotlib.pyplot as plt\n",
        "fig = plt.figure()\n",
        "plt.plot(np.arange(1, num_epochs + 1), np.array(train_losses))\n",
        "plt.plot(np.arange(1, num_epochs + 1), np.array(test_losses))\n",
        "plt.legend(['Train','Test'], loc='upper right')\n",
        "plt.xlabel('Number of Epochs')\n",
        "plt.ylabel('Cross Entropy Loss')\n",
        "plt.xticks(range(1,num_epochs + 1))\n",
        "plt.title('Cross Entropy Loss of Training and Testing')\n",
        "plt.savefig(HOMEWORK_FOLDER+'/Cross Entropy Loss of Training and Testing.png')\n",
        "plt.show()"
      ],
      "execution_count": null,
      "outputs": [
        {
          "output_type": "display_data",
          "data": {
            "image/png": "[encoded data removed]",
            "text/plain": [
              "<Figure size 432x288 with 1 Axes>"
            ]
          },
          "metadata": {
            "tags": [],
            "needs_background": "light"
          }
        }
      ]
    },
    {
      "cell_type": "markdown",
      "metadata": {
        "id": "4UXwZi8g2G1d",
        "colab_type": "text"
      },
      "source": [
        "**Training & Testing Accuracy**"
      ]
    },
    {
      "cell_type": "code",
      "metadata": {
        "id": "aqxLEybP01n1",
        "colab_type": "code",
        "colab": {
          "base_uri": "https://localhost:8080/",
          "height": 295
        },
        "outputId": "136b6319-7e3c-413f-a549-64522b436d94"
      },
      "source": [
        "import numpy as np\n",
        "import matplotlib.pyplot as plt\n",
        "fig = plt.figure()\n",
        "plt.plot(np.arange(1, num_epochs + 1), np.array(train_accuracy))\n",
        "plt.plot(np.arange(1, num_epochs + 1), np.array(test_accuracy))\n",
        "plt.legend(['Train','Test'], loc='upper right')\n",
        "plt.xlabel('Number of Epochs')\n",
        "plt.ylabel('Accuracy')\n",
        "plt.xticks(range(1,num_epochs + 1))\n",
        "plt.title('Accuracy of training and testing')\n",
        "plt.savefig(HOMEWORK_FOLDER+'/Accuracy of training and testing.png')\n",
        "plt.show()"
      ],
      "execution_count": null,
      "outputs": [
        {
          "output_type": "display_data",
          "data": {
            "image/png": "[encoded data removed]",
            "text/plain": [
              "<Figure size 432x288 with 1 Axes>"
            ]
          },
          "metadata": {
            "tags": [],
            "needs_background": "light"
          }
        }
      ]
    },
    {
      "cell_type": "code",
      "metadata": {
        "id": "5SzMwFH9ssOn",
        "colab_type": "code",
        "colab": {}
      },
      "source": [
        "device = torch.device('cuda:0' if torch.cuda.is_available() else 'cpu')\n",
        "PATH = HOMEWORK_FOLDER+'/pre-trained model'\n",
        "model = HelloWorld()\n",
        "model.load_state_dict(torch.load(PATH))\n",
        "model.to(device)\n",
        "\n",
        "running_loss = 0\n",
        "running_correct = 0\n",
        "with torch.no_grad():\n",
        "  for data, target in test_loader:\n",
        "    data, target = data.to(device), target.to(device)\n",
        "    output = model(data)\n",
        "    running_loss += error(output, target).item()* data.size(0)\n",
        "    predicted = torch.max(output.data, 1)[1] \n",
        "    running_correct += (predicted == target).sum()\n",
        "epoch_loss = running_loss / len(test_loader.dataset)\n",
        "epoch_accu = float(running_correct) / len(test_loader.dataset)\n",
        "\n",
        "print('\\nTest set: Avg. loss: {:.4f}, Accuracy: {}/{} ({:.0f}%)\\n'.format(\n",
        "  epoch_loss, running_correct, len(test_loader.dataset),\n",
        "  100. * running_correct / len(test_loader.dataset)))\n",
        "is_new_best(epoch_accu)"
      ],
      "execution_count": null,
      "outputs": []
    },
    {
      "cell_type": "code",
      "metadata": {
        "id": "X4pj7MyY3PTv",
        "colab_type": "code",
        "colab": {
          "base_uri": "https://localhost:8080/",
          "height": 535
        },
        "outputId": "101dd000-0509-4420-e4c0-ebebcac509fc"
      },
      "source": [
        "# epsilons = [0, .05, .1, .15, .2, .25, .3]\n",
        "\n",
        "test_loader = torch.utils.data.DataLoader(\n",
        "  torchvision.datasets.MNIST(root='.', train=False, download=True,\n",
        "                             transform=torchvision.transforms.Compose([\n",
        "                               torchvision.transforms.ToTensor(),\n",
        "                               torchvision.transforms.Normalize(\n",
        "                                 (0.5,), (0.5,))\n",
        "                             ])),\n",
        "  batch_size=1, shuffle=True)\n",
        "\n",
        "# Define what device we are using\n",
        "print(\"CUDA Available: \",torch.cuda.is_available())\n",
        "use_cuda=True\n",
        "device = torch.device(\"cuda\" if (use_cuda and torch.cuda.is_available()) else \"cpu\")\n",
        "\n",
        "# Set the model in evaluation mode. In this case this is for the Dropout layers\n",
        "PATH = HOMEWORK_FOLDER+'/pre-trained model'\n",
        "model = HelloWorld().to(device)\n",
        "model.load_state_dict(torch.load(PATH))\n",
        "model.eval()"
      ],
      "execution_count": null,
      "outputs": [
        {
          "output_type": "stream",
          "text": [
            "CUDA Available:  True\n"
          ],
          "name": "stdout"
        },
        {
          "output_type": "execute_result",
          "data": {
            "text/plain": [
              "HelloWorld(\n",
              "  (layer1): Sequential(\n",
              "    (Conv1): Conv2d(1, 32, kernel_size=(5, 5), stride=(1, 1), padding=(2, 2))\n",
              "    (BN1): BatchNorm2d(32, eps=1e-05, momentum=0.1, affine=True, track_running_stats=True)\n",
              "    (Relu1): ReLU()\n",
              "    (Pool1): AvgPool2d(kernel_size=2, stride=2, padding=0)\n",
              "  )\n",
              "  (layer2): Sequential(\n",
              "    (Conv2): Conv2d(32, 32, kernel_size=(5, 5), stride=(1, 1), padding=(2, 2))\n",
              "    (BN2): BatchNorm2d(32, eps=1e-05, momentum=0.1, affine=True, track_running_stats=True)\n",
              "    (Relu2): ReLU()\n",
              "    (Pool2): AvgPool2d(kernel_size=2, stride=2, padding=0)\n",
              "  )\n",
              "  (layer3): Sequential(\n",
              "    (Conv3): Conv2d(32, 64, kernel_size=(5, 5), stride=(1, 1), padding=(2, 2))\n",
              "    (BN3): BatchNorm2d(64, eps=1e-05, momentum=0.1, affine=True, track_running_stats=True)\n",
              "    (Relu3): ReLU()\n",
              "    (Pool3): AvgPool2d(kernel_size=2, stride=2, padding=0)\n",
              "  )\n",
              "  (fully_connected1): Sequential(\n",
              "    (FC1): Linear(in_features=576, out_features=64, bias=True)\n",
              "    (BNFC1): BatchNorm1d(64, eps=1e-05, momentum=0.1, affine=True, track_running_stats=True)\n",
              "    (ReluFC1): ReLU()\n",
              "  )\n",
              "  (fully_connected2): Sequential(\n",
              "    (FC2): Linear(in_features=64, out_features=10, bias=True)\n",
              "    (SoftMax): Softmax(dim=None)\n",
              "  )\n",
              ")"
            ]
          },
          "metadata": {
            "tags": []
          },
          "execution_count": 7
        }
      ]
    },
    {
      "cell_type": "code",
      "metadata": {
        "id": "Cl5MC_fk6LW2",
        "colab_type": "code",
        "colab": {}
      },
      "source": [
        "def fgsm_attack(input_image, epsilon, perturbation_grad, perturbation):\n",
        "    sign_perturbation_grad = torch.sign(perturbation_grad.data)\n",
        "    perturbation.data += torch.clamp(epsilon * sign_perturbation_grad, min = 0, max = 1)\n",
        "    perturbed_image = input_image +  perturbation.data\n",
        "    perturbed_image = torch.clamp(perturbed_image, -1, 1)\n",
        "    perturbation.data = perturbed_image - input_image\n",
        "    return perturbation"
      ],
      "execution_count": 39,
      "outputs": []
    },
    {
      "cell_type": "code",
      "metadata": {
        "id": "qht-u6pI83qo",
        "colab_type": "code",
        "colab": {
          "base_uri": "https://localhost:8080/",
          "height": 1000
        },
        "outputId": "3d42b260-1ef4-43fa-a87d-088142a9647a"
      },
      "source": [
        "  fig = plt.figure()\n",
        "  for i in range(2):  \n",
        "    test_iterator=iter(test_loader)\n",
        "    test_images, test_labels=test_iterator.next()\n",
        "    test_images, test_labels=test_images.to(device), test_labels.to(device)\n",
        "    output = model(test_images)\n",
        "    predicted = torch.max(output.data, 1)[1] \n",
        "    print(predicted[0].cpu())\n",
        "    orig_images=test_images.detach().cpu()\n",
        "    orig_images = np.squeeze(orig_images)\n",
        "    plt.imshow(orig_images)\n",
        "    plt.savefig(HOMEWORK_FOLDER+'/No.'+ str(i)+' original test_image.png')\n",
        "    plt.show()\n",
        "    # Accuracy counter\n",
        "    epsilon = 0.001\n",
        "    num_training_episode = 100000\n",
        "    data = test_images\n",
        "    target = test_labels\n",
        "    model.eval()\n",
        "\n",
        "    # Send the data and label to the device\n",
        "    data, target = data.to(device), target.to(device)\n",
        "    perturbation = torch.zeros(data.shape).to(device)\n",
        "\n",
        "    # Set requires_grad attribute of tensor. Important for Attack\n",
        "    # data.requires_grad = True\n",
        "    perturbation.requires_grad = True\n",
        "    # Forward pass the data through the model\n",
        "    output = model(data + perturbation)\n",
        "    predicted = torch.max(output.data, 1)[1]  # get the index of the max log-probability\n",
        "\n",
        "    # If the initial prediction is wrong, dont bother attacking, just move on\n",
        "    if predicted.item() == target.item():\n",
        "      for j in range(num_training_episode):\n",
        "          # Calculate the loss\n",
        "          loss = error(output, target)\n",
        "          if j % 1000 == 1:\n",
        "            print(\"loss: \" + str(loss) + \"predict: \" + str(predicted[0].cpu()))\n",
        "          # Zero all existing gradients\n",
        "          model.zero_grad()\n",
        "\n",
        "          # Calculate gradients of model in backward pass\n",
        "          loss.backward()\n",
        "\n",
        "          # Collect datagrad\n",
        "          perturbation_grad = perturbation.grad.data\n",
        "          # print(np.squeeze(perturbation_grad))\n",
        "\n",
        "          # Call FGSM Attack\n",
        "          perturbation = fgsm_attack(data, epsilon, perturbation_grad, perturbation)\n",
        "          \n",
        "\n",
        "          # Re-classify the perturbed image\n",
        "          output = model(data + perturbation)\n",
        "          perturbation.grad.zero_()\n",
        "          predicted = torch.max(output.data, 1)[1]\n",
        "          if predicted.item() != target.item() and torch.max(output.data)>= 0.9:\n",
        "            print(predicted[0].cpu())\n",
        "            final_perturbed_image = (data + perturbation).detach().cpu()\n",
        "            final_perturbed_image = np.squeeze(final_perturbed_image)\n",
        "            plt.imshow(final_perturbed_image)\n",
        "            plt.show() \n",
        "            plt.savefig(HOMEWORK_FOLDER+'/No.'+ str(i)+' perturbed test_image.png')\n",
        "            break\n"
      ],
      "execution_count": 40,
      "outputs": [
        {
          "output_type": "stream",
          "text": [
            "tensor(2)\n"
          ],
          "name": "stdout"
        },
        {
          "output_type": "stream",
          "text": [
            "/usr/local/lib/python3.6/dist-packages/torch/nn/modules/container.py:117: UserWarning: Implicit dimension choice for softmax has been deprecated. Change the call to include dim=X as an argument.\n",
            "  input = module(input)\n"
          ],
          "name": "stderr"
        },
        {
          "output_type": "display_data",
          "data": {
            "image/png": "[encoded data removed]",
            "text/plain": [
              "<Figure size 432x288 with 1 Axes>"
            ]
          },
          "metadata": {
            "tags": [],
            "needs_background": "light"
          }
        },
        {
          "output_type": "stream",
          "text": [
            "loss: tensor(1.4612, device='cuda:0', grad_fn=<NllLossBackward>)predict: tensor(2)\n",
            "tensor(0)\n"
          ],
          "name": "stdout"
        },
        {
          "output_type": "display_data",
          "data": {
            "image/png": "[encoded data removed]",
            "text/plain": [
              "<Figure size 432x288 with 1 Axes>"
            ]
          },
          "metadata": {
            "tags": [],
            "needs_background": "light"
          }
        },
        {
          "output_type": "stream",
          "text": [
            "tensor(5)\n"
          ],
          "name": "stdout"
        },
        {
          "output_type": "display_data",
          "data": {
            "image/png": "[encoded data removed]",
            "text/plain": [
              "<Figure size 432x288 with 1 Axes>"
            ]
          },
          "metadata": {
            "tags": [],
            "needs_background": "light"
          }
        },
        {
          "output_type": "stream",
          "text": [
            "loss: tensor(1.4612, device='cuda:0', grad_fn=<NllLossBackward>)predict: tensor(5)\n",
            "tensor(4)\n"
          ],
          "name": "stdout"
        },
        {
          "output_type": "display_data",
          "data": {
            "image/png": "[encoded data removed]",
            "text/plain": [
              "<Figure size 432x288 with 1 Axes>"
            ]
          },
          "metadata": {
            "tags": [],
            "needs_background": "light"
          }
        },
        {
          "output_type": "display_data",
          "data": {
            "text/plain": [
              "<Figure size 432x288 with 0 Axes>"
            ]
          },
          "metadata": {
            "tags": []
          }
        }
      ]
    },
    {
      "cell_type": "code",
      "metadata": {
        "id": "ptIbh28qVmEu",
        "colab_type": "code",
        "colab": {
          "base_uri": "https://localhost:8080/",
          "height": 316
        },
        "outputId": "4f5feb21-b6d0-47a7-dbc8-9465164c28de"
      },
      "source": [
        "  test_iterator=iter(test_loader)\n",
        "  test_images, test_labels=test_iterator.next()\n",
        "  test_images, test_labels=test_images.to(device), test_labels.to(device)\n",
        "  output = model(test_images)\n",
        "  predicted = torch.max(output.data, 1)[1] \n",
        "  print(predicted[0].cpu())\n",
        "  orig_images=test_images.detach().cpu()\n",
        "  orig_images = np.squeeze(orig_images)\n",
        "  plt.imshow(orig_images)\n",
        "  plt.savefig(HOMEWORK_FOLDER+'/No.'+ str(3)+' original test_image.png')\n",
        "  plt.show()\n",
        " "
      ],
      "execution_count": 55,
      "outputs": [
        {
          "output_type": "stream",
          "text": [
            "tensor(7)\n"
          ],
          "name": "stdout"
        },
        {
          "output_type": "stream",
          "text": [
            "/usr/local/lib/python3.6/dist-packages/torch/nn/modules/container.py:117: UserWarning: Implicit dimension choice for softmax has been deprecated. Change the call to include dim=X as an argument.\n",
            "  input = module(input)\n"
          ],
          "name": "stderr"
        },
        {
          "output_type": "display_data",
          "data": {
            "image/png": "[encoded data removed]",
            "text/plain": [
              "<Figure size 432x288 with 1 Axes>"
            ]
          },
          "metadata": {
            "tags": [],
            "needs_background": "light"
          }
        }
      ]
    },
    {
      "cell_type": "code",
      "metadata": {
        "id": "eauIODqW7mlB",
        "colab_type": "code",
        "colab": {
          "base_uri": "https://localhost:8080/",
          "height": 35
        },
        "outputId": "f5118f0e-9dae-4ccd-fa1d-23ec8168de1b"
      },
      "source": [
        "test_labels"
      ],
      "execution_count": 42,
      "outputs": [
        {
          "output_type": "execute_result",
          "data": {
            "text/plain": [
              "tensor([6], device='cuda:0')"
            ]
          },
          "metadata": {
            "tags": []
          },
          "execution_count": 42
        }
      ]
    },
    {
      "cell_type": "code",
      "metadata": {
        "id": "_iI0dXRHBBHv",
        "colab_type": "code",
        "colab": {}
      },
      "source": [
        "def fgsm_attack(input_image, epsilon, perturbation_grad, perturbation):\n",
        "    sign_perturbation_grad = torch.sign(perturbation_grad.data)\n",
        "    perturbation.data += torch.clamp(epsilon * sign_perturbation_grad, min = 0)\n",
        "    perturbed_image = input_image +  perturbation.data\n",
        "    perturbed_image = torch.clamp(perturbed_image, -1, 1)\n",
        "    perturbation.data = perturbed_image - input_image\n",
        "    return perturbation"
      ],
      "execution_count": 58,
      "outputs": []
    },
    {
      "cell_type": "code",
      "metadata": {
        "id": "_Cevr1kx4EeD",
        "colab_type": "code",
        "colab": {
          "base_uri": "https://localhost:8080/",
          "height": 935
        },
        "outputId": "f18f38f1-2a88-4869-d46b-6b55bccb15ec"
      },
      "source": [
        "  # Accuracy counter\n",
        "  epsilon = 0.2\n",
        "  num_training_episode = 100000\n",
        "  data = test_images\n",
        "  y_truth = test_labels\n",
        "  target = torch.tensor([1])\n",
        "  model.eval()\n",
        "  model.to(device)\n",
        "  error = nn.CrossEntropyLoss()\n",
        "\n",
        "  # Send the data and label to the device\n",
        "  data, target = data.to(device), target.to(device)\n",
        "  perturbation = torch.zeros(data.shape).to(device)\n",
        "\n",
        "  # Set requires_grad attribute of tensor. Important for Attack\n",
        "  # data.requires_grad = True\n",
        "  perturbation.requires_grad = True\n",
        "  # Forward pass the data through the model\n",
        "  output = model(data + perturbation)\n",
        "  predicted = torch.max(output.data, 1)[1]  # get the index of the max log-probability\n",
        "\n",
        "  # If the initial prediction is wrong, dont bother attacking, just move on\n",
        "  for j in range(num_training_episode):\n",
        "      # Calculate the loss\n",
        "      loss = -error(output, target)\n",
        "      if j % 1000 == 1:\n",
        "        print(\"loss: \" + str(loss) + \"predict: \" + str(predicted[0].cpu()))\n",
        "      # Zero all existing gradients\n",
        "      model.zero_grad()\n",
        "\n",
        "      # Calculate gradients of model in backward pass\n",
        "      loss.backward()\n",
        "\n",
        "      # Collect datagrad\n",
        "      perturbation_grad = perturbation.grad.data\n",
        "      # print(np.squeeze(perturbation_grad))\n",
        "\n",
        "      # Call FGSM Attack\n",
        "      perturbation = fgsm_attack(data, epsilon, perturbation_grad, perturbation)\n",
        "      # perturbation.grad.zero_()\n",
        "      \n",
        "\n",
        "      # Re-classify the perturbed image\n",
        "      output = model(data + perturbation)\n",
        "      \n",
        "      predicted = torch.max(output.data, 1)[1]\n",
        "      if predicted.item() == target.item():\n",
        "        print(predicted[0].cpu())\n",
        "        final_perturbed_image = (data + perturbation).detach().cpu()\n",
        "        final_perturbed_image = np.squeeze(final_perturbed_image)\n",
        "        plt.imshow(final_perturbed_image)\n",
        "        plt.show() \n",
        "        plt.savefig(HOMEWORK_FOLDER+'/No.'+ str(3)+' perturbed test_image.png')\n",
        "        break\n"
      ],
      "execution_count": 65,
      "outputs": [
        {
          "output_type": "stream",
          "text": [
            "/usr/local/lib/python3.6/dist-packages/torch/nn/modules/container.py:117: UserWarning: Implicit dimension choice for softmax has been deprecated. Change the call to include dim=X as an argument.\n",
            "  input = module(input)\n"
          ],
          "name": "stderr"
        },
        {
          "output_type": "stream",
          "text": [
            "loss: tensor(-2.4608, device='cuda:0', grad_fn=<NegBackward>)predict: tensor(8)\n",
            "loss: tensor(-2.4146, device='cuda:0', grad_fn=<NegBackward>)predict: tensor(0)\n",
            "loss: tensor(-2.4145, device='cuda:0', grad_fn=<NegBackward>)predict: tensor(8)\n",
            "loss: tensor(-2.4145, device='cuda:0', grad_fn=<NegBackward>)predict: tensor(0)\n",
            "loss: tensor(-2.4145, device='cuda:0', grad_fn=<NegBackward>)predict: tensor(4)\n",
            "loss: tensor(-2.4145, device='cuda:0', grad_fn=<NegBackward>)predict: tensor(0)\n",
            "loss: tensor(-2.4145, device='cuda:0', grad_fn=<NegBackward>)predict: tensor(8)\n",
            "loss: tensor(-2.4145, device='cuda:0', grad_fn=<NegBackward>)predict: tensor(4)\n",
            "loss: tensor(-2.4145, device='cuda:0', grad_fn=<NegBackward>)predict: tensor(0)\n",
            "loss: tensor(-2.4145, device='cuda:0', grad_fn=<NegBackward>)predict: tensor(4)\n",
            "loss: tensor(-2.4145, device='cuda:0', grad_fn=<NegBackward>)predict: tensor(4)\n",
            "loss: tensor(-2.4145, device='cuda:0', grad_fn=<NegBackward>)predict: tensor(8)\n",
            "loss: tensor(-2.4145, device='cuda:0', grad_fn=<NegBackward>)predict: tensor(8)\n",
            "loss: tensor(-2.4145, device='cuda:0', grad_fn=<NegBackward>)predict: tensor(8)\n",
            "loss: tensor(-2.4145, device='cuda:0', grad_fn=<NegBackward>)predict: tensor(8)\n",
            "loss: tensor(-2.4145, device='cuda:0', grad_fn=<NegBackward>)predict: tensor(8)\n",
            "loss: tensor(-2.4145, device='cuda:0', grad_fn=<NegBackward>)predict: tensor(8)\n",
            "loss: tensor(-2.4145, device='cuda:0', grad_fn=<NegBackward>)predict: tensor(8)\n",
            "loss: tensor(-2.4145, device='cuda:0', grad_fn=<NegBackward>)predict: tensor(8)\n",
            "loss: tensor(-2.4145, device='cuda:0', grad_fn=<NegBackward>)predict: tensor(8)\n",
            "loss: tensor(-2.4145, device='cuda:0', grad_fn=<NegBackward>)predict: tensor(8)\n",
            "loss: tensor(-2.4145, device='cuda:0', grad_fn=<NegBackward>)predict: tensor(8)\n",
            "loss: tensor(-2.4145, device='cuda:0', grad_fn=<NegBackward>)predict: tensor(8)\n",
            "loss: tensor(-2.4145, device='cuda:0', grad_fn=<NegBackward>)predict: tensor(8)\n",
            "loss: tensor(-2.4145, device='cuda:0', grad_fn=<NegBackward>)predict: tensor(8)\n",
            "loss: tensor(-2.4145, device='cuda:0', grad_fn=<NegBackward>)predict: tensor(8)\n",
            "loss: tensor(-2.4145, device='cuda:0', grad_fn=<NegBackward>)predict: tensor(8)\n",
            "loss: tensor(-2.4145, device='cuda:0', grad_fn=<NegBackward>)predict: tensor(8)\n",
            "loss: tensor(-2.4145, device='cuda:0', grad_fn=<NegBackward>)predict: tensor(8)\n",
            "loss: tensor(-2.4145, device='cuda:0', grad_fn=<NegBackward>)predict: tensor(8)\n"
          ],
          "name": "stdout"
        },
        {
          "output_type": "error",
          "ename": "KeyboardInterrupt",
          "evalue": "ignored",
          "traceback": [
            "\u001b[0;31m---------------------------------------------------------------------------\u001b[0m",
            "\u001b[0;31mKeyboardInterrupt\u001b[0m                         Traceback (most recent call last)",
            "\u001b[0;32m<ipython-input-65-8c36260619fe>\u001b[0m in \u001b[0;36m<module>\u001b[0;34m()\u001b[0m\n\u001b[1;32m     27\u001b[0m       \u001b[0mprint\u001b[0m\u001b[0;34m(\u001b[0m\u001b[0;34m\"loss: \"\u001b[0m \u001b[0;34m+\u001b[0m \u001b[0mstr\u001b[0m\u001b[0;34m(\u001b[0m\u001b[0mloss\u001b[0m\u001b[0;34m)\u001b[0m \u001b[0;34m+\u001b[0m \u001b[0;34m\"predict: \"\u001b[0m \u001b[0;34m+\u001b[0m \u001b[0mstr\u001b[0m\u001b[0;34m(\u001b[0m\u001b[0mpredicted\u001b[0m\u001b[0;34m[\u001b[0m\u001b[0;36m0\u001b[0m\u001b[0;34m]\u001b[0m\u001b[0;34m.\u001b[0m\u001b[0mcpu\u001b[0m\u001b[0;34m(\u001b[0m\u001b[0;34m)\u001b[0m\u001b[0;34m)\u001b[0m\u001b[0;34m)\u001b[0m\u001b[0;34m\u001b[0m\u001b[0;34m\u001b[0m\u001b[0m\n\u001b[1;32m     28\u001b[0m     \u001b[0;31m# Zero all existing gradients\u001b[0m\u001b[0;34m\u001b[0m\u001b[0;34m\u001b[0m\u001b[0;34m\u001b[0m\u001b[0m\n\u001b[0;32m---> 29\u001b[0;31m     \u001b[0mmodel\u001b[0m\u001b[0;34m.\u001b[0m\u001b[0mzero_grad\u001b[0m\u001b[0;34m(\u001b[0m\u001b[0;34m)\u001b[0m\u001b[0;34m\u001b[0m\u001b[0;34m\u001b[0m\u001b[0m\n\u001b[0m\u001b[1;32m     30\u001b[0m \u001b[0;34m\u001b[0m\u001b[0m\n\u001b[1;32m     31\u001b[0m     \u001b[0;31m# Calculate gradients of model in backward pass\u001b[0m\u001b[0;34m\u001b[0m\u001b[0;34m\u001b[0m\u001b[0;34m\u001b[0m\u001b[0m\n",
            "\u001b[0;32m/usr/local/lib/python3.6/dist-packages/torch/nn/modules/module.py\u001b[0m in \u001b[0;36mzero_grad\u001b[0;34m(self)\u001b[0m\n\u001b[1;32m   1316\u001b[0m                 \"If you need gradients in your forward method, consider using autograd.grad instead.\")\n\u001b[1;32m   1317\u001b[0m \u001b[0;34m\u001b[0m\u001b[0m\n\u001b[0;32m-> 1318\u001b[0;31m         \u001b[0;32mfor\u001b[0m \u001b[0mp\u001b[0m \u001b[0;32min\u001b[0m \u001b[0mself\u001b[0m\u001b[0;34m.\u001b[0m\u001b[0mparameters\u001b[0m\u001b[0;34m(\u001b[0m\u001b[0;34m)\u001b[0m\u001b[0;34m:\u001b[0m\u001b[0;34m\u001b[0m\u001b[0;34m\u001b[0m\u001b[0m\n\u001b[0m\u001b[1;32m   1319\u001b[0m             \u001b[0;32mif\u001b[0m \u001b[0mp\u001b[0m\u001b[0;34m.\u001b[0m\u001b[0mgrad\u001b[0m \u001b[0;32mis\u001b[0m \u001b[0;32mnot\u001b[0m \u001b[0;32mNone\u001b[0m\u001b[0;34m:\u001b[0m\u001b[0;34m\u001b[0m\u001b[0;34m\u001b[0m\u001b[0m\n\u001b[1;32m   1320\u001b[0m                 \u001b[0mp\u001b[0m\u001b[0;34m.\u001b[0m\u001b[0mgrad\u001b[0m\u001b[0;34m.\u001b[0m\u001b[0mdetach_\u001b[0m\u001b[0;34m(\u001b[0m\u001b[0;34m)\u001b[0m\u001b[0;34m\u001b[0m\u001b[0;34m\u001b[0m\u001b[0m\n",
            "\u001b[0;32m/usr/local/lib/python3.6/dist-packages/torch/nn/modules/module.py\u001b[0m in \u001b[0;36mparameters\u001b[0;34m(self, recurse)\u001b[0m\n\u001b[1;32m   1080\u001b[0m \u001b[0;34m\u001b[0m\u001b[0m\n\u001b[1;32m   1081\u001b[0m         \"\"\"\n\u001b[0;32m-> 1082\u001b[0;31m         \u001b[0;32mfor\u001b[0m \u001b[0mname\u001b[0m\u001b[0;34m,\u001b[0m \u001b[0mparam\u001b[0m \u001b[0;32min\u001b[0m \u001b[0mself\u001b[0m\u001b[0;34m.\u001b[0m\u001b[0mnamed_parameters\u001b[0m\u001b[0;34m(\u001b[0m\u001b[0mrecurse\u001b[0m\u001b[0;34m=\u001b[0m\u001b[0mrecurse\u001b[0m\u001b[0;34m)\u001b[0m\u001b[0;34m:\u001b[0m\u001b[0;34m\u001b[0m\u001b[0;34m\u001b[0m\u001b[0m\n\u001b[0m\u001b[1;32m   1083\u001b[0m             \u001b[0;32myield\u001b[0m \u001b[0mparam\u001b[0m\u001b[0;34m\u001b[0m\u001b[0;34m\u001b[0m\u001b[0m\n\u001b[1;32m   1084\u001b[0m \u001b[0;34m\u001b[0m\u001b[0m\n",
            "\u001b[0;32m/usr/local/lib/python3.6/dist-packages/torch/nn/modules/module.py\u001b[0m in \u001b[0;36mnamed_parameters\u001b[0;34m(self, prefix, recurse)\u001b[0m\n\u001b[1;32m   1106\u001b[0m             \u001b[0;32mlambda\u001b[0m \u001b[0mmodule\u001b[0m\u001b[0;34m:\u001b[0m \u001b[0mmodule\u001b[0m\u001b[0;34m.\u001b[0m\u001b[0m_parameters\u001b[0m\u001b[0;34m.\u001b[0m\u001b[0mitems\u001b[0m\u001b[0;34m(\u001b[0m\u001b[0;34m)\u001b[0m\u001b[0;34m,\u001b[0m\u001b[0;34m\u001b[0m\u001b[0;34m\u001b[0m\u001b[0m\n\u001b[1;32m   1107\u001b[0m             prefix=prefix, recurse=recurse)\n\u001b[0;32m-> 1108\u001b[0;31m         \u001b[0;32mfor\u001b[0m \u001b[0melem\u001b[0m \u001b[0;32min\u001b[0m \u001b[0mgen\u001b[0m\u001b[0;34m:\u001b[0m\u001b[0;34m\u001b[0m\u001b[0;34m\u001b[0m\u001b[0m\n\u001b[0m\u001b[1;32m   1109\u001b[0m             \u001b[0;32myield\u001b[0m \u001b[0melem\u001b[0m\u001b[0;34m\u001b[0m\u001b[0;34m\u001b[0m\u001b[0m\n\u001b[1;32m   1110\u001b[0m \u001b[0;34m\u001b[0m\u001b[0m\n",
            "\u001b[0;32m/usr/local/lib/python3.6/dist-packages/torch/nn/modules/module.py\u001b[0m in \u001b[0;36m_named_members\u001b[0;34m(self, get_members_fn, prefix, recurse)\u001b[0m\n\u001b[1;32m   1056\u001b[0m                     \u001b[0;32mcontinue\u001b[0m\u001b[0;34m\u001b[0m\u001b[0;34m\u001b[0m\u001b[0m\n\u001b[1;32m   1057\u001b[0m                 \u001b[0mmemo\u001b[0m\u001b[0;34m.\u001b[0m\u001b[0madd\u001b[0m\u001b[0;34m(\u001b[0m\u001b[0mv\u001b[0m\u001b[0;34m)\u001b[0m\u001b[0;34m\u001b[0m\u001b[0;34m\u001b[0m\u001b[0m\n\u001b[0;32m-> 1058\u001b[0;31m                 \u001b[0mname\u001b[0m \u001b[0;34m=\u001b[0m \u001b[0mmodule_prefix\u001b[0m \u001b[0;34m+\u001b[0m \u001b[0;34m(\u001b[0m\u001b[0;34m'.'\u001b[0m \u001b[0;32mif\u001b[0m \u001b[0mmodule_prefix\u001b[0m \u001b[0;32melse\u001b[0m \u001b[0;34m''\u001b[0m\u001b[0;34m)\u001b[0m \u001b[0;34m+\u001b[0m \u001b[0mk\u001b[0m\u001b[0;34m\u001b[0m\u001b[0;34m\u001b[0m\u001b[0m\n\u001b[0m\u001b[1;32m   1059\u001b[0m                 \u001b[0;32myield\u001b[0m \u001b[0mname\u001b[0m\u001b[0;34m,\u001b[0m \u001b[0mv\u001b[0m\u001b[0;34m\u001b[0m\u001b[0;34m\u001b[0m\u001b[0m\n\u001b[1;32m   1060\u001b[0m \u001b[0;34m\u001b[0m\u001b[0m\n",
            "\u001b[0;31mKeyboardInterrupt\u001b[0m: "
          ]
        }
      ]
    },
    {
      "cell_type": "code",
      "metadata": {
        "id": "klFoaKbFoFTs",
        "colab_type": "code",
        "colab": {}
      },
      "source": [
        ""
      ],
      "execution_count": null,
      "outputs": []
    }
  ]
}
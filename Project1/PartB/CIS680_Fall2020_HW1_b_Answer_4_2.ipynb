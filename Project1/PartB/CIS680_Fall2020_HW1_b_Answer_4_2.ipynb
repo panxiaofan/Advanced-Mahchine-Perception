{
  "nbformat": 4,
  "nbformat_minor": 0,
  "metadata": {
    "colab": {
      "name": "CIS680_Fall2020_HW1_b_Answer_4.2.ipynb",
      "provenance": [],
      "collapsed_sections": [],
      "toc_visible": true,
      "include_colab_link": true
    },
    "kernelspec": {
      "name": "python3",
      "display_name": "Python 3"
    },
    "accelerator": "GPU",
    "widgets": {
      "application/vnd.jupyter.widget-state+json": {
        "fe42342dd27a4f9ab48db671fa81be01": {
          "model_module": "@jupyter-widgets/controls",
          "model_name": "HBoxModel",
          "state": {
            "_view_name": "HBoxView",
            "_dom_classes": [],
            "_model_name": "HBoxModel",
            "_view_module": "@jupyter-widgets/controls",
            "_model_module_version": "1.5.0",
            "_view_count": null,
            "_view_module_version": "1.5.0",
            "box_style": "",
            "layout": "IPY_MODEL_eb29c1f7abc0489c8dd32f571e7af70e",
            "_model_module": "@jupyter-widgets/controls",
            "children": [
              "IPY_MODEL_7ac47705b28e4233b526089373608651",
              "IPY_MODEL_4594c99196f24dd3896d252569ad9cb7"
            ]
          }
        },
        "eb29c1f7abc0489c8dd32f571e7af70e": {
          "model_module": "@jupyter-widgets/base",
          "model_name": "LayoutModel",
          "state": {
            "_view_name": "LayoutView",
            "grid_template_rows": null,
            "right": null,
            "justify_content": null,
            "_view_module": "@jupyter-widgets/base",
            "overflow": null,
            "_model_module_version": "1.2.0",
            "_view_count": null,
            "flex_flow": null,
            "width": null,
            "min_width": null,
            "border": null,
            "align_items": null,
            "bottom": null,
            "_model_module": "@jupyter-widgets/base",
            "top": null,
            "grid_column": null,
            "overflow_y": null,
            "overflow_x": null,
            "grid_auto_flow": null,
            "grid_area": null,
            "grid_template_columns": null,
            "flex": null,
            "_model_name": "LayoutModel",
            "justify_items": null,
            "grid_row": null,
            "max_height": null,
            "align_content": null,
            "visibility": null,
            "align_self": null,
            "height": null,
            "min_height": null,
            "padding": null,
            "grid_auto_rows": null,
            "grid_gap": null,
            "max_width": null,
            "order": null,
            "_view_module_version": "1.2.0",
            "grid_template_areas": null,
            "object_position": null,
            "object_fit": null,
            "grid_auto_columns": null,
            "margin": null,
            "display": null,
            "left": null
          }
        },
        "7ac47705b28e4233b526089373608651": {
          "model_module": "@jupyter-widgets/controls",
          "model_name": "FloatProgressModel",
          "state": {
            "_view_name": "ProgressView",
            "style": "IPY_MODEL_b73c3eae0a5145caa1e5f36f802387c3",
            "_dom_classes": [],
            "description": "",
            "_model_name": "FloatProgressModel",
            "bar_style": "info",
            "max": 1,
            "_view_module": "@jupyter-widgets/controls",
            "_model_module_version": "1.5.0",
            "value": 1,
            "_view_count": null,
            "_view_module_version": "1.5.0",
            "orientation": "horizontal",
            "min": 0,
            "description_tooltip": null,
            "_model_module": "@jupyter-widgets/controls",
            "layout": "IPY_MODEL_b8f9b2f80ca74f2db2f5c5ba32a8d7e6"
          }
        },
        "4594c99196f24dd3896d252569ad9cb7": {
          "model_module": "@jupyter-widgets/controls",
          "model_name": "HTMLModel",
          "state": {
            "_view_name": "HTMLView",
            "style": "IPY_MODEL_bf6b7a4d9952450a9341e3528ef84a31",
            "_dom_classes": [],
            "description": "",
            "_model_name": "HTMLModel",
            "placeholder": "​",
            "_view_module": "@jupyter-widgets/controls",
            "_model_module_version": "1.5.0",
            "value": " 9920512/? [00:20&lt;00:00, 812266.33it/s]",
            "_view_count": null,
            "_view_module_version": "1.5.0",
            "description_tooltip": null,
            "_model_module": "@jupyter-widgets/controls",
            "layout": "IPY_MODEL_9f36669e97714eb1833fc4b60e06c6da"
          }
        },
        "b73c3eae0a5145caa1e5f36f802387c3": {
          "model_module": "@jupyter-widgets/controls",
          "model_name": "ProgressStyleModel",
          "state": {
            "_view_name": "StyleView",
            "_model_name": "ProgressStyleModel",
            "description_width": "initial",
            "_view_module": "@jupyter-widgets/base",
            "_model_module_version": "1.5.0",
            "_view_count": null,
            "_view_module_version": "1.2.0",
            "bar_color": null,
            "_model_module": "@jupyter-widgets/controls"
          }
        },
        "b8f9b2f80ca74f2db2f5c5ba32a8d7e6": {
          "model_module": "@jupyter-widgets/base",
          "model_name": "LayoutModel",
          "state": {
            "_view_name": "LayoutView",
            "grid_template_rows": null,
            "right": null,
            "justify_content": null,
            "_view_module": "@jupyter-widgets/base",
            "overflow": null,
            "_model_module_version": "1.2.0",
            "_view_count": null,
            "flex_flow": null,
            "width": null,
            "min_width": null,
            "border": null,
            "align_items": null,
            "bottom": null,
            "_model_module": "@jupyter-widgets/base",
            "top": null,
            "grid_column": null,
            "overflow_y": null,
            "overflow_x": null,
            "grid_auto_flow": null,
            "grid_area": null,
            "grid_template_columns": null,
            "flex": null,
            "_model_name": "LayoutModel",
            "justify_items": null,
            "grid_row": null,
            "max_height": null,
            "align_content": null,
            "visibility": null,
            "align_self": null,
            "height": null,
            "min_height": null,
            "padding": null,
            "grid_auto_rows": null,
            "grid_gap": null,
            "max_width": null,
            "order": null,
            "_view_module_version": "1.2.0",
            "grid_template_areas": null,
            "object_position": null,
            "object_fit": null,
            "grid_auto_columns": null,
            "margin": null,
            "display": null,
            "left": null
          }
        },
        "bf6b7a4d9952450a9341e3528ef84a31": {
          "model_module": "@jupyter-widgets/controls",
          "model_name": "DescriptionStyleModel",
          "state": {
            "_view_name": "StyleView",
            "_model_name": "DescriptionStyleModel",
            "description_width": "",
            "_view_module": "@jupyter-widgets/base",
            "_model_module_version": "1.5.0",
            "_view_count": null,
            "_view_module_version": "1.2.0",
            "_model_module": "@jupyter-widgets/controls"
          }
        },
        "9f36669e97714eb1833fc4b60e06c6da": {
          "model_module": "@jupyter-widgets/base",
          "model_name": "LayoutModel",
          "state": {
            "_view_name": "LayoutView",
            "grid_template_rows": null,
            "right": null,
            "justify_content": null,
            "_view_module": "@jupyter-widgets/base",
            "overflow": null,
            "_model_module_version": "1.2.0",
            "_view_count": null,
            "flex_flow": null,
            "width": null,
            "min_width": null,
            "border": null,
            "align_items": null,
            "bottom": null,
            "_model_module": "@jupyter-widgets/base",
            "top": null,
            "grid_column": null,
            "overflow_y": null,
            "overflow_x": null,
            "grid_auto_flow": null,
            "grid_area": null,
            "grid_template_columns": null,
            "flex": null,
            "_model_name": "LayoutModel",
            "justify_items": null,
            "grid_row": null,
            "max_height": null,
            "align_content": null,
            "visibility": null,
            "align_self": null,
            "height": null,
            "min_height": null,
            "padding": null,
            "grid_auto_rows": null,
            "grid_gap": null,
            "max_width": null,
            "order": null,
            "_view_module_version": "1.2.0",
            "grid_template_areas": null,
            "object_position": null,
            "object_fit": null,
            "grid_auto_columns": null,
            "margin": null,
            "display": null,
            "left": null
          }
        },
        "12fb7183136b4584b05895cabedc0e54": {
          "model_module": "@jupyter-widgets/controls",
          "model_name": "HBoxModel",
          "state": {
            "_view_name": "HBoxView",
            "_dom_classes": [],
            "_model_name": "HBoxModel",
            "_view_module": "@jupyter-widgets/controls",
            "_model_module_version": "1.5.0",
            "_view_count": null,
            "_view_module_version": "1.5.0",
            "box_style": "",
            "layout": "IPY_MODEL_d1f39ed36cfc4c09b77c10cfb9c9cb4d",
            "_model_module": "@jupyter-widgets/controls",
            "children": [
              "IPY_MODEL_4e86f7f6679a43d883b1ebde0f7340ae",
              "IPY_MODEL_26be76d64b1d4c67a4c0dd33b0313bd2"
            ]
          }
        },
        "d1f39ed36cfc4c09b77c10cfb9c9cb4d": {
          "model_module": "@jupyter-widgets/base",
          "model_name": "LayoutModel",
          "state": {
            "_view_name": "LayoutView",
            "grid_template_rows": null,
            "right": null,
            "justify_content": null,
            "_view_module": "@jupyter-widgets/base",
            "overflow": null,
            "_model_module_version": "1.2.0",
            "_view_count": null,
            "flex_flow": null,
            "width": null,
            "min_width": null,
            "border": null,
            "align_items": null,
            "bottom": null,
            "_model_module": "@jupyter-widgets/base",
            "top": null,
            "grid_column": null,
            "overflow_y": null,
            "overflow_x": null,
            "grid_auto_flow": null,
            "grid_area": null,
            "grid_template_columns": null,
            "flex": null,
            "_model_name": "LayoutModel",
            "justify_items": null,
            "grid_row": null,
            "max_height": null,
            "align_content": null,
            "visibility": null,
            "align_self": null,
            "height": null,
            "min_height": null,
            "padding": null,
            "grid_auto_rows": null,
            "grid_gap": null,
            "max_width": null,
            "order": null,
            "_view_module_version": "1.2.0",
            "grid_template_areas": null,
            "object_position": null,
            "object_fit": null,
            "grid_auto_columns": null,
            "margin": null,
            "display": null,
            "left": null
          }
        },
        "4e86f7f6679a43d883b1ebde0f7340ae": {
          "model_module": "@jupyter-widgets/controls",
          "model_name": "FloatProgressModel",
          "state": {
            "_view_name": "ProgressView",
            "style": "IPY_MODEL_792f005fc99f45f584b22af4844ca423",
            "_dom_classes": [],
            "description": "",
            "_model_name": "FloatProgressModel",
            "bar_style": "success",
            "max": 1,
            "_view_module": "@jupyter-widgets/controls",
            "_model_module_version": "1.5.0",
            "value": 1,
            "_view_count": null,
            "_view_module_version": "1.5.0",
            "orientation": "horizontal",
            "min": 0,
            "description_tooltip": null,
            "_model_module": "@jupyter-widgets/controls",
            "layout": "IPY_MODEL_079797a42db54bef83a9a8578aa6dc05"
          }
        },
        "26be76d64b1d4c67a4c0dd33b0313bd2": {
          "model_module": "@jupyter-widgets/controls",
          "model_name": "HTMLModel",
          "state": {
            "_view_name": "HTMLView",
            "style": "IPY_MODEL_edb314c5175f4b7983eb484eeb31ce64",
            "_dom_classes": [],
            "description": "",
            "_model_name": "HTMLModel",
            "placeholder": "​",
            "_view_module": "@jupyter-widgets/controls",
            "_model_module_version": "1.5.0",
            "value": " 32768/? [00:00&lt;00:00, 114204.41it/s]",
            "_view_count": null,
            "_view_module_version": "1.5.0",
            "description_tooltip": null,
            "_model_module": "@jupyter-widgets/controls",
            "layout": "IPY_MODEL_46b56326c4604ff2a2933387891eaae7"
          }
        },
        "792f005fc99f45f584b22af4844ca423": {
          "model_module": "@jupyter-widgets/controls",
          "model_name": "ProgressStyleModel",
          "state": {
            "_view_name": "StyleView",
            "_model_name": "ProgressStyleModel",
            "description_width": "initial",
            "_view_module": "@jupyter-widgets/base",
            "_model_module_version": "1.5.0",
            "_view_count": null,
            "_view_module_version": "1.2.0",
            "bar_color": null,
            "_model_module": "@jupyter-widgets/controls"
          }
        },
        "079797a42db54bef83a9a8578aa6dc05": {
          "model_module": "@jupyter-widgets/base",
          "model_name": "LayoutModel",
          "state": {
            "_view_name": "LayoutView",
            "grid_template_rows": null,
            "right": null,
            "justify_content": null,
            "_view_module": "@jupyter-widgets/base",
            "overflow": null,
            "_model_module_version": "1.2.0",
            "_view_count": null,
            "flex_flow": null,
            "width": null,
            "min_width": null,
            "border": null,
            "align_items": null,
            "bottom": null,
            "_model_module": "@jupyter-widgets/base",
            "top": null,
            "grid_column": null,
            "overflow_y": null,
            "overflow_x": null,
            "grid_auto_flow": null,
            "grid_area": null,
            "grid_template_columns": null,
            "flex": null,
            "_model_name": "LayoutModel",
            "justify_items": null,
            "grid_row": null,
            "max_height": null,
            "align_content": null,
            "visibility": null,
            "align_self": null,
            "height": null,
            "min_height": null,
            "padding": null,
            "grid_auto_rows": null,
            "grid_gap": null,
            "max_width": null,
            "order": null,
            "_view_module_version": "1.2.0",
            "grid_template_areas": null,
            "object_position": null,
            "object_fit": null,
            "grid_auto_columns": null,
            "margin": null,
            "display": null,
            "left": null
          }
        },
        "edb314c5175f4b7983eb484eeb31ce64": {
          "model_module": "@jupyter-widgets/controls",
          "model_name": "DescriptionStyleModel",
          "state": {
            "_view_name": "StyleView",
            "_model_name": "DescriptionStyleModel",
            "description_width": "",
            "_view_module": "@jupyter-widgets/base",
            "_model_module_version": "1.5.0",
            "_view_count": null,
            "_view_module_version": "1.2.0",
            "_model_module": "@jupyter-widgets/controls"
          }
        },
        "46b56326c4604ff2a2933387891eaae7": {
          "model_module": "@jupyter-widgets/base",
          "model_name": "LayoutModel",
          "state": {
            "_view_name": "LayoutView",
            "grid_template_rows": null,
            "right": null,
            "justify_content": null,
            "_view_module": "@jupyter-widgets/base",
            "overflow": null,
            "_model_module_version": "1.2.0",
            "_view_count": null,
            "flex_flow": null,
            "width": null,
            "min_width": null,
            "border": null,
            "align_items": null,
            "bottom": null,
            "_model_module": "@jupyter-widgets/base",
            "top": null,
            "grid_column": null,
            "overflow_y": null,
            "overflow_x": null,
            "grid_auto_flow": null,
            "grid_area": null,
            "grid_template_columns": null,
            "flex": null,
            "_model_name": "LayoutModel",
            "justify_items": null,
            "grid_row": null,
            "max_height": null,
            "align_content": null,
            "visibility": null,
            "align_self": null,
            "height": null,
            "min_height": null,
            "padding": null,
            "grid_auto_rows": null,
            "grid_gap": null,
            "max_width": null,
            "order": null,
            "_view_module_version": "1.2.0",
            "grid_template_areas": null,
            "object_position": null,
            "object_fit": null,
            "grid_auto_columns": null,
            "margin": null,
            "display": null,
            "left": null
          }
        },
        "c4ea3923a9b149b58a172a6b5c43151f": {
          "model_module": "@jupyter-widgets/controls",
          "model_name": "HBoxModel",
          "state": {
            "_view_name": "HBoxView",
            "_dom_classes": [],
            "_model_name": "HBoxModel",
            "_view_module": "@jupyter-widgets/controls",
            "_model_module_version": "1.5.0",
            "_view_count": null,
            "_view_module_version": "1.5.0",
            "box_style": "",
            "layout": "IPY_MODEL_46f32fabfd804929aea27bba96b838b2",
            "_model_module": "@jupyter-widgets/controls",
            "children": [
              "IPY_MODEL_9444208341204d688ce9f18d1dd2ecbc",
              "IPY_MODEL_7a65cd033559430f975c08baefdf4441"
            ]
          }
        },
        "46f32fabfd804929aea27bba96b838b2": {
          "model_module": "@jupyter-widgets/base",
          "model_name": "LayoutModel",
          "state": {
            "_view_name": "LayoutView",
            "grid_template_rows": null,
            "right": null,
            "justify_content": null,
            "_view_module": "@jupyter-widgets/base",
            "overflow": null,
            "_model_module_version": "1.2.0",
            "_view_count": null,
            "flex_flow": null,
            "width": null,
            "min_width": null,
            "border": null,
            "align_items": null,
            "bottom": null,
            "_model_module": "@jupyter-widgets/base",
            "top": null,
            "grid_column": null,
            "overflow_y": null,
            "overflow_x": null,
            "grid_auto_flow": null,
            "grid_area": null,
            "grid_template_columns": null,
            "flex": null,
            "_model_name": "LayoutModel",
            "justify_items": null,
            "grid_row": null,
            "max_height": null,
            "align_content": null,
            "visibility": null,
            "align_self": null,
            "height": null,
            "min_height": null,
            "padding": null,
            "grid_auto_rows": null,
            "grid_gap": null,
            "max_width": null,
            "order": null,
            "_view_module_version": "1.2.0",
            "grid_template_areas": null,
            "object_position": null,
            "object_fit": null,
            "grid_auto_columns": null,
            "margin": null,
            "display": null,
            "left": null
          }
        },
        "9444208341204d688ce9f18d1dd2ecbc": {
          "model_module": "@jupyter-widgets/controls",
          "model_name": "FloatProgressModel",
          "state": {
            "_view_name": "ProgressView",
            "style": "IPY_MODEL_fac2a5e62e0e4487aba6a8c7c63206d1",
            "_dom_classes": [],
            "description": "",
            "_model_name": "FloatProgressModel",
            "bar_style": "info",
            "max": 1,
            "_view_module": "@jupyter-widgets/controls",
            "_model_module_version": "1.5.0",
            "value": 1,
            "_view_count": null,
            "_view_module_version": "1.5.0",
            "orientation": "horizontal",
            "min": 0,
            "description_tooltip": null,
            "_model_module": "@jupyter-widgets/controls",
            "layout": "IPY_MODEL_99a3b4459bc64a6c917e9b8e3d54c29d"
          }
        },
        "7a65cd033559430f975c08baefdf4441": {
          "model_module": "@jupyter-widgets/controls",
          "model_name": "HTMLModel",
          "state": {
            "_view_name": "HTMLView",
            "style": "IPY_MODEL_c43aed99de574c16b9d6743f4bb6af06",
            "_dom_classes": [],
            "description": "",
            "_model_name": "HTMLModel",
            "placeholder": "​",
            "_view_module": "@jupyter-widgets/controls",
            "_model_module_version": "1.5.0",
            "value": " 1654784/? [00:18&lt;00:00, 534802.90it/s]",
            "_view_count": null,
            "_view_module_version": "1.5.0",
            "description_tooltip": null,
            "_model_module": "@jupyter-widgets/controls",
            "layout": "IPY_MODEL_47553c7e11c24c7b862abd34c9d80e5a"
          }
        },
        "fac2a5e62e0e4487aba6a8c7c63206d1": {
          "model_module": "@jupyter-widgets/controls",
          "model_name": "ProgressStyleModel",
          "state": {
            "_view_name": "StyleView",
            "_model_name": "ProgressStyleModel",
            "description_width": "initial",
            "_view_module": "@jupyter-widgets/base",
            "_model_module_version": "1.5.0",
            "_view_count": null,
            "_view_module_version": "1.2.0",
            "bar_color": null,
            "_model_module": "@jupyter-widgets/controls"
          }
        },
        "99a3b4459bc64a6c917e9b8e3d54c29d": {
          "model_module": "@jupyter-widgets/base",
          "model_name": "LayoutModel",
          "state": {
            "_view_name": "LayoutView",
            "grid_template_rows": null,
            "right": null,
            "justify_content": null,
            "_view_module": "@jupyter-widgets/base",
            "overflow": null,
            "_model_module_version": "1.2.0",
            "_view_count": null,
            "flex_flow": null,
            "width": null,
            "min_width": null,
            "border": null,
            "align_items": null,
            "bottom": null,
            "_model_module": "@jupyter-widgets/base",
            "top": null,
            "grid_column": null,
            "overflow_y": null,
            "overflow_x": null,
            "grid_auto_flow": null,
            "grid_area": null,
            "grid_template_columns": null,
            "flex": null,
            "_model_name": "LayoutModel",
            "justify_items": null,
            "grid_row": null,
            "max_height": null,
            "align_content": null,
            "visibility": null,
            "align_self": null,
            "height": null,
            "min_height": null,
            "padding": null,
            "grid_auto_rows": null,
            "grid_gap": null,
            "max_width": null,
            "order": null,
            "_view_module_version": "1.2.0",
            "grid_template_areas": null,
            "object_position": null,
            "object_fit": null,
            "grid_auto_columns": null,
            "margin": null,
            "display": null,
            "left": null
          }
        },
        "c43aed99de574c16b9d6743f4bb6af06": {
          "model_module": "@jupyter-widgets/controls",
          "model_name": "DescriptionStyleModel",
          "state": {
            "_view_name": "StyleView",
            "_model_name": "DescriptionStyleModel",
            "description_width": "",
            "_view_module": "@jupyter-widgets/base",
            "_model_module_version": "1.5.0",
            "_view_count": null,
            "_view_module_version": "1.2.0",
            "_model_module": "@jupyter-widgets/controls"
          }
        },
        "47553c7e11c24c7b862abd34c9d80e5a": {
          "model_module": "@jupyter-widgets/base",
          "model_name": "LayoutModel",
          "state": {
            "_view_name": "LayoutView",
            "grid_template_rows": null,
            "right": null,
            "justify_content": null,
            "_view_module": "@jupyter-widgets/base",
            "overflow": null,
            "_model_module_version": "1.2.0",
            "_view_count": null,
            "flex_flow": null,
            "width": null,
            "min_width": null,
            "border": null,
            "align_items": null,
            "bottom": null,
            "_model_module": "@jupyter-widgets/base",
            "top": null,
            "grid_column": null,
            "overflow_y": null,
            "overflow_x": null,
            "grid_auto_flow": null,
            "grid_area": null,
            "grid_template_columns": null,
            "flex": null,
            "_model_name": "LayoutModel",
            "justify_items": null,
            "grid_row": null,
            "max_height": null,
            "align_content": null,
            "visibility": null,
            "align_self": null,
            "height": null,
            "min_height": null,
            "padding": null,
            "grid_auto_rows": null,
            "grid_gap": null,
            "max_width": null,
            "order": null,
            "_view_module_version": "1.2.0",
            "grid_template_areas": null,
            "object_position": null,
            "object_fit": null,
            "grid_auto_columns": null,
            "margin": null,
            "display": null,
            "left": null
          }
        },
        "633ba004b9d945e8b70c17f514bf7b45": {
          "model_module": "@jupyter-widgets/controls",
          "model_name": "HBoxModel",
          "state": {
            "_view_name": "HBoxView",
            "_dom_classes": [],
            "_model_name": "HBoxModel",
            "_view_module": "@jupyter-widgets/controls",
            "_model_module_version": "1.5.0",
            "_view_count": null,
            "_view_module_version": "1.5.0",
            "box_style": "",
            "layout": "IPY_MODEL_9ae5aa2690634f6eaa7da0202ac43aab",
            "_model_module": "@jupyter-widgets/controls",
            "children": [
              "IPY_MODEL_9024657ce5b545a0b21ccaf91e655389",
              "IPY_MODEL_3b3f5ca5a48c4bd896cb78c927bbe8f5"
            ]
          }
        },
        "9ae5aa2690634f6eaa7da0202ac43aab": {
          "model_module": "@jupyter-widgets/base",
          "model_name": "LayoutModel",
          "state": {
            "_view_name": "LayoutView",
            "grid_template_rows": null,
            "right": null,
            "justify_content": null,
            "_view_module": "@jupyter-widgets/base",
            "overflow": null,
            "_model_module_version": "1.2.0",
            "_view_count": null,
            "flex_flow": null,
            "width": null,
            "min_width": null,
            "border": null,
            "align_items": null,
            "bottom": null,
            "_model_module": "@jupyter-widgets/base",
            "top": null,
            "grid_column": null,
            "overflow_y": null,
            "overflow_x": null,
            "grid_auto_flow": null,
            "grid_area": null,
            "grid_template_columns": null,
            "flex": null,
            "_model_name": "LayoutModel",
            "justify_items": null,
            "grid_row": null,
            "max_height": null,
            "align_content": null,
            "visibility": null,
            "align_self": null,
            "height": null,
            "min_height": null,
            "padding": null,
            "grid_auto_rows": null,
            "grid_gap": null,
            "max_width": null,
            "order": null,
            "_view_module_version": "1.2.0",
            "grid_template_areas": null,
            "object_position": null,
            "object_fit": null,
            "grid_auto_columns": null,
            "margin": null,
            "display": null,
            "left": null
          }
        },
        "9024657ce5b545a0b21ccaf91e655389": {
          "model_module": "@jupyter-widgets/controls",
          "model_name": "FloatProgressModel",
          "state": {
            "_view_name": "ProgressView",
            "style": "IPY_MODEL_c6afca2aa73049bb86deb0950dab8cbd",
            "_dom_classes": [],
            "description": "  0%",
            "_model_name": "FloatProgressModel",
            "bar_style": "info",
            "max": 1,
            "_view_module": "@jupyter-widgets/controls",
            "_model_module_version": "1.5.0",
            "value": 0,
            "_view_count": null,
            "_view_module_version": "1.5.0",
            "orientation": "horizontal",
            "min": 0,
            "description_tooltip": null,
            "_model_module": "@jupyter-widgets/controls",
            "layout": "IPY_MODEL_9a6efd42a7cd499498c77fe6e19c633c"
          }
        },
        "3b3f5ca5a48c4bd896cb78c927bbe8f5": {
          "model_module": "@jupyter-widgets/controls",
          "model_name": "HTMLModel",
          "state": {
            "_view_name": "HTMLView",
            "style": "IPY_MODEL_f93738f6587e4fb6a28ae864cc53e782",
            "_dom_classes": [],
            "description": "",
            "_model_name": "HTMLModel",
            "placeholder": "​",
            "_view_module": "@jupyter-widgets/controls",
            "_model_module_version": "1.5.0",
            "value": " 0/4542 [00:00&lt;?, ?it/s]",
            "_view_count": null,
            "_view_module_version": "1.5.0",
            "description_tooltip": null,
            "_model_module": "@jupyter-widgets/controls",
            "layout": "IPY_MODEL_b974dc12fc58419c980778d5551484a9"
          }
        },
        "c6afca2aa73049bb86deb0950dab8cbd": {
          "model_module": "@jupyter-widgets/controls",
          "model_name": "ProgressStyleModel",
          "state": {
            "_view_name": "StyleView",
            "_model_name": "ProgressStyleModel",
            "description_width": "initial",
            "_view_module": "@jupyter-widgets/base",
            "_model_module_version": "1.5.0",
            "_view_count": null,
            "_view_module_version": "1.2.0",
            "bar_color": null,
            "_model_module": "@jupyter-widgets/controls"
          }
        },
        "9a6efd42a7cd499498c77fe6e19c633c": {
          "model_module": "@jupyter-widgets/base",
          "model_name": "LayoutModel",
          "state": {
            "_view_name": "LayoutView",
            "grid_template_rows": null,
            "right": null,
            "justify_content": null,
            "_view_module": "@jupyter-widgets/base",
            "overflow": null,
            "_model_module_version": "1.2.0",
            "_view_count": null,
            "flex_flow": null,
            "width": null,
            "min_width": null,
            "border": null,
            "align_items": null,
            "bottom": null,
            "_model_module": "@jupyter-widgets/base",
            "top": null,
            "grid_column": null,
            "overflow_y": null,
            "overflow_x": null,
            "grid_auto_flow": null,
            "grid_area": null,
            "grid_template_columns": null,
            "flex": null,
            "_model_name": "LayoutModel",
            "justify_items": null,
            "grid_row": null,
            "max_height": null,
            "align_content": null,
            "visibility": null,
            "align_self": null,
            "height": null,
            "min_height": null,
            "padding": null,
            "grid_auto_rows": null,
            "grid_gap": null,
            "max_width": null,
            "order": null,
            "_view_module_version": "1.2.0",
            "grid_template_areas": null,
            "object_position": null,
            "object_fit": null,
            "grid_auto_columns": null,
            "margin": null,
            "display": null,
            "left": null
          }
        },
        "f93738f6587e4fb6a28ae864cc53e782": {
          "model_module": "@jupyter-widgets/controls",
          "model_name": "DescriptionStyleModel",
          "state": {
            "_view_name": "StyleView",
            "_model_name": "DescriptionStyleModel",
            "description_width": "",
            "_view_module": "@jupyter-widgets/base",
            "_model_module_version": "1.5.0",
            "_view_count": null,
            "_view_module_version": "1.2.0",
            "_model_module": "@jupyter-widgets/controls"
          }
        },
        "b974dc12fc58419c980778d5551484a9": {
          "model_module": "@jupyter-widgets/base",
          "model_name": "LayoutModel",
          "state": {
            "_view_name": "LayoutView",
            "grid_template_rows": null,
            "right": null,
            "justify_content": null,
            "_view_module": "@jupyter-widgets/base",
            "overflow": null,
            "_model_module_version": "1.2.0",
            "_view_count": null,
            "flex_flow": null,
            "width": null,
            "min_width": null,
            "border": null,
            "align_items": null,
            "bottom": null,
            "_model_module": "@jupyter-widgets/base",
            "top": null,
            "grid_column": null,
            "overflow_y": null,
            "overflow_x": null,
            "grid_auto_flow": null,
            "grid_area": null,
            "grid_template_columns": null,
            "flex": null,
            "_model_name": "LayoutModel",
            "justify_items": null,
            "grid_row": null,
            "max_height": null,
            "align_content": null,
            "visibility": null,
            "align_self": null,
            "height": null,
            "min_height": null,
            "padding": null,
            "grid_auto_rows": null,
            "grid_gap": null,
            "max_width": null,
            "order": null,
            "_view_module_version": "1.2.0",
            "grid_template_areas": null,
            "object_position": null,
            "object_fit": null,
            "grid_auto_columns": null,
            "margin": null,
            "display": null,
            "left": null
          }
        }
      }
    }
  },
  "cells": [
    {
      "cell_type": "markdown",
      "metadata": {
        "id": "view-in-github",
        "colab_type": "text"
      },
      "source": [
        "<a href=\"https://colab.research.google.com/github/panxiaofan/Advanced-Mahchine-Perception/blob/master/CIS680_Fall2020_HW1_b_Answer_4_2.ipynb\" target=\"_parent\"><img src=\"https://colab.research.google.com/assets/colab-badge.svg\" alt=\"Open In Colab\"/></a>"
      ]
    },
    {
      "cell_type": "markdown",
      "metadata": {
        "id": "mHbNxdP6eLd2",
        "colab_type": "text"
      },
      "source": [
        "# Google Drive\n",
        "\n",
        "This first code block attaches your google drive and makes a folder structure. You only need to run this when a new VM is assigned to you. To get your code as a single python file go through the following menus File->'Download .py'"
      ]
    },
    {
      "cell_type": "code",
      "metadata": {
        "id": "PYICcmTfdm0J",
        "colab_type": "code",
        "colab": {
          "base_uri": "https://localhost:8080/",
          "height": 35
        },
        "outputId": "9ab379f5-1a6a-4f93-ffe9-7c9e6ce6dfb1"
      },
      "source": [
        "import os\n",
        "from google.colab import drive\n",
        "\n",
        "# Mount google drive\n",
        "DRIVE_MOUNT='../content/gdrive'\n",
        "drive.mount(DRIVE_MOUNT)\n",
        "\n",
        "\n",
        "# create folder to write data to\n",
        "CIS680_FOLDER=os.path.join(DRIVE_MOUNT, 'My Drive', 'CIS680_2020')\n",
        "HOMEWORK_FOLDER=os.path.join(CIS680_FOLDER, 'HW1')\n",
        "os.makedirs(HOMEWORK_FOLDER, exist_ok=True)"
      ],
      "execution_count": 2,
      "outputs": [
        {
          "output_type": "stream",
          "text": [
            "Mounted at ../content/gdrive\n"
          ],
          "name": "stdout"
        }
      ]
    },
    {
      "cell_type": "markdown",
      "metadata": {
        "id": "pw-yUtFqiNFR",
        "colab_type": "text"
      },
      "source": [
        "# PyTorch\n",
        "\n",
        "This code block imports torch and torchvision which provide the libraries for use down below. PyTorch provides many utilities such as standard datasets, for this exercise we will use MNIST. Please see the torchvision documentation for how to instantiate the training and testing data split."
      ]
    },
    {
      "cell_type": "code",
      "metadata": {
        "id": "hguIwry8iH9S",
        "colab_type": "code",
        "colab": {}
      },
      "source": [
        "# torch and torchvision imports\n",
        "import torch\n",
        "import torchvision\n",
        "import numpy as np\n",
        "import torch\n",
        "import torch.nn as nn\n",
        "import torch.nn.functional as F\n",
        "import torch.optim as optim\n",
        "import matplotlib.pyplot as plt"
      ],
      "execution_count": 3,
      "outputs": []
    },
    {
      "cell_type": "markdown",
      "metadata": {
        "id": "EvNh3B3FiAPY",
        "colab_type": "text"
      },
      "source": [
        "# 3) Train a Convolutional Neural Network"
      ]
    },
    {
      "cell_type": "code",
      "metadata": {
        "id": "hQuOI_n_iEiF",
        "colab_type": "code",
        "colab": {}
      },
      "source": [
        "# Create your network here\n",
        "class HelloWorld(torch.nn.Module):\n",
        "  def __init__(self):\n",
        "    super(HelloWorld, self).__init__()\n",
        "    self.layer1 = nn.Sequential()                                        # 28 *28 *1\n",
        "    self.layer1.add_module(\"Conv1\", nn.Conv2d(in_channels=1, out_channels=32, kernel_size=5, padding=2))   # 28 *28 *32\n",
        "    self.layer1.add_module(\"BN1\", nn.BatchNorm2d(num_features=32))\n",
        "    self.layer1.add_module(\"Relu1\", nn.ReLU())\n",
        "    self.layer1.add_module(\"Pool1\", nn.AvgPool2d(kernel_size=2, stride=2, padding=0))             # 14 *14 *32 \n",
        "                                                 \n",
        "    self.layer2 = nn.Sequential()   \n",
        "    self.layer2.add_module(\"Conv2\", nn.Conv2d(in_channels=32, out_channels=32, kernel_size=5, padding=2))  # 14 *14 *32\n",
        "    self.layer2.add_module(\"BN2\", nn.BatchNorm2d(num_features=32))\n",
        "    self.layer2.add_module(\"Relu2\", nn.ReLU())\n",
        "    self.layer2.add_module(\"Pool2\", nn.AvgPool2d(kernel_size=2, stride=2, padding=0))            # 7 *7 *32\n",
        "\n",
        "    self.layer3 = nn.Sequential()\n",
        "    self.layer3.add_module(\"Conv3\", nn.Conv2d(in_channels=32, out_channels=64, kernel_size=5, padding=2))  # 7 *7 *64\n",
        "    self.layer3.add_module(\"BN3\", nn.BatchNorm2d(num_features=64))\n",
        "    self.layer3.add_module(\"Relu3\", nn.ReLU())\n",
        "    self.layer3.add_module(\"Pool3\", nn.AvgPool2d(kernel_size=2, stride=2, padding=0))         # 3 *3 *64\n",
        "\n",
        "    self.fully_connected1 = nn.Sequential()\n",
        "    self.fully_connected1.add_module(\"FC1\", nn.Linear(in_features=3 * 3 * 64, out_features=64))  \n",
        "    self.fully_connected1.add_module(\"BNFC1\", nn.BatchNorm1d(64))\n",
        "    self.fully_connected1.add_module(\"ReluFC1\", nn.ReLU())\n",
        "\n",
        "    self.fully_connected2 = nn.Sequential()\n",
        "    self.fully_connected2.add_module(\"FC2\", nn.Linear(in_features=64, out_features=10))\n",
        "    self.fully_connected2.add_module(\"SoftMax\", nn.Softmax())\n",
        "\n",
        "  \n",
        "  def forward(self, x):\n",
        "    x = self.layer1(x)\n",
        "    x = self.layer2(x)\n",
        "    x = self.layer3(x)\n",
        "    x = x.view(-1, 3 * 3 * 64)\n",
        "    x = self.fully_connected1(x)\n",
        "    x = self.fully_connected2(x)\n",
        "    return x\n",
        "  "
      ],
      "execution_count": 4,
      "outputs": []
    },
    {
      "cell_type": "code",
      "metadata": {
        "id": "huv-zujjmRbj",
        "colab_type": "code",
        "colab": {
          "base_uri": "https://localhost:8080/",
          "height": 389,
          "referenced_widgets": [
            "fe42342dd27a4f9ab48db671fa81be01",
            "eb29c1f7abc0489c8dd32f571e7af70e",
            "7ac47705b28e4233b526089373608651",
            "4594c99196f24dd3896d252569ad9cb7",
            "b73c3eae0a5145caa1e5f36f802387c3",
            "b8f9b2f80ca74f2db2f5c5ba32a8d7e6",
            "bf6b7a4d9952450a9341e3528ef84a31",
            "9f36669e97714eb1833fc4b60e06c6da",
            "12fb7183136b4584b05895cabedc0e54",
            "d1f39ed36cfc4c09b77c10cfb9c9cb4d",
            "4e86f7f6679a43d883b1ebde0f7340ae",
            "26be76d64b1d4c67a4c0dd33b0313bd2",
            "792f005fc99f45f584b22af4844ca423",
            "079797a42db54bef83a9a8578aa6dc05",
            "edb314c5175f4b7983eb484eeb31ce64",
            "46b56326c4604ff2a2933387891eaae7",
            "c4ea3923a9b149b58a172a6b5c43151f",
            "46f32fabfd804929aea27bba96b838b2",
            "9444208341204d688ce9f18d1dd2ecbc",
            "7a65cd033559430f975c08baefdf4441",
            "fac2a5e62e0e4487aba6a8c7c63206d1",
            "99a3b4459bc64a6c917e9b8e3d54c29d",
            "c43aed99de574c16b9d6743f4bb6af06",
            "47553c7e11c24c7b862abd34c9d80e5a",
            "633ba004b9d945e8b70c17f514bf7b45",
            "9ae5aa2690634f6eaa7da0202ac43aab",
            "9024657ce5b545a0b21ccaf91e655389",
            "3b3f5ca5a48c4bd896cb78c927bbe8f5",
            "c6afca2aa73049bb86deb0950dab8cbd",
            "9a6efd42a7cd499498c77fe6e19c633c",
            "f93738f6587e4fb6a28ae864cc53e782",
            "b974dc12fc58419c980778d5551484a9"
          ]
        },
        "outputId": "3e7e759e-5774-4c23-f0d1-4b0d9defeef5"
      },
      "source": [
        "batch_size_train = 64\n",
        "batch_size_test = 1000\n",
        "train_loader = torch.utils.data.DataLoader(\n",
        "  torchvision.datasets.MNIST(root='.', train=True, download=True,\n",
        "                             transform=torchvision.transforms.Compose([\n",
        "                               torchvision.transforms.ToTensor(),\n",
        "                               torchvision.transforms.Normalize(\n",
        "                                 (0.5,), (0.5,))\n",
        "                             ])),\n",
        "  batch_size=batch_size_train, shuffle=True)\n",
        "\n",
        "test_loader = torch.utils.data.DataLoader(\n",
        "  torchvision.datasets.MNIST(root='.', train=False, download=True,\n",
        "                             transform=torchvision.transforms.Compose([\n",
        "                               torchvision.transforms.ToTensor(),\n",
        "                               torchvision.transforms.Normalize(\n",
        "                                 (0.5,), (0.5,))\n",
        "                             ])),\n",
        "  batch_size=batch_size_test, shuffle=True)"
      ],
      "execution_count": 5,
      "outputs": [
        {
          "output_type": "stream",
          "text": [
            "Downloading http://yann.lecun.com/exdb/mnist/train-images-idx3-ubyte.gz to ./MNIST/raw/train-images-idx3-ubyte.gz\n"
          ],
          "name": "stdout"
        },
        {
          "output_type": "display_data",
          "data": {
            "application/vnd.jupyter.widget-view+json": {
              "model_id": "fe42342dd27a4f9ab48db671fa81be01",
              "version_minor": 0,
              "version_major": 2
            },
            "text/plain": [
              "HBox(children=(FloatProgress(value=1.0, bar_style='info', max=1.0), HTML(value='')))"
            ]
          },
          "metadata": {
            "tags": []
          }
        },
        {
          "output_type": "stream",
          "text": [
            "Extracting ./MNIST/raw/train-images-idx3-ubyte.gz to ./MNIST/raw\n",
            "Downloading http://yann.lecun.com/exdb/mnist/train-labels-idx1-ubyte.gz to ./MNIST/raw/train-labels-idx1-ubyte.gz\n"
          ],
          "name": "stdout"
        },
        {
          "output_type": "display_data",
          "data": {
            "application/vnd.jupyter.widget-view+json": {
              "model_id": "12fb7183136b4584b05895cabedc0e54",
              "version_minor": 0,
              "version_major": 2
            },
            "text/plain": [
              "HBox(children=(FloatProgress(value=1.0, bar_style='info', max=1.0), HTML(value='')))"
            ]
          },
          "metadata": {
            "tags": []
          }
        },
        {
          "output_type": "stream",
          "text": [
            "Extracting ./MNIST/raw/train-labels-idx1-ubyte.gz to ./MNIST/raw\n",
            "Downloading http://yann.lecun.com/exdb/mnist/t10k-images-idx3-ubyte.gz to ./MNIST/raw/t10k-images-idx3-ubyte.gz\n",
            "\n"
          ],
          "name": "stdout"
        },
        {
          "output_type": "display_data",
          "data": {
            "application/vnd.jupyter.widget-view+json": {
              "model_id": "c4ea3923a9b149b58a172a6b5c43151f",
              "version_minor": 0,
              "version_major": 2
            },
            "text/plain": [
              "HBox(children=(FloatProgress(value=1.0, bar_style='info', max=1.0), HTML(value='')))"
            ]
          },
          "metadata": {
            "tags": []
          }
        },
        {
          "output_type": "stream",
          "text": [
            "Extracting ./MNIST/raw/t10k-images-idx3-ubyte.gz to ./MNIST/raw\n",
            "Downloading http://yann.lecun.com/exdb/mnist/t10k-labels-idx1-ubyte.gz to ./MNIST/raw/t10k-labels-idx1-ubyte.gz\n"
          ],
          "name": "stdout"
        },
        {
          "output_type": "display_data",
          "data": {
            "application/vnd.jupyter.widget-view+json": {
              "model_id": "633ba004b9d945e8b70c17f514bf7b45",
              "version_minor": 0,
              "version_major": 2
            },
            "text/plain": [
              "HBox(children=(FloatProgress(value=1.0, bar_style='info', max=1.0), HTML(value='')))"
            ]
          },
          "metadata": {
            "tags": []
          }
        },
        {
          "output_type": "stream",
          "text": [
            "Extracting ./MNIST/raw/t10k-labels-idx1-ubyte.gz to ./MNIST/raw\n",
            "Processing...\n",
            "Done!\n"
          ],
          "name": "stdout"
        },
        {
          "output_type": "stream",
          "text": [
            "/usr/local/lib/python3.6/dist-packages/torchvision/datasets/mnist.py:469: UserWarning: The given NumPy array is not writeable, and PyTorch does not support non-writeable tensors. This means you can write to the underlying (supposedly non-writeable) NumPy array using the tensor. You may want to copy the array to protect its data or make it writeable before converting it to a tensor. This type of warning will be suppressed for the rest of this program. (Triggered internally at  /pytorch/torch/csrc/utils/tensor_numpy.cpp:141.)\n",
            "  return torch.from_numpy(parsed.astype(m[2], copy=False)).view(*s)\n"
          ],
          "name": "stderr"
        }
      ]
    },
    {
      "cell_type": "code",
      "metadata": {
        "id": "2nBN8Exglojr",
        "colab_type": "code",
        "colab": {}
      },
      "source": [
        "def train(epoch):\n",
        "    my_first_network.train()\n",
        "    running_loss = 0\n",
        "    running_correct = 0\n",
        "    for batch_idx, (data, target) in enumerate(train_loader):\n",
        "        data, target = data.to(device), target.to(device)\n",
        "        optimizer.zero_grad()\n",
        "        output = my_first_network(data)\n",
        "        loss = error(output, target) \n",
        "        running_loss += loss.item() * data.size(0)\n",
        "        loss.backward()\n",
        "        optimizer.step()\n",
        "        predicted = torch.max(output.data, 1)[1] \n",
        "        running_correct += (predicted == target).sum()\n",
        "        if batch_idx % display_interval == 0:\n",
        "          print('Epoch : {} [{}/{} ({:.0f}%)]\\tLoss: {:.6f}\\t Accuracy:{:.3f}%'.format(\n",
        "                    epoch, batch_idx*len(data), len(train_loader.dataset), 100.*batch_idx / len(train_loader), loss.item(), float(running_correct*100) / float(batch_size_train*(batch_idx + 1))))\n",
        "    epoch_loss = running_loss / len(train_loader.dataset)\n",
        "    epoch_accu = float(running_correct) / len(train_loader.dataset)\n",
        "    train_losses.append(epoch_loss)\n",
        "    train_accuracy.append(epoch_accu)\n",
        "    print('\\nTrain set: Avg. loss: {:.4f}, Accuracy: {}/{} ({:.0f}%)\\n'.format(\n",
        "        epoch_loss, running_correct, len(train_loader.dataset),\n",
        "        100. * running_correct / len(train_loader.dataset)))\n",
        "def test(epoch):\n",
        "  my_first_network.eval()\n",
        "  running_loss = 0\n",
        "  running_correct = 0\n",
        "  with torch.no_grad():\n",
        "    for data, target in test_loader:\n",
        "      data, target = data.to(device), target.to(device)\n",
        "      output = my_first_network(data)\n",
        "      running_loss += error(output, target).item()* data.size(0)\n",
        "      predicted = torch.max(output.data, 1)[1] \n",
        "      running_correct += (predicted == target).sum()\n",
        "  epoch_loss = running_loss / len(test_loader.dataset)\n",
        "  epoch_accu = float(running_correct) / len(test_loader.dataset)\n",
        "  test_losses.append(epoch_loss)\n",
        "  test_accuracy.append(epoch_accu)\n",
        "  print('\\nTest set: Avg. loss: {:.4f}, Accuracy: {}/{} ({:.0f}%)\\n'.format(\n",
        "    epoch_loss, running_correct, len(test_loader.dataset),\n",
        "    100. * running_correct / len(test_loader.dataset)))\n",
        "  is_new_best(epoch_accu)\n",
        "def is_new_best(epoch_accu):\n",
        "  if (epoch_accu > 0.99 and epoch_accu == max(test_accuracy)):\n",
        "    PATH = HOMEWORK_FOLDER+'/pre-trained model'\n",
        "    torch.save(my_first_network.state_dict(), PATH)\n",
        "\n",
        "# Instantiate your network here\n",
        "torch.manual_seed(42)\n",
        "device = torch.device('cuda:0' if torch.cuda.is_available() else 'cpu')\n",
        "my_first_network = HelloWorld().to(device)\n",
        "learning_rate = 0.002\n",
        "optimizer = torch.optim.Adam(my_first_network.parameters(),lr=learning_rate)\n",
        "error = nn.CrossEntropyLoss()\n",
        "display_interval = 50\n",
        "train_losses = []\n",
        "train_accuracy = []\n",
        "test_losses = []\n",
        "test_accuracy = []\n",
        "# Train your network here\n",
        "num_epochs = 5\n",
        "for epoch in range(num_epochs):\n",
        "  train(epoch)\n",
        "  test(epoch)"
      ],
      "execution_count": null,
      "outputs": []
    },
    {
      "cell_type": "markdown",
      "metadata": {
        "id": "tSGydqA0aJmO",
        "colab_type": "text"
      },
      "source": [
        "**Training & Testing Loss**"
      ]
    },
    {
      "cell_type": "code",
      "metadata": {
        "id": "xD-PGcLrP_0d",
        "colab_type": "code",
        "colab": {
          "base_uri": "https://localhost:8080/",
          "height": 295
        },
        "outputId": "1e037279-6970-44fa-d4bc-e9591bbab5fd"
      },
      "source": [
        "import numpy as np\n",
        "import matplotlib.pyplot as plt\n",
        "fig = plt.figure()\n",
        "plt.plot(np.arange(1, num_epochs + 1), np.array(train_losses))\n",
        "plt.plot(np.arange(1, num_epochs + 1), np.array(test_losses))\n",
        "plt.legend(['Train','Test'], loc='upper right')\n",
        "plt.xlabel('Number of Epochs')\n",
        "plt.ylabel('Cross Entropy Loss')\n",
        "plt.xticks(range(1,num_epochs + 1))\n",
        "plt.title('Cross Entropy Loss of Training and Testing')\n",
        "plt.savefig(HOMEWORK_FOLDER+'/Cross Entropy Loss of Training and Testing.png')\n",
        "plt.show()"
      ],
      "execution_count": null,
      "outputs": [
        {
          "output_type": "display_data",
          "data": {
            "image/png": "[encoded data removed]",
            "text/plain": [
              "<Figure size 432x288 with 1 Axes>"
            ]
          },
          "metadata": {
            "tags": [],
            "needs_background": "light"
          }
        }
      ]
    },
    {
      "cell_type": "markdown",
      "metadata": {
        "id": "4UXwZi8g2G1d",
        "colab_type": "text"
      },
      "source": [
        "**Training & Testing Accuracy**"
      ]
    },
    {
      "cell_type": "code",
      "metadata": {
        "id": "aqxLEybP01n1",
        "colab_type": "code",
        "colab": {
          "base_uri": "https://localhost:8080/",
          "height": 295
        },
        "outputId": "d7c6756e-9d11-4f19-d71f-5fa312ab4fe7"
      },
      "source": [
        "import numpy as np\n",
        "import matplotlib.pyplot as plt\n",
        "fig = plt.figure()\n",
        "plt.plot(np.arange(1, num_epochs + 1), np.array(train_accuracy))\n",
        "plt.plot(np.arange(1, num_epochs + 1), np.array(test_accuracy))\n",
        "plt.legend(['Train','Test'], loc='upper right')\n",
        "plt.xlabel('Number of Epochs')\n",
        "plt.ylabel('Accuracy')\n",
        "plt.xticks(range(1,num_epochs + 1))\n",
        "plt.title('Accuracy of training and testing')\n",
        "plt.savefig(HOMEWORK_FOLDER+'/Accuracy of training and testing.png')\n",
        "plt.show()"
      ],
      "execution_count": null,
      "outputs": [
        {
          "output_type": "display_data",
          "data": {
            "image/png": "[encoded data removed]",
            "text/plain": [
              "<Figure size 432x288 with 1 Axes>"
            ]
          },
          "metadata": {
            "tags": [],
            "needs_background": "light"
          }
        }
      ]
    },
    {
      "cell_type": "code",
      "metadata": {
        "id": "5SzMwFH9ssOn",
        "colab_type": "code",
        "colab": {
          "base_uri": "https://localhost:8080/",
          "height": 124
        },
        "outputId": "7c6b5e7b-bcc0-401d-9ae3-d138ac879191"
      },
      "source": [
        "device = torch.device('cuda:0' if torch.cuda.is_available() else 'cpu')\n",
        "PATH = HOMEWORK_FOLDER+'/pre-trained model'\n",
        "model = HelloWorld()\n",
        "model.load_state_dict(torch.load(PATH))\n",
        "model.to(device)\n",
        "\n",
        "running_loss = 0\n",
        "running_correct = 0\n",
        "with torch.no_grad():\n",
        "  for data, target in test_loader:\n",
        "    data, target = data.to(device), target.to(device)\n",
        "    output = model(data)\n",
        "    running_loss += error(output, target).item()* data.size(0)\n",
        "    predicted = torch.max(output.data, 1)[1] \n",
        "    running_correct += (predicted == target).sum()\n",
        "epoch_loss = running_loss / len(test_loader.dataset)\n",
        "epoch_accu = float(running_correct) / len(test_loader.dataset)\n",
        "\n",
        "print('\\nTest set: Avg. loss: {:.4f}, Accuracy: {}/{} ({:.0f}%)\\n'.format(\n",
        "  epoch_loss, running_correct, len(test_loader.dataset),\n",
        "  100. * running_correct / len(test_loader.dataset)))\n",
        "is_new_best(epoch_accu)"
      ],
      "execution_count": null,
      "outputs": [
        {
          "output_type": "stream",
          "text": [
            "/usr/local/lib/python3.6/dist-packages/torch/nn/modules/container.py:117: UserWarning: Implicit dimension choice for softmax has been deprecated. Change the call to include dim=X as an argument.\n",
            "  input = module(input)\n"
          ],
          "name": "stderr"
        },
        {
          "output_type": "stream",
          "text": [
            "\n",
            "Test set: Avg. loss: 1.4685, Accuracy: 9932/10000 (99%)\n",
            "\n"
          ],
          "name": "stdout"
        }
      ]
    },
    {
      "cell_type": "code",
      "metadata": {
        "id": "X4pj7MyY3PTv",
        "colab_type": "code",
        "colab": {
          "base_uri": "https://localhost:8080/",
          "height": 535
        },
        "outputId": "b33483ad-54be-4b00-fae0-224f901c3292"
      },
      "source": [
        "\n",
        "test_loader = torch.utils.data.DataLoader(\n",
        "  torchvision.datasets.MNIST(root='.', train=False, download=True,\n",
        "                             transform=torchvision.transforms.Compose([\n",
        "                               torchvision.transforms.ToTensor(),\n",
        "                               torchvision.transforms.Normalize(\n",
        "                                 (0.5,), (0.5,))\n",
        "                             ])),\n",
        "  batch_size=1, shuffle=True)\n",
        "\n",
        "# Define what device we are using\n",
        "print(\"CUDA Available: \",torch.cuda.is_available())\n",
        "use_cuda=True\n",
        "device = torch.device(\"cuda\" if (use_cuda and torch.cuda.is_available()) else \"cpu\")\n",
        "\n",
        "# Set the model in evaluation mode. In this case this is for the Dropout layers\n",
        "PATH = HOMEWORK_FOLDER+'/pre-trained model'\n",
        "model = HelloWorld().to(device)\n",
        "model.load_state_dict(torch.load(PATH))\n",
        "model.eval()"
      ],
      "execution_count": 7,
      "outputs": [
        {
          "output_type": "stream",
          "text": [
            "CUDA Available:  True\n"
          ],
          "name": "stdout"
        },
        {
          "output_type": "execute_result",
          "data": {
            "text/plain": [
              "HelloWorld(\n",
              "  (layer1): Sequential(\n",
              "    (Conv1): Conv2d(1, 32, kernel_size=(5, 5), stride=(1, 1), padding=(2, 2))\n",
              "    (BN1): BatchNorm2d(32, eps=1e-05, momentum=0.1, affine=True, track_running_stats=True)\n",
              "    (Relu1): ReLU()\n",
              "    (Pool1): AvgPool2d(kernel_size=2, stride=2, padding=0)\n",
              "  )\n",
              "  (layer2): Sequential(\n",
              "    (Conv2): Conv2d(32, 32, kernel_size=(5, 5), stride=(1, 1), padding=(2, 2))\n",
              "    (BN2): BatchNorm2d(32, eps=1e-05, momentum=0.1, affine=True, track_running_stats=True)\n",
              "    (Relu2): ReLU()\n",
              "    (Pool2): AvgPool2d(kernel_size=2, stride=2, padding=0)\n",
              "  )\n",
              "  (layer3): Sequential(\n",
              "    (Conv3): Conv2d(32, 64, kernel_size=(5, 5), stride=(1, 1), padding=(2, 2))\n",
              "    (BN3): BatchNorm2d(64, eps=1e-05, momentum=0.1, affine=True, track_running_stats=True)\n",
              "    (Relu3): ReLU()\n",
              "    (Pool3): AvgPool2d(kernel_size=2, stride=2, padding=0)\n",
              "  )\n",
              "  (fully_connected1): Sequential(\n",
              "    (FC1): Linear(in_features=576, out_features=64, bias=True)\n",
              "    (BNFC1): BatchNorm1d(64, eps=1e-05, momentum=0.1, affine=True, track_running_stats=True)\n",
              "    (ReluFC1): ReLU()\n",
              "  )\n",
              "  (fully_connected2): Sequential(\n",
              "    (FC2): Linear(in_features=64, out_features=10, bias=True)\n",
              "    (SoftMax): Softmax(dim=None)\n",
              "  )\n",
              ")"
            ]
          },
          "metadata": {
            "tags": []
          },
          "execution_count": 7
        }
      ]
    },
    {
      "cell_type": "markdown",
      "metadata": {
        "id": "LeWPRTuf_HqF",
        "colab_type": "text"
      },
      "source": [
        "# **Q 4.1**"
      ]
    },
    {
      "cell_type": "code",
      "metadata": {
        "id": "qht-u6pI83qo",
        "colab_type": "code",
        "colab": {
          "base_uri": "https://localhost:8080/",
          "height": 1000
        },
        "outputId": "9160c14b-55d9-427d-909d-3a86a56c419b"
      },
      "source": [
        "  def fgsm_attack(input_image, epsilon, perturbation_grad, perturbation):\n",
        "    sign_perturbation_grad = torch.sign(perturbation_grad.data)\n",
        "    perturbation.data += torch.clamp(epsilon * sign_perturbation_grad, min = 0, max = 1)\n",
        "    perturbed_image = input_image +  perturbation.data\n",
        "    perturbed_image = torch.clamp(perturbed_image, -1, 1)\n",
        "    perturbation.data = perturbed_image - input_image\n",
        "    return perturbation\n",
        "    \n",
        "  fig = plt.figure()\n",
        "  error = nn.CrossEntropyLoss()\n",
        "  for i in range(2):  \n",
        "    test_iterator=iter(test_loader)\n",
        "    test_images, test_labels=test_iterator.next()\n",
        "    test_images, test_labels=test_images.to(device), test_labels.to(device)\n",
        "    output = model(test_images)\n",
        "    predicted = torch.max(output.data, 1)[1] \n",
        "    print(\"true label: {} \".format(predicted.detach().cpu().item()))\n",
        "    orig_images=test_images.detach().cpu()\n",
        "    orig_images = np.squeeze(orig_images)\n",
        "    plt.imshow(orig_images)\n",
        "    plt.savefig(HOMEWORK_FOLDER+'/No.'+ str(i)+' original test_image.png')\n",
        "    plt.show()\n",
        "    # Accuracy counter\n",
        "    epsilon = 0.001\n",
        "    num_training_episode = 100000\n",
        "    data = test_images\n",
        "    target = test_labels\n",
        "    model.eval()\n",
        "\n",
        "    # Send the data and label to the device\n",
        "    data, target = data.to(device), target.to(device)\n",
        "    perturbation = torch.zeros(data.shape).to(device)\n",
        "    perturbation.requires_grad = True\n",
        "\n",
        "    # If the initial prediction is wrong, dont bother attacking, just move on\n",
        "    if predicted.item() == target.item():\n",
        "      for j in range(num_training_episode):\n",
        "          model.zero_grad()\n",
        "          output = model(data + perturbation)\n",
        "          loss = error(output, target)\n",
        "          loss.backward()\n",
        "          perturbation_grad = perturbation.grad.data\n",
        "          # Call FGSM Attack\n",
        "          perturbation = fgsm_attack(data, epsilon, perturbation_grad, perturbation)\n",
        "          \n",
        "          # Re-classify the perturbed image\n",
        "          output = model(data + perturbation)\n",
        "          predicted = torch.max(output.data, 1)[1]  # get the index of the max log-probability\n",
        "                    \n",
        "          # Calculate the loss       \n",
        "          if j % 100 == 1:\n",
        "            print('\\nloss: {:.3f}, current_predict_label: {}\\n'.format(\n",
        "            loss.detach().cpu().item(), predicted.detach().cpu().item()))\n",
        "\n",
        "          if predicted.item() != target.item() and torch.max(output.data)>= 0.9:\n",
        "            print(\"misclassified label: {} \".format(predicted.detach().cpu().item()))\n",
        "            final_perturbed_image = (data + perturbation).detach().cpu()\n",
        "            final_perturbed_image = np.squeeze(final_perturbed_image)\n",
        "            plt.imshow(final_perturbed_image)\n",
        "            plt.show() \n",
        "            plt.savefig(HOMEWORK_FOLDER+'/No.'+ str(i)+' perturbed test_image.png')\n",
        "            break\n"
      ],
      "execution_count": 9,
      "outputs": [
        {
          "output_type": "stream",
          "text": [
            "true label: 9 \n"
          ],
          "name": "stdout"
        },
        {
          "output_type": "stream",
          "text": [
            "/usr/local/lib/python3.6/dist-packages/torch/nn/modules/container.py:117: UserWarning: Implicit dimension choice for softmax has been deprecated. Change the call to include dim=X as an argument.\n",
            "  input = module(input)\n"
          ],
          "name": "stderr"
        },
        {
          "output_type": "display_data",
          "data": {
            "image/png": "[encoded data removed]",
            "text/plain": [
              "<Figure size 432x288 with 1 Axes>"
            ]
          },
          "metadata": {
            "tags": [],
            "needs_background": "light"
          }
        },
        {
          "output_type": "stream",
          "text": [
            "\n",
            "loss: 1.461, current_predict_label: 9\n",
            "\n",
            "\n",
            "loss: 1.466, current_predict_label: 9\n",
            "\n",
            "misclassified label: 4 \n"
          ],
          "name": "stdout"
        },
        {
          "output_type": "display_data",
          "data": {
            "image/png": "[encoded data removed]",
            "text/plain": [
              "<Figure size 432x288 with 1 Axes>"
            ]
          },
          "metadata": {
            "tags": [],
            "needs_background": "light"
          }
        },
        {
          "output_type": "stream",
          "text": [
            "true label: 6 \n"
          ],
          "name": "stdout"
        },
        {
          "output_type": "display_data",
          "data": {
            "image/png": "[encoded data removed]",
            "text/plain": [
              "<Figure size 432x288 with 1 Axes>"
            ]
          },
          "metadata": {
            "tags": [],
            "needs_background": "light"
          }
        },
        {
          "output_type": "stream",
          "text": [
            "\n",
            "loss: 1.461, current_predict_label: 6\n",
            "\n",
            "\n",
            "loss: 1.461, current_predict_label: 6\n",
            "\n",
            "\n",
            "loss: 1.461, current_predict_label: 6\n",
            "\n",
            "\n",
            "loss: 2.038, current_predict_label: 4\n",
            "\n",
            "misclassified label: 4 \n"
          ],
          "name": "stdout"
        },
        {
          "output_type": "display_data",
          "data": {
            "image/png": "[encoded data removed]",
            "text/plain": [
              "<Figure size 432x288 with 1 Axes>"
            ]
          },
          "metadata": {
            "tags": [],
            "needs_background": "light"
          }
        },
        {
          "output_type": "display_data",
          "data": {
            "text/plain": [
              "<Figure size 432x288 with 0 Axes>"
            ]
          },
          "metadata": {
            "tags": []
          }
        }
      ]
    },
    {
      "cell_type": "markdown",
      "metadata": {
        "id": "b_7Swy6w_Syk",
        "colab_type": "text"
      },
      "source": [
        "# Q 4.2"
      ]
    },
    {
      "cell_type": "code",
      "metadata": {
        "id": "ptIbh28qVmEu",
        "colab_type": "code",
        "colab": {
          "base_uri": "https://localhost:8080/",
          "height": 354
        },
        "outputId": "53cbc457-26c1-4cc0-9ea5-051ce770bd28"
      },
      "source": [
        "  test_iterator=iter(test_loader)\n",
        "  test_images, test_labels=test_iterator.next()\n",
        "  test_images, test_labels=test_images.to(device), test_labels.to(device)\n",
        "  output = model(test_images)\n",
        "  initial_predicted = torch.max(output.data, 1)[1] \n",
        "  orig_images=test_images.detach().cpu()\n",
        "  orig_images = np.squeeze(orig_images)\n",
        "  plt.imshow(orig_images)\n",
        "  plt.savefig(HOMEWORK_FOLDER+'/No.'+ str(2)+' original test_image.png')\n",
        "  plt.show()\n",
        "  print(\"true label: \"+ str(test_labels.cpu()))\n",
        "  print(\"initial predict: \"+ str(initial_predicted.cpu()))"
      ],
      "execution_count": 11,
      "outputs": [
        {
          "output_type": "stream",
          "text": [
            "/usr/local/lib/python3.6/dist-packages/torch/nn/modules/container.py:117: UserWarning: Implicit dimension choice for softmax has been deprecated. Change the call to include dim=X as an argument.\n",
            "  input = module(input)\n"
          ],
          "name": "stderr"
        },
        {
          "output_type": "display_data",
          "data": {
            "image/png": "[encoded data removed]",
            "text/plain": [
              "<Figure size 432x288 with 1 Axes>"
            ]
          },
          "metadata": {
            "tags": [],
            "needs_background": "light"
          }
        },
        {
          "output_type": "stream",
          "text": [
            "true label: tensor([6])\n",
            "initial predict: tensor([6])\n"
          ],
          "name": "stdout"
        }
      ]
    },
    {
      "cell_type": "code",
      "metadata": {
        "id": "_iI0dXRHBBHv",
        "colab_type": "code",
        "colab": {}
      },
      "source": [
        "def fgsm_attack(input_image, epsilon, perturbation_grad, perturbation):\n",
        "    sign_perturbation_grad = torch.sign(perturbation_grad.data)\n",
        "    perturbation.data += torch.clamp(epsilon * sign_perturbation_grad, min = 0, max = 1)\n",
        "    perturbed_image = input_image +  perturbation.data\n",
        "    perturbed_image = torch.clamp(perturbed_image, -1, 1)\n",
        "    perturbation.data = perturbed_image - input_image\n",
        "    return perturbation"
      ],
      "execution_count": null,
      "outputs": []
    },
    {
      "cell_type": "code",
      "metadata": {
        "id": "_Cevr1kx4EeD",
        "colab_type": "code",
        "colab": {
          "base_uri": "https://localhost:8080/",
          "height": 371
        },
        "outputId": "1516e403-6945-41e5-fb25-5c9458335f6a"
      },
      "source": [
        "  # Accuracy counter\n",
        "  epsilon = 0.2\n",
        "  num_training_episode = 100000\n",
        "  data = test_images\n",
        "  y_truth = test_labels\n",
        "  target = torch.tensor([4])\n",
        "  model.eval()\n",
        "  model.to(device)\n",
        "  error = nn.CrossEntropyLoss()\n",
        "\n",
        "  # Send the data and label to the device\n",
        "  data, target = data.to(device), target.to(device)\n",
        "  perturbation = torch.zeros(data.shape).to(device)\n",
        "  perturbation.requires_grad = True\n",
        "\n",
        "  # If the initial prediction is wrong, dont bother attacking, just move on\n",
        "  if initial_predicted.item() != target.item():\n",
        "    for j in range(num_training_episode):\n",
        "        model.zero_grad()\n",
        "        output = model(data + perturbation)\n",
        "        loss = -error(output, target)\n",
        "        loss.backward()\n",
        "        perturbation_grad = perturbation.grad.data\n",
        "        # Call FGSM Attack\n",
        "        perturbation = fgsm_attack(data, epsilon, perturbation_grad, perturbation)\n",
        "        \n",
        "        # Re-classify the perturbed image\n",
        "        output = model(data + perturbation)\n",
        "        predicted = torch.max(output.data, 1)[1]  # get the index of the max log-probability\n",
        "                  \n",
        "        # Calculate the loss       \n",
        "        if j % 100 == 1:\n",
        "          print('\\nloss: {:.3f}, current_predict_label: {}\\n'.format(\n",
        "          loss.detach().cpu().item(), predicted.detach().cpu().item()))\n",
        "        if predicted.item() == target.item():\n",
        "          print('\\ntrue label: {}, initial predict: {},target label:{}\\n'.format(\n",
        "              y_truth.detach().cpu().item(), initial_predicted.detach().cpu().item(),target.detach().cpu().item()))\n",
        "          final_perturbed_image = (data + perturbation).detach().cpu()\n",
        "          final_perturbed_image = np.squeeze(final_perturbed_image)\n",
        "          plt.imshow(final_perturbed_image) \n",
        "          plt.savefig(HOMEWORK_FOLDER+'/No.'+ str(2)+' perturbed test_image.png')\n",
        "          plt.show()\n",
        "          break\n"
      ],
      "execution_count": 17,
      "outputs": [
        {
          "output_type": "stream",
          "text": [
            "\n",
            "true label: 6, initial predict: 6,target label:4\n",
            "\n"
          ],
          "name": "stdout"
        },
        {
          "output_type": "stream",
          "text": [
            "/usr/local/lib/python3.6/dist-packages/torch/nn/modules/container.py:117: UserWarning: Implicit dimension choice for softmax has been deprecated. Change the call to include dim=X as an argument.\n",
            "  input = module(input)\n"
          ],
          "name": "stderr"
        },
        {
          "output_type": "display_data",
          "data": {
            "image/png": "[encoded data removed]",
            "text/plain": [
              "<Figure size 432x288 with 1 Axes>"
            ]
          },
          "metadata": {
            "tags": [],
            "needs_background": "light"
          }
        }
      ]
    },
    {
      "cell_type": "markdown",
      "metadata": {
        "id": "DTXDSTRi_Via",
        "colab_type": "text"
      },
      "source": [
        "# **Retrain network**"
      ]
    },
    {
      "cell_type": "code",
      "metadata": {
        "id": "klFoaKbFoFTs",
        "colab_type": "code",
        "colab": {
          "base_uri": "https://localhost:8080/",
          "height": 1000
        },
        "outputId": "849e0014-bc5a-41f2-d91a-bdd85558bea2"
      },
      "source": [
        "def train(epoch):\n",
        "    my_first_network.train()\n",
        "    running_loss = 0\n",
        "    running_correct = 0\n",
        "    for batch_idx, (data, target) in enumerate(train_loader):\n",
        "        data, target = data.to(device), target.to(device)\n",
        "        optimizer.zero_grad()\n",
        "        output = my_first_network(data)\n",
        "        loss = error(output, target) \n",
        "        running_loss += loss.item() * data.size(0)\n",
        "        loss.backward()\n",
        "        optimizer.step()\n",
        "        predicted = torch.max(output.data, 1)[1] \n",
        "        running_correct += (predicted == target).sum()\n",
        "        if batch_idx % display_interval == 0:\n",
        "          print('Epoch : {} [{}/{} ({:.0f}%)]\\tLoss: {:.6f}\\t Accuracy:{:.3f}%'.format(\n",
        "                    epoch, batch_idx*len(data), len(train_loader.dataset), 100.*batch_idx / len(train_loader), loss.item(), float(running_correct*100) / float(batch_size_train*(batch_idx + 1))))\n",
        "    epoch_loss = running_loss / len(train_loader.dataset)\n",
        "    epoch_accu = float(running_correct) / len(train_loader.dataset)\n",
        "    train_losses.append(epoch_loss)\n",
        "    train_accuracy.append(epoch_accu)\n",
        "    print('\\nTrain set: Avg. loss: {:.4f}, Accuracy: {}/{} ({:.0f}%)\\n'.format(\n",
        "        epoch_loss, running_correct, len(train_loader.dataset),\n",
        "        100. * running_correct / len(train_loader.dataset)))\n",
        "def test(epoch):\n",
        "  my_first_network.eval()\n",
        "  running_loss = 0\n",
        "  running_correct = 0\n",
        "  with torch.no_grad():\n",
        "    for data, target in test_loader:\n",
        "      data, target = data.to(device), target.to(device)\n",
        "      output = my_first_network(data)\n",
        "      running_loss += error(output, target).item()* data.size(0)\n",
        "      predicted = torch.max(output.data, 1)[1] \n",
        "      running_correct += (predicted == target).sum()\n",
        "  epoch_loss = running_loss / len(test_loader.dataset)\n",
        "  epoch_accu = float(running_correct) / len(test_loader.dataset)\n",
        "  test_losses.append(epoch_loss)\n",
        "  test_accuracy.append(epoch_accu)\n",
        "  print('\\nTest set: Avg. loss: {:.4f}, Accuracy: {}/{} ({:.0f}%)\\n'.format(\n",
        "    epoch_loss, running_correct, len(test_loader.dataset),\n",
        "    100. * running_correct / len(test_loader.dataset)))\n",
        "  is_new_best(epoch_accu)\n",
        "def is_new_best(epoch_accu):\n",
        "  if (epoch_accu > 0.99 and epoch_accu == max(test_accuracy)):\n",
        "    PATH = HOMEWORK_FOLDER+'/re-trained model'\n",
        "    torch.save(my_first_network.state_dict(), PATH)\n",
        "\n",
        "# Instantiate your network here\n",
        "torch.manual_seed(0)\n",
        "device = torch.device('cuda:0' if torch.cuda.is_available() else 'cpu')\n",
        "my_first_network = HelloWorld().to(device)\n",
        "learning_rate = 0.002\n",
        "optimizer = torch.optim.Adam(my_first_network.parameters(),lr=learning_rate)\n",
        "error = nn.CrossEntropyLoss()\n",
        "display_interval = 50\n",
        "train_losses = []\n",
        "train_accuracy = []\n",
        "test_losses = []\n",
        "test_accuracy = []\n",
        "# Train your network here\n",
        "num_epochs = 5\n",
        "for epoch in range(num_epochs):\n",
        "  train(epoch)\n",
        "  test(epoch)"
      ],
      "execution_count": null,
      "outputs": [
        {
          "output_type": "stream",
          "text": [
            "/usr/local/lib/python3.6/dist-packages/torch/nn/modules/container.py:117: UserWarning: Implicit dimension choice for softmax has been deprecated. Change the call to include dim=X as an argument.\n",
            "  input = module(input)\n"
          ],
          "name": "stderr"
        },
        {
          "output_type": "stream",
          "text": [
            "Epoch : 0 [0/60000 (0%)]\tLoss: 2.307219\t Accuracy:7.812%\n",
            "Epoch : 0 [3200/60000 (5%)]\tLoss: 1.552687\t Accuracy:86.183%\n",
            "Epoch : 0 [6400/60000 (11%)]\tLoss: 1.503319\t Accuracy:91.213%\n",
            "Epoch : 0 [9600/60000 (16%)]\tLoss: 1.503727\t Accuracy:93.295%\n",
            "Epoch : 0 [12800/60000 (21%)]\tLoss: 1.480079\t Accuracy:94.356%\n",
            "Epoch : 0 [16000/60000 (27%)]\tLoss: 1.499316\t Accuracy:95.070%\n",
            "Epoch : 0 [19200/60000 (32%)]\tLoss: 1.505063\t Accuracy:95.556%\n",
            "Epoch : 0 [22400/60000 (37%)]\tLoss: 1.510811\t Accuracy:95.909%\n",
            "Epoch : 0 [25600/60000 (43%)]\tLoss: 1.495653\t Accuracy:96.213%\n",
            "Epoch : 0 [28800/60000 (48%)]\tLoss: 1.472222\t Accuracy:96.421%\n",
            "Epoch : 0 [32000/60000 (53%)]\tLoss: 1.484020\t Accuracy:96.588%\n",
            "Epoch : 0 [35200/60000 (59%)]\tLoss: 1.464949\t Accuracy:96.764%\n",
            "Epoch : 0 [38400/60000 (64%)]\tLoss: 1.489666\t Accuracy:96.883%\n",
            "Epoch : 0 [41600/60000 (69%)]\tLoss: 1.486131\t Accuracy:96.988%\n",
            "Epoch : 0 [44800/60000 (75%)]\tLoss: 1.493021\t Accuracy:97.091%\n",
            "Epoch : 0 [48000/60000 (80%)]\tLoss: 1.462478\t Accuracy:97.179%\n",
            "Epoch : 0 [51200/60000 (85%)]\tLoss: 1.466237\t Accuracy:97.257%\n",
            "Epoch : 0 [54400/60000 (91%)]\tLoss: 1.507622\t Accuracy:97.341%\n",
            "Epoch : 0 [57600/60000 (96%)]\tLoss: 1.491165\t Accuracy:97.409%\n",
            "\n",
            "Train set: Avg. loss: 1.5058, Accuracy: 58466/60000 (97%)\n",
            "\n",
            "\n",
            "Test set: Avg. loss: 1.4810, Accuracy: 9826/10000 (98%)\n",
            "\n",
            "Epoch : 1 [0/60000 (0%)]\tLoss: 1.476982\t Accuracy:98.438%\n",
            "Epoch : 1 [3200/60000 (5%)]\tLoss: 1.473139\t Accuracy:98.836%\n",
            "Epoch : 1 [6400/60000 (11%)]\tLoss: 1.471776\t Accuracy:98.886%\n",
            "Epoch : 1 [9600/60000 (16%)]\tLoss: 1.498341\t Accuracy:98.789%\n",
            "Epoch : 1 [12800/60000 (21%)]\tLoss: 1.471927\t Accuracy:98.725%\n",
            "Epoch : 1 [16000/60000 (27%)]\tLoss: 1.476711\t Accuracy:98.774%\n",
            "Epoch : 1 [19200/60000 (32%)]\tLoss: 1.480461\t Accuracy:98.796%\n",
            "Epoch : 1 [22400/60000 (37%)]\tLoss: 1.470285\t Accuracy:98.771%\n",
            "Epoch : 1 [25600/60000 (43%)]\tLoss: 1.486327\t Accuracy:98.773%\n",
            "Epoch : 1 [28800/60000 (48%)]\tLoss: 1.463680\t Accuracy:98.780%\n",
            "Epoch : 1 [32000/60000 (53%)]\tLoss: 1.487318\t Accuracy:98.756%\n",
            "Epoch : 1 [35200/60000 (59%)]\tLoss: 1.462967\t Accuracy:98.752%\n",
            "Epoch : 1 [38400/60000 (64%)]\tLoss: 1.470326\t Accuracy:98.749%\n",
            "Epoch : 1 [41600/60000 (69%)]\tLoss: 1.505137\t Accuracy:98.745%\n",
            "Epoch : 1 [44800/60000 (75%)]\tLoss: 1.462849\t Accuracy:98.738%\n",
            "Epoch : 1 [48000/60000 (80%)]\tLoss: 1.461442\t Accuracy:98.760%\n",
            "Epoch : 1 [51200/60000 (85%)]\tLoss: 1.461498\t Accuracy:98.769%\n",
            "Epoch : 1 [54400/60000 (91%)]\tLoss: 1.461507\t Accuracy:98.764%\n",
            "Epoch : 1 [57600/60000 (96%)]\tLoss: 1.494100\t Accuracy:98.757%\n",
            "\n",
            "Train set: Avg. loss: 1.4754, Accuracy: 59262/60000 (99%)\n",
            "\n",
            "\n",
            "Test set: Avg. loss: 1.4751, Accuracy: 9870/10000 (99%)\n",
            "\n",
            "Epoch : 2 [0/60000 (0%)]\tLoss: 1.472067\t Accuracy:98.438%\n",
            "Epoch : 2 [3200/60000 (5%)]\tLoss: 1.462060\t Accuracy:99.142%\n",
            "Epoch : 2 [6400/60000 (11%)]\tLoss: 1.495187\t Accuracy:99.134%\n",
            "Epoch : 2 [9600/60000 (16%)]\tLoss: 1.462733\t Accuracy:99.110%\n",
            "Epoch : 2 [12800/60000 (21%)]\tLoss: 1.461271\t Accuracy:99.067%\n",
            "Epoch : 2 [16000/60000 (27%)]\tLoss: 1.461288\t Accuracy:99.079%\n",
            "Epoch : 2 [19200/60000 (32%)]\tLoss: 1.466725\t Accuracy:99.071%\n",
            "Epoch : 2 [22400/60000 (37%)]\tLoss: 1.464301\t Accuracy:99.052%\n",
            "Epoch : 2 [25600/60000 (43%)]\tLoss: 1.461251\t Accuracy:99.045%\n",
            "Epoch : 2 [28800/60000 (48%)]\tLoss: 1.477869\t Accuracy:99.061%\n",
            "Epoch : 2 [32000/60000 (53%)]\tLoss: 1.488203\t Accuracy:99.024%\n",
            "Epoch : 2 [35200/60000 (59%)]\tLoss: 1.461767\t Accuracy:99.007%\n",
            "Epoch : 2 [38400/60000 (64%)]\tLoss: 1.476919\t Accuracy:98.994%\n",
            "Epoch : 2 [41600/60000 (69%)]\tLoss: 1.486360\t Accuracy:98.973%\n",
            "Epoch : 2 [44800/60000 (75%)]\tLoss: 1.476916\t Accuracy:98.979%\n",
            "Epoch : 2 [48000/60000 (80%)]\tLoss: 1.499492\t Accuracy:98.976%\n",
            "Epoch : 2 [51200/60000 (85%)]\tLoss: 1.465247\t Accuracy:98.947%\n",
            "Epoch : 2 [54400/60000 (91%)]\tLoss: 1.464087\t Accuracy:98.942%\n",
            "Epoch : 2 [57600/60000 (96%)]\tLoss: 1.463401\t Accuracy:98.942%\n",
            "\n",
            "Train set: Avg. loss: 1.4728, Accuracy: 59369/60000 (99%)\n",
            "\n",
            "\n",
            "Test set: Avg. loss: 1.4728, Accuracy: 9892/10000 (99%)\n",
            "\n",
            "Epoch : 3 [0/60000 (0%)]\tLoss: 1.467951\t Accuracy:100.000%\n",
            "Epoch : 3 [3200/60000 (5%)]\tLoss: 1.476717\t Accuracy:99.173%\n",
            "Epoch : 3 [6400/60000 (11%)]\tLoss: 1.491557\t Accuracy:99.103%\n",
            "Epoch : 3 [9600/60000 (16%)]\tLoss: 1.476907\t Accuracy:99.100%\n",
            "Epoch : 3 [12800/60000 (21%)]\tLoss: 1.471168\t Accuracy:99.067%\n",
            "Epoch : 3 [16000/60000 (27%)]\tLoss: 1.461220\t Accuracy:99.066%\n",
            "Epoch : 3 [19200/60000 (32%)]\tLoss: 1.481920\t Accuracy:99.050%\n",
            "Epoch : 3 [22400/60000 (37%)]\tLoss: 1.487497\t Accuracy:98.981%\n",
            "Epoch : 3 [25600/60000 (43%)]\tLoss: 1.463784\t Accuracy:98.987%\n",
            "Epoch : 3 [28800/60000 (48%)]\tLoss: 1.462220\t Accuracy:98.985%\n",
            "Epoch : 3 [32000/60000 (53%)]\tLoss: 1.465447\t Accuracy:99.027%\n",
            "Epoch : 3 [35200/60000 (59%)]\tLoss: 1.461233\t Accuracy:99.022%\n",
            "Epoch : 3 [38400/60000 (64%)]\tLoss: 1.467915\t Accuracy:99.009%\n",
            "Epoch : 3 [41600/60000 (69%)]\tLoss: 1.474922\t Accuracy:99.011%\n",
            "Epoch : 3 [44800/60000 (75%)]\tLoss: 1.491722\t Accuracy:99.037%\n",
            "Epoch : 3 [48000/60000 (80%)]\tLoss: 1.461195\t Accuracy:99.039%\n",
            "Epoch : 3 [51200/60000 (85%)]\tLoss: 1.461167\t Accuracy:99.052%\n",
            "Epoch : 3 [54400/60000 (91%)]\tLoss: 1.462453\t Accuracy:99.045%\n",
            "Epoch : 3 [57600/60000 (96%)]\tLoss: 1.472739\t Accuracy:99.050%\n",
            "\n",
            "Train set: Avg. loss: 1.4716, Accuracy: 59422/60000 (99%)\n",
            "\n",
            "\n",
            "Test set: Avg. loss: 1.4717, Accuracy: 9900/10000 (99%)\n",
            "\n",
            "Epoch : 4 [0/60000 (0%)]\tLoss: 1.490225\t Accuracy:96.875%\n",
            "Epoch : 4 [3200/60000 (5%)]\tLoss: 1.464735\t Accuracy:98.836%\n",
            "Epoch : 4 [6400/60000 (11%)]\tLoss: 1.477523\t Accuracy:98.963%\n",
            "Epoch : 4 [9600/60000 (16%)]\tLoss: 1.476000\t Accuracy:99.027%\n",
            "Epoch : 4 [12800/60000 (21%)]\tLoss: 1.476639\t Accuracy:99.083%\n",
            "Epoch : 4 [16000/60000 (27%)]\tLoss: 1.481853\t Accuracy:99.104%\n",
            "Epoch : 4 [19200/60000 (32%)]\tLoss: 1.461158\t Accuracy:99.154%\n",
            "Epoch : 4 [22400/60000 (37%)]\tLoss: 1.476813\t Accuracy:99.136%\n",
            "Epoch : 4 [25600/60000 (43%)]\tLoss: 1.461559\t Accuracy:99.186%\n",
            "Epoch : 4 [28800/60000 (48%)]\tLoss: 1.483675\t Accuracy:99.144%\n",
            "Epoch : 4 [32000/60000 (53%)]\tLoss: 1.465802\t Accuracy:99.180%\n",
            "Epoch : 4 [35200/60000 (59%)]\tLoss: 1.476641\t Accuracy:99.178%\n",
            "Epoch : 4 [38400/60000 (64%)]\tLoss: 1.476798\t Accuracy:99.165%\n",
            "Epoch : 4 [41600/60000 (69%)]\tLoss: 1.462330\t Accuracy:99.194%\n",
            "Epoch : 4 [44800/60000 (75%)]\tLoss: 1.470582\t Accuracy:99.193%\n",
            "Epoch : 4 [48000/60000 (80%)]\tLoss: 1.462588\t Accuracy:99.174%\n",
            "Epoch : 4 [51200/60000 (85%)]\tLoss: 1.488967\t Accuracy:99.171%\n",
            "Epoch : 4 [54400/60000 (91%)]\tLoss: 1.463398\t Accuracy:99.179%\n",
            "Epoch : 4 [57600/60000 (96%)]\tLoss: 1.462226\t Accuracy:99.188%\n",
            "\n",
            "Train set: Avg. loss: 1.4699, Accuracy: 59519/60000 (99%)\n",
            "\n",
            "\n",
            "Test set: Avg. loss: 1.4706, Accuracy: 9913/10000 (99%)\n",
            "\n"
          ],
          "name": "stdout"
        }
      ]
    },
    {
      "cell_type": "code",
      "metadata": {
        "id": "4MimavZsBNLR",
        "colab_type": "code",
        "colab": {
          "base_uri": "https://localhost:8080/",
          "height": 297
        },
        "outputId": "22e5fa16-c591-4884-ef75-6f57b752f209"
      },
      "source": [
        "import numpy as np\n",
        "import matplotlib.pyplot as plt\n",
        "\n",
        "fig, axs = plt.subplots(2, 1)\n",
        "axs[0].plot(np.arange(1, num_epochs + 1), np.array(train_losses))\n",
        "axs[0].plot(np.arange(1, num_epochs + 1), np.array(test_losses))\n",
        "axs[0].legend(['Train','Test'], loc='upper right')\n",
        "axs[0].set_xlabel('Number of Epochs')\n",
        "axs[0].set_xlabel('Cross Entropy Loss')\n",
        "axs[0].set_xticks(range(1,num_epochs + 1))\n",
        "axs[0].set_title('Cross Entropy Loss of Training and Testing')\n",
        "\n",
        "axs[1].plot(np.arange(1, num_epochs + 1), np.array(train_accuracy))\n",
        "axs[1].plot(np.arange(1, num_epochs + 1), np.array(test_accuracy))\n",
        "axs[1].legend(['Train','Test'], loc='upper right')\n",
        "axs[1].set_xlabel('Number of Epochs')\n",
        "axs[1].set_ylabel('Accuracy')\n",
        "axs[1].set_xticks(range(1,num_epochs + 1))\n",
        "axs[1].set_title('Accuracy of training and testing')\n",
        "\n",
        "plt.savefig(HOMEWORK_FOLDER+'/training and testing curve.png')\n",
        "plt.tight_layout()\n",
        "plt.show()"
      ],
      "execution_count": null,
      "outputs": [
        {
          "output_type": "display_data",
          "data": {
            "image/png": "[encoded data removed]",
            "text/plain": [
              "<Figure size 432x288 with 2 Axes>"
            ]
          },
          "metadata": {
            "tags": [],
            "needs_background": "light"
          }
        }
      ]
    },
    {
      "cell_type": "code",
      "metadata": {
        "id": "jnDRXnTJD1W7",
        "colab_type": "code",
        "colab": {}
      },
      "source": [
        ""
      ],
      "execution_count": null,
      "outputs": []
    }
  ]
}
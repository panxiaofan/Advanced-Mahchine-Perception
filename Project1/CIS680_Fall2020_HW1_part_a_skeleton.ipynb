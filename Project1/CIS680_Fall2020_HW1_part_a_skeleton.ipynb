{
  "nbformat": 4,
  "nbformat_minor": 0,
  "metadata": {
    "colab": {
      "name": "CIS680_Fall2020_HW1_part_a.ipynb",
      "provenance": [],
      "collapsed_sections": [],
      "include_colab_link": true
    },
    "kernelspec": {
      "name": "python3",
      "display_name": "Python 3"
    },
    "accelerator": "GPU"
  },
  "cells": [
    {
      "cell_type": "markdown",
      "metadata": {
        "id": "view-in-github",
        "colab_type": "text"
      },
      "source": [
        "<a href=\"https://colab.research.google.com/github/panxiaofan/Advanced-Mahchine-Perception/blob/master/CIS680_Fall2020_HW1_part_a.ipynb\" target=\"_parent\"><img src=\"https://colab.research.google.com/assets/colab-badge.svg\" alt=\"Open In Colab\"/></a>"
      ]
    },
    {
      "cell_type": "markdown",
      "metadata": {
        "id": "mHbNxdP6eLd2",
        "colab_type": "text"
      },
      "source": [
        "# Google Drive\n",
        "\n",
        "This first code block attaches your google drive and makes a folder structure. You only need to run this when a new VM is assigned to you. To get your code as a single python file go through the following menus File->'Download .py'"
      ]
    },
    {
      "cell_type": "code",
      "metadata": {
        "id": "PYICcmTfdm0J",
        "colab_type": "code",
        "colab": {}
      },
      "source": [
        "import os\n",
        "from google.colab import drive\n",
        "\n",
        "# Mount google drive\n",
        "DRIVE_MOUNT='/content/gdrive'\n",
        "drive.mount(DRIVE_MOUNT)\n",
        "\n",
        "\n",
        "# create folder to write data to\n",
        "CIS680_FOLDER=os.path.join(DRIVE_MOUNT, 'My Drive', 'CIS680_2019')\n",
        "HOMEWORK_FOLDER=os.path.join(CIS680_FOLDER, 'HW1')\n",
        "os.makedirs(HOMEWORK_FOLDER, exist_ok=True)"
      ],
      "execution_count": null,
      "outputs": []
    },
    {
      "cell_type": "markdown",
      "metadata": {
        "id": "pw-yUtFqiNFR",
        "colab_type": "text"
      },
      "source": [
        "# PyTorch\n",
        "\n",
        "This code block imports torch and torchvision which provide the libraries for use down below. PyTorch provides many utilities such as standard datasets, for this exercise we will use MNIST. Please see the torchvision documentation for how to instantiate the training and testing data split."
      ]
    },
    {
      "cell_type": "code",
      "metadata": {
        "id": "hguIwry8iH9S",
        "colab_type": "code",
        "colab": {}
      },
      "source": [
        "# torch and torchvision imports\n",
        "import torch\n",
        "import torchvision\n",
        "\n",
        "# Download MNIST\n",
        "torchvision.datasets.MNIST('.', download=True)"
      ],
      "execution_count": null,
      "outputs": []
    },
    {
      "cell_type": "markdown",
      "metadata": {
        "id": "gOkeza5Mgou_",
        "colab_type": "text"
      },
      "source": [
        "# 1)  Plot Loss and Gradient"
      ]
    },
    {
      "cell_type": "code",
      "metadata": {
        "id": "czpCwWgmh7AD",
        "colab_type": "code",
        "colab": {}
      },
      "source": [
        "import matplotlib.pyplot as plt\n",
        "from mpl_toolkits.mplot3d import Axes3D"
      ],
      "execution_count": null,
      "outputs": []
    },
    {
      "cell_type": "markdown",
      "metadata": {
        "id": "zDRbZRAsh7km",
        "colab_type": "text"
      },
      "source": [
        "# 2) Solving XOR with a 2-layer Perceptron"
      ]
    },
    {
      "cell_type": "code",
      "metadata": {
        "id": "auuQRjUIh_5Z",
        "colab_type": "code",
        "colab": {}
      },
      "source": [
        "# Make your datset here\n",
        "input = None\n",
        "labels = None\n",
        "\n",
        "# Make your network here\n",
        "net = None\n",
        "\n",
        "# Train and plot here\n",
        "for i in range(1000):\n",
        "  continue"
      ],
      "execution_count": null,
      "outputs": []
    },
    {
      "cell_type": "markdown",
      "metadata": {
        "id": "EvNh3B3FiAPY",
        "colab_type": "text"
      },
      "source": [
        "# 3) Train a Convolutional Neural Network"
      ]
    },
    {
      "cell_type": "code",
      "metadata": {
        "id": "hQuOI_n_iEiF",
        "colab_type": "code",
        "colab": {}
      },
      "source": [
        "# Create your network here\n",
        "class HelloWorld(torch.nn.Module):\n",
        "  def __init__(self):\n",
        "    pass\n",
        "  \n",
        "  def forward(self, x):\n",
        "    return x\n",
        "  \n",
        "# Instantiate your network here\n",
        "my_first_network = HelloWorld()\n",
        "\n",
        "# Train your network here\n",
        "num_epochs = 10\n",
        "for epoch in range(num_epochs):\n",
        "  print(\"Epoch %d/%d\" % (epoch+1, num_epochs))"
      ],
      "execution_count": null,
      "outputs": []
    }
  ]
}
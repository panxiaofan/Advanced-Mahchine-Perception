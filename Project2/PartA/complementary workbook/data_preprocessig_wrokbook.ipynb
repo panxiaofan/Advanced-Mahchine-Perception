{
  "nbformat": 4,
  "nbformat_minor": 0,
  "metadata": {
    "colab": {
      "name": "data_preprocessig_wrokbook.ipynb",
      "provenance": [],
      "collapsed_sections": [],
      "toc_visible": true
    },
    "kernelspec": {
      "name": "python3",
      "display_name": "Python 3"
    }
  },
  "cells": [
    {
      "cell_type": "markdown",
      "metadata": {
        "id": "X_81AzUzv07i",
        "colab_type": "text"
      },
      "source": [
        "# Google Drive\n",
        "\n",
        "This first code block attaches your google drive and makes a folder structure. You only need to run this when a new VM is assigned to you. To get your code as a single python file go through the following menus File->'Download .py'.\n",
        "\n",
        "This also downloads 2 npz files for your use: labels.npz and images.npz. For those not using colab you can download manually here:\n",
        "\n",
        "https://drive.google.com/open?id=1jIKQLhTHZUE6m2mE5lRKMSqN7ZGK2Gyu\n",
        "\n",
        "https://drive.google.com/open?id=1Gth_AVG5t-4ZhH_whOaXwe0PBXNhIIK0\n",
        "\n",
        "https://drive.google.com/file/d/1mm5mq7ngx5D2QHFedjucyUC3z0VDeSRj/view?usp=sharing\n"
      ]
    },
    {
      "cell_type": "code",
      "metadata": {
        "id": "sdTi3p-ZvNHL",
        "colab_type": "code",
        "colab": {}
      },
      "source": [
        "# from google.colab import drive\n",
        "# drive.mount('/content/drive')"
      ],
      "execution_count": null,
      "outputs": []
    },
    {
      "cell_type": "code",
      "metadata": {
        "id": "O24ne8z-vaJA",
        "colab_type": "code",
        "colab": {
          "base_uri": "https://localhost:8080/",
          "height": 34
        },
        "outputId": "b746b3e9-808b-47ff-9268-dbb2546f12c4"
      },
      "source": [
        "import os\n",
        "from google.colab import drive\n",
        "\n",
        "# Mount google drive\n",
        "DRIVE_MOUNT='/content/drive'\n",
        "drive.mount(DRIVE_MOUNT)\n",
        "\n",
        "\n",
        "# create folder to write data to\n",
        "CIS680_FOLDER=os.path.join(DRIVE_MOUNT, 'My Drive', 'CIS680_2019')\n",
        "HOMEWORK_FOLDER=os.path.join(CIS680_FOLDER, 'HW2')\n",
        "os.makedirs(HOMEWORK_FOLDER, exist_ok=True)\n",
        "\n",
        "# bootstrap environment into place\n",
        "from google.colab import auth\n",
        "auth.authenticate_user()\n",
        "\n",
        "from googleapiclient.discovery import build\n",
        "drive_service = build('drive', 'v3')\n",
        "\n",
        "import io\n",
        "import os\n",
        "from googleapiclient.http import MediaIoBaseDownload\n",
        "\n",
        "def download_file(fn, file_id):\n",
        "    request = drive_service.files().get_media(fileId=file_id)\n",
        "    downloaded = io.BytesIO()\n",
        "    downloader = MediaIoBaseDownload(downloaded, request)\n",
        "    done = False\n",
        "    while done is False:\n",
        "        # _ is a placeholder for a progress object that we ignore.\n",
        "        # (Our file is small, so we skip reporting progress.)\n",
        "        _, done = downloader.next_chunk()\n",
        "    \n",
        "    downloaded.seek(0)\n",
        "\n",
        "    folder = fn.split('/')\n",
        "    if len(folder) > 1:\n",
        "        os.makedirs(folder[0], exist_ok=True)\n",
        "\n",
        "    with open(fn, 'wb') as f:\n",
        "        f.write(downloaded.read())\n",
        "\n",
        "id_to_fn = {\n",
        "    '1Gth_AVG5t-4ZhH_whOaXwe0PBXNhIIK0': 'labels.npz',\n",
        "    '1jIKQLhTHZUE6m2mE5lRKMSqN7ZGK2Gyu': 'images.npz',\n",
        "    '1mm5mq7ngx5D2QHFedjucyUC3z0VDeSRj': 'test_y_labels.npz'       }\n",
        "\n",
        "\n",
        "    \n",
        "# download all files into the vm\n",
        "for fid, fn in id_to_fn.items():\n",
        "    download_file(fn, fid)\n"
      ],
      "execution_count": null,
      "outputs": [
        {
          "output_type": "stream",
          "text": [
            "Drive already mounted at /content/drive; to attempt to forcibly remount, call drive.mount(\"/content/drive\", force_remount=True).\n"
          ],
          "name": "stdout"
        }
      ]
    },
    {
      "cell_type": "markdown",
      "metadata": {
        "id": "ZJ7XGblg2w_P",
        "colab_type": "text"
      },
      "source": [
        "# Data Preprocessing\n",
        "\n",
        "Here you will implement a pytorch data processor that loads tha images and computes the ground truth labels as described in the PDF.\n"
      ]
    },
    {
      "cell_type": "code",
      "metadata": {
        "id": "24fZjFVT3YjD",
        "colab_type": "code",
        "colab": {}
      },
      "source": [
        "\n",
        "def create_y_label(image, raw_label):\n",
        "\n",
        "  return y_label\n",
        "\n",
        "\n"
      ],
      "execution_count": null,
      "outputs": []
    },
    {
      "cell_type": "markdown",
      "metadata": {
        "id": "qWf5lWIK66QU",
        "colab_type": "text"
      },
      "source": [
        "TEST your processed y_labels.\n",
        "\n",
        "The following test checks your create_y_labels function using the test_y_label.npz file."
      ]
    },
    {
      "cell_type": "code",
      "metadata": {
        "id": "ZVr7tgIfsTvP",
        "colab_type": "code",
        "colab": {}
      },
      "source": [
        "import numpy as np \n",
        "import pdb\n",
        "#path = os.path.join(HOMEWORK_FOLDER,'test_y_labels.npz')\n",
        "data = np.load(\"test_y_labels.npz\",allow_pickle=True)\n",
        "## the test data contains 5 - (image, raw_label, processed_label) that is 5 test cases \n",
        "\n",
        "img = data['image']   ## shape (5,3,128,18)\n",
        "raw_label = data['raw_label']\n",
        "true_y_label = data['y_label']  ## shape (5,8,8,8)\n",
        "\n",
        "\n",
        "## fill in your code to compute the your processed y_label\n",
        "y_label = np.zeros((5,8,8,8))\n",
        "\n",
        "for i, label in enumerate(raw_label):\n",
        "  y_label[i] = create_y_label(img[i], label)\n",
        "\n",
        "# test you processed labels\n",
        "for i in range(len(img)):\n",
        "  comparison = y_label[i] == true_y_label[i]\n",
        "  equal_arrays = comparison.all()\n",
        "  print('Completed TEST CASE {}: {}'.format(i+1,equal_arrays))\n"
      ],
      "execution_count": null,
      "outputs": []
    },
    {
      "cell_type": "markdown",
      "metadata": {
        "id": "fErrCGJeAg_m",
        "colab_type": "text"
      },
      "source": [
        "Test your DATASET\n",
        "\n",
        "Test your data processing by plotting the images and the processed labels. Compare against the raw labels. "
      ]
    },
    {
      "cell_type": "code",
      "metadata": {
        "id": "rUuvSfAM7GSo",
        "colab_type": "code",
        "colab": {}
      },
      "source": [
        "import numpy as np\n",
        "\n",
        "def loadData(image_path, labels_path):\n",
        "  ## use 0.8*no_images as the training data and the remaining as test data.\n",
        "\n",
        "\n",
        "  return train_images, train_raw_lables, test_images, test_raw_labels.\n",
        "\n",
        "\n"
      ],
      "execution_count": null,
      "outputs": []
    },
    {
      "cell_type": "markdown",
      "metadata": {
        "id": "TVEFEe4HVu1D",
        "colab_type": "text"
      },
      "source": [
        "Create y_labels for the dataset"
      ]
    },
    {
      "cell_type": "code",
      "metadata": {
        "id": "EoYgAOVDV0Yi",
        "colab_type": "code",
        "colab": {}
      },
      "source": [
        "train_images, train_raw_labels, test_images, test_raw_labels = loadData(\"images.npz\", \"labels.npz\")\n",
        "\n",
        "train_y_labels = np.zeros((len(train_images),8,8,8))\n",
        "for i in range(len(train_images)):\n",
        "  train_y_labels[i,:,:,:] = create_y_labels(train_images[i], train_raw_labels[i])\n",
        "\n",
        "test_y_labels = np.zeros((len(test_images),8,8,8))\n",
        "for i in range(len(test_images)):\n",
        "  test_y_labels[i,:,:,:] = create_y_labels(test_images[i], test_raw_labels[i])\n"
      ],
      "execution_count": null,
      "outputs": []
    },
    {
      "cell_type": "markdown",
      "metadata": {
        "id": "HuipmoCXWDzG",
        "colab_type": "text"
      },
      "source": [
        "Plot your raw y labels and processed y labels on their respective images"
      ]
    },
    {
      "cell_type": "code",
      "metadata": {
        "id": "CR67aRDVWP-p",
        "colab_type": "code",
        "colab": {}
      },
      "source": [
        "import matplotlib.pyplot as plt\n",
        "import matplotlib.patches as patches"
      ],
      "execution_count": null,
      "outputs": []
    }
  ]
}
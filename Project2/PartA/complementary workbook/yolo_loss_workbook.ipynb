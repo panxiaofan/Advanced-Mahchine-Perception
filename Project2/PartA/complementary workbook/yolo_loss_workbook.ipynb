{
  "nbformat": 4,
  "nbformat_minor": 0,
  "metadata": {
    "colab": {
      "name": "yolo_loss_workbook.ipynb",
      "provenance": [],
      "collapsed_sections": [],
      "toc_visible": true
    },
    "kernelspec": {
      "name": "python3",
      "display_name": "Python 3"
    }
  },
  "cells": [
    {
      "cell_type": "markdown",
      "metadata": {
        "id": "X_81AzUzv07i",
        "colab_type": "text"
      },
      "source": [
        "# Google Drive\n",
        "\n",
        "This first code block attaches your google drive and makes a folder structure. You only need to run this when a new VM is assigned to you. To get your code as a single python file go through the following menus File->'Download .py'.\n",
        "\n",
        "This also downloads 2 npz files for your use: labels.npz and images.npz. For those not using colab you can download manually here:\n",
        "\n",
        "https://drive.google.com/open?id=1jIKQLhTHZUE6m2mE5lRKMSqN7ZGK2Gyu\n",
        "\n",
        "https://drive.google.com/open?id=1Gth_AVG5t-4ZhH_whOaXwe0PBXNhIIK0\n",
        "\n",
        "https://drive.google.com/file/d/1tkpFDxbpP61OEic7EP4LOhUKclYJLlwr/view?usp=sharing\n",
        "\n",
        "https://drive.google.com/file/d/1wuDhxLk2QAmvio-iGVUyLWZbp8DfY8OI/view?usp=sharing"
      ]
    },
    {
      "cell_type": "code",
      "metadata": {
        "id": "sdTi3p-ZvNHL",
        "colab_type": "code",
        "colab": {}
      },
      "source": [
        "# from google.colab import drive\n",
        "# drive.mount('/content/drive')"
      ],
      "execution_count": null,
      "outputs": []
    },
    {
      "cell_type": "code",
      "metadata": {
        "id": "O24ne8z-vaJA",
        "colab_type": "code",
        "colab": {}
      },
      "source": [
        "import os\n",
        "from google.colab import drive\n",
        "\n",
        "# Mount google drive\n",
        "DRIVE_MOUNT='/content/drive'\n",
        "drive.mount(DRIVE_MOUNT)\n",
        "\n",
        "\n",
        "# create folder to write data to\n",
        "CIS680_FOLDER=os.path.join(DRIVE_MOUNT, 'My Drive', 'CIS680_2019')\n",
        "HOMEWORK_FOLDER=os.path.join(CIS680_FOLDER, 'HW2')\n",
        "os.makedirs(HOMEWORK_FOLDER, exist_ok=True)\n",
        "\n",
        "# bootstrap environment into place\n",
        "from google.colab import auth\n",
        "auth.authenticate_user()\n",
        "\n",
        "from googleapiclient.discovery import build\n",
        "drive_service = build('drive', 'v3')\n",
        "\n",
        "import io\n",
        "import os\n",
        "from googleapiclient.http import MediaIoBaseDownload\n",
        "\n",
        "def download_file(fn, file_id):\n",
        "    request = drive_service.files().get_media(fileId=file_id)\n",
        "    downloaded = io.BytesIO()\n",
        "    downloader = MediaIoBaseDownload(downloaded, request)\n",
        "    done = False\n",
        "    while done is False:\n",
        "        # _ is a placeholder for a progress object that we ignore.\n",
        "        # (Our file is small, so we skip reporting progress.)\n",
        "        _, done = downloader.next_chunk()\n",
        "    \n",
        "    downloaded.seek(0)\n",
        "\n",
        "    folder = fn.split('/')\n",
        "    if len(folder) > 1:\n",
        "        os.makedirs(folder[0], exist_ok=True)\n",
        "\n",
        "    with open(fn, 'wb') as f:\n",
        "        f.write(downloaded.read())\n",
        "\n",
        "id_to_fn = {\n",
        "    '1Gth_AVG5t-4ZhH_whOaXwe0PBXNhIIK0': 'labels.npz',\n",
        "    '1jIKQLhTHZUE6m2mE5lRKMSqN7ZGK2Gyu': 'images.npz',\n",
        "    '1tkpFDxbpP61OEic7EP4LOhUKclYJLlwr': 'test_y_label.npz', \n",
        "    '1wuDhxLk2QAmvio-iGVUyLWZbp8DfY8OI': 'test_yolo_loss.npz'     }\n",
        "\n",
        "# download all files into the vm\n",
        "for fid, fn in id_to_fn.items():\n",
        "    download_file(fn, fid)\n"
      ],
      "execution_count": null,
      "outputs": []
    },
    {
      "cell_type": "markdown",
      "metadata": {
        "id": "3T6uUevnBLGr",
        "colab_type": "text"
      },
      "source": [
        "# Yolo Loss"
      ]
    },
    {
      "cell_type": "code",
      "metadata": {
        "id": "mSHSW3zfBqZU",
        "colab_type": "code",
        "colab": {}
      },
      "source": [
        "def IOU(predicted ,target):\n",
        "\n",
        "\n",
        "\n",
        "  return iou\n",
        "\n",
        "\n",
        "\n",
        "\n",
        "\n",
        "def YoloLoss(output, target, lambda_coord, lambda_noobj):\n",
        "  ## please fill in additional arguements\n",
        "\n",
        "  return loss\n",
        "\n",
        "\n"
      ],
      "execution_count": null,
      "outputs": []
    },
    {
      "cell_type": "markdown",
      "metadata": {
        "id": "GMBpVSa3W1v5",
        "colab_type": "text"
      },
      "source": [
        "TEST your loss function"
      ]
    },
    {
      "cell_type": "code",
      "metadata": {
        "id": "S9lMVZHlW1Fr",
        "colab_type": "code",
        "colab": {}
      },
      "source": [
        "import numpy as np\n",
        "import pdb\n",
        "import torch\n",
        "\n",
        "#path = os.path.join(HOMEWORK_FOLDER,'test_yolo_loss.npz')\n",
        "data = np.load('test_yolo_loss.npz',allow_pickle=True)\n",
        "\n",
        "## the test data contains 10 - (predicted_ouput, target, true_loss) that is 10 test cases \n",
        "\n",
        "predicted = data['pred']   ## shape (10,1,8,8,8)\n",
        "target = data['target']   ## shape (10,1,8,8,8)\n",
        "true_loss = data['loss']  ## shape (10,)\n",
        "\n",
        "for i  in range(len(predicted)):\n",
        "  computed_loss = YoloLoss(torch.from_numpy(predicted[i,:,:,:,:]), torch.from_numpy(target[i,:,:,:,:]), lambda_coord= 5, lambda_noobj =0.5)\n",
        "  print('TEST CASE {}: Computed Loss - {} Loss - {}'.format(i+1,computed_loss, true_loss[i]))\n",
        "\n",
        "\n",
        "\n",
        "\n"
      ],
      "execution_count": null,
      "outputs": []
    }
  ]
}